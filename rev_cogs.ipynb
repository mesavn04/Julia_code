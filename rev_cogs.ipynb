{
 "cells": [
  {
   "cell_type": "code",
   "execution_count": 9,
   "metadata": {},
   "outputs": [
    {
     "name": "stderr",
     "output_type": "stream",
     "text": [
      "\u001b[32m\u001b[1m   Resolving\u001b[22m\u001b[39m package versions..."
     ]
    },
    {
     "name": "stderr",
     "output_type": "stream",
     "text": [
      "\n",
      "\u001b[32m\u001b[1m  No Changes\u001b[22m\u001b[39m to `D:\\Software\\Portableapp\\JuliaPort\\userdata\\.julia\\environments\\v1.8\\Project.toml`\n",
      "\u001b[32m\u001b[1m  No Changes\u001b[22m\u001b[39m to `D:\\Software\\Portableapp\\JuliaPort\\userdata\\.julia\\environments\\v1.8\\Manifest.toml`"
     ]
    },
    {
     "name": "stderr",
     "output_type": "stream",
     "text": [
      "\n"
     ]
    }
   ],
   "source": [
    "# in case you have not installed to Pkg yet\n",
    "using Pkg\n",
    "Pkg.add(\"Taro\")"
   ]
  },
  {
   "cell_type": "code",
   "execution_count": 11,
   "metadata": {},
   "outputs": [
    {
     "data": {
      "text/plain": [
       "109-element Vector{NamedTuple{(:Group_name, :Manufacturer_Code, :Manufacturer_Name, :BU), NTuple{4, Any}}}:\n",
       " NamedTuple{(:Group_name, :Manufacturer_Code, :Manufacturer_Name, :BU), NTuple{4, Any}}((\"VẬT TƯ TIÊU HAO\", \"M00002\", \"3M VIETNAM\", \"Dược phân phối\"))\n",
       " NamedTuple{(:Group_name, :Manufacturer_Code, :Manufacturer_Name, :BU), NTuple{4, Any}}((\"VẬT TƯ TIÊU HAO\", \"M00007\", \"ASCENCIA\", \"VTTH\"))\n",
       " NamedTuple{(:Group_name, :Manufacturer_Code, :Manufacturer_Name, :BU), NTuple{4, Any}}((\"VẬT TƯ TIÊU HAO\", \"M00070\", \"CONVATEC\", \"Dược phân phối\"))\n",
       " NamedTuple{(:Group_name, :Manufacturer_Code, :Manufacturer_Name, :BU), NTuple{4, Any}}((\"DƯỢC PHẨM\", \"M00010\", \"BIOREC (CHEMO)\", \"Phòng mạch BS\"))\n",
       " NamedTuple{(:Group_name, :Manufacturer_Code, :Manufacturer_Name, :BU), NTuple{4, Any}}((\"DƯỢC PHẨM\", \"M00017\", \"GETZ\", \"Dược phân phối\"))\n",
       " NamedTuple{(:Group_name, :Manufacturer_Code, :Manufacturer_Name, :BU), NTuple{4, Any}}((\"DƯỢC PHẨM\", \"M00020\", \"HOE\", \"MSD (Tự doanh)\"))\n",
       " NamedTuple{(:Group_name, :Manufacturer_Code, :Manufacturer_Name, :BU), NTuple{4, Any}}((\"DƯỢC PHẨM\", \"M00021\", \"HYPHENS\", \"Dược phân phối\"))\n",
       " NamedTuple{(:Group_name, :Manufacturer_Code, :Manufacturer_Name, :BU), NTuple{4, Any}}((\"DƯỢC PHẨM\", \"M00023\", \"HANG LE\", \"Hàng lẻ\"))\n",
       " NamedTuple{(:Group_name, :Manufacturer_Code, :Manufacturer_Name, :BU), NTuple{4, Any}}((\"DƯỢC PHẨM\", \"M00025\", \"NOVARTIS\", \"Phòng mạch BS\"))\n",
       " NamedTuple{(:Group_name, :Manufacturer_Code, :Manufacturer_Name, :BU), NTuple{4, Any}}((\"DƯỢC PHẨM\", \"M00031\", \"ROHTO\", \"Dược phân phối\"))\n",
       " ⋮\n",
       " NamedTuple{(:Group_name, :Manufacturer_Code, :Manufacturer_Name, :BU), NTuple{4, Any}}((\"DƯỢC PHẨM\", \"M00137\", \"MEGA (DONG A)\", \"Nhà thầu phụ\"))\n",
       " NamedTuple{(:Group_name, :Manufacturer_Code, :Manufacturer_Name, :BU), NTuple{4, Any}}((missing, \"M00042\", \"BHARAT SERUMS&VACCINE\", \"Dược phân phối\"))\n",
       " NamedTuple{(:Group_name, :Manufacturer_Code, :Manufacturer_Name, :BU), NTuple{4, Any}}((\"DƯỢC PHẨM\", \"M00147\", \"GON SA\", \"Dược phân phối\"))\n",
       " NamedTuple{(:Group_name, :Manufacturer_Code, :Manufacturer_Name, :BU), NTuple{4, Any}}((\"DƯỢC PHẨM\", \"M00174\", \"DAI DUONG\", \"Nhà thầu phụ\"))\n",
       " NamedTuple{(:Group_name, :Manufacturer_Code, :Manufacturer_Name, :BU), NTuple{4, Any}}((\"TRANG TBYT\", \"M00175\", \"MERIT CO., LTD\", \"Medical Device\"))\n",
       " NamedTuple{(:Group_name, :Manufacturer_Code, :Manufacturer_Name, :BU), NTuple{4, Any}}((\"DƯỢC PHẨM\", \"M00176\", \"EISAI VIET NAM\", \"Dược phân phối\"))\n",
       " NamedTuple{(:Group_name, :Manufacturer_Code, :Manufacturer_Name, :BU), NTuple{4, Any}}((\"THỰC PHẨM CHỨC NĂNG\", \"M00177\", \"ELOVI VIET NAM\", \"Dược phân phối\"))\n",
       " NamedTuple{(:Group_name, :Manufacturer_Code, :Manufacturer_Name, :BU), NTuple{4, Any}}((\"TRANG TBYT\", \"M00178\", \"GETZ BROS & CO (VN)\", \"Dược phân phối\"))\n",
       " NamedTuple{(:Group_name, :Manufacturer_Code, :Manufacturer_Name, :BU), NTuple{4, Any}}((missing, \"M00179\", \"RV GROUP VN\", \"Dược phân phối\"))"
      ]
     },
     "metadata": {},
     "output_type": "display_data"
    }
   ],
   "source": [
    "# load Taro - Pkg to read Excel Data\n",
    "using Taro\n",
    "# Taro.init()\n",
    "\n",
    "# get data\n",
    "df = Taro.readxl(\"D:/HD/Downloads/Manufacture_data.xlsx\", \"Mft\", \"A1:D110\")\n",
    "# print(df)"
   ]
  },
  {
   "attachments": {},
   "cell_type": "markdown",
   "metadata": {},
   "source": [
    "# read Mft"
   ]
  },
  {
   "cell_type": "code",
   "execution_count": 12,
   "metadata": {},
   "outputs": [
    {
     "name": "stderr",
     "output_type": "stream",
     "text": [
      "\u001b[32m\u001b[1m   Resolving\u001b[22m\u001b[39m package versions..."
     ]
    },
    {
     "name": "stderr",
     "output_type": "stream",
     "text": [
      "\n",
      "\u001b[32m\u001b[1m  No Changes\u001b[22m\u001b[39m to `D:\\Software\\Portableapp\\JuliaPort\\userdata\\.julia\\environments\\v1.8\\Project.toml`\n",
      "\u001b[32m\u001b[1m  No Changes\u001b[22m\u001b[39m to `D:\\Software\\Portableapp\\JuliaPort\\userdata\\.julia\\environments\\v1.8\\Manifest.toml`\n"
     ]
    },
    {
     "data": {
      "text/plain": [
       "110×4 Matrix{Any}:\n",
       " \"Group_name\"           \"Manufacturer_Code\"  …  \"BU\"\n",
       " \"VẬT TƯ TIÊU HAO\"      \"M00002\"                \"Dược phân phối\"\n",
       " \"VẬT TƯ TIÊU HAO\"      \"M00007\"                \"VTTH\"\n",
       " \"VẬT TƯ TIÊU HAO\"      \"M00070\"                \"Dược phân phối\"\n",
       " \"DƯỢC PHẨM\"            \"M00010\"                \"Phòng mạch BS\"\n",
       " \"DƯỢC PHẨM\"            \"M00017\"             …  \"Dược phân phối\"\n",
       " \"DƯỢC PHẨM\"            \"M00020\"                \"MSD (Tự doanh)\"\n",
       " \"DƯỢC PHẨM\"            \"M00021\"                \"Dược phân phối\"\n",
       " \"DƯỢC PHẨM\"            \"M00023\"                \"Hàng lẻ\"\n",
       " \"DƯỢC PHẨM\"            \"M00025\"                \"Phòng mạch BS\"\n",
       " ⋮                                           ⋱  \n",
       " \"DƯỢC PHẨM\"            \"M00137\"                \"Nhà thầu phụ\"\n",
       " missing                \"M00042\"                \"Dược phân phối\"\n",
       " \"DƯỢC PHẨM\"            \"M00147\"                \"Dược phân phối\"\n",
       " \"DƯỢC PHẨM\"            \"M00174\"                \"Nhà thầu phụ\"\n",
       " \"TRANG TBYT\"           \"M00175\"             …  \"Medical Device\"\n",
       " \"DƯỢC PHẨM\"            \"M00176\"                \"Dược phân phối\"\n",
       " \"THỰC PHẨM CHỨC NĂNG\"  \"M00177\"                \"Dược phân phối\"\n",
       " \"TRANG TBYT\"           \"M00178\"                \"Dược phân phối\"\n",
       " missing                \"M00179\"                \"Dược phân phối\""
      ]
     },
     "metadata": {},
     "output_type": "display_data"
    }
   ],
   "source": [
    "\n",
    "using Pkg\n",
    "Pkg.add(\"XLSX\")\n",
    "\n",
    "import XLSX\n",
    "xf = XLSX.readxlsx(\"D:/HD/Downloads/Manufacture_data.xlsx\")\n",
    "\n",
    "sh = xf[\"Mft\"]\n",
    "sh[:]"
   ]
  },
  {
   "cell_type": "code",
   "execution_count": 1,
   "metadata": {},
   "outputs": [
    {
     "ename": "UndefVarError",
     "evalue": "UndefVarError: DataFrame not defined",
     "output_type": "error",
     "traceback": [
      "UndefVarError: DataFrame not defined\n",
      "\n",
      "Stacktrace:\n",
      " [1] top-level scope\n",
      "   @ d:\\Software\\Portableapp\\Git\\GitRepos\\Julia_code\\rev_cogs.ipynb:2"
     ]
    }
   ],
   "source": [
    "import Pkg, XLSX, DataFrames\n",
    "df = DataFrame(XLSX.readtable(\"D:/HD/Downloads/Manufacture_data.xlsx\", \"Mft\")...)"
   ]
  },
  {
   "attachments": {},
   "cell_type": "markdown",
   "metadata": {},
   "source": [
    "## read the kho"
   ]
  },
  {
   "cell_type": "code",
   "execution_count": 3,
   "metadata": {},
   "outputs": [
    {
     "name": "stderr",
     "output_type": "stream",
     "text": [
      "┌ Warning: could not download https://pkg.julialang.org/registries\n",
      "│   exception = Downloads.RequestError(\"https://pkg.julialang.org/registries\", 6, \"Could not resolve host: in.pkg.julialang.org\", Downloads.Response(\"https\", \"https://in.pkg.julialang.org/registries\", 301, \"HTTP/1.1 301 AS -> IN internal redirect trigger\", [\"connection\" => \"close\", \"content-length\" => \"0\", \"server\" => \"Varnish\", \"retry-after\" => \"0\", \"location\" => \"https://in.pkg.julialang.org/registries\", \"x-geo-continent\" => \"AS\", \"x-geo-country\" => \"VN\", \"x-geo-region\" => \"SG\", \"accept-ranges\" => \"bytes\", \"date\" => \"Tue, 03 Jan 2023 06:47:20 GMT\", \"via\" => \"1.1 varnish\", \"x-served-by\" => \"cache-hnd18726-HND\", \"x-cache\" => \"HIT\", \"x-cache-hits\" => \"0\", \"x-timer\" => \"S1672728441.756331,VS0,VE1\"]))\n",
      "└ @ Pkg.Registry C:\\buildbot\\worker\\package_win64\\build\\usr\\share\\julia\\stdlib\\v1.8\\Pkg\\src\\Registry\\Registry.jl:68\n",
      "\u001b[32m\u001b[1m    Updating\u001b[22m\u001b[39m registry at `C:\\Users\\vuongns\\.julia\\registries\\General.toml`"
     ]
    },
    {
     "name": "stderr",
     "output_type": "stream",
     "text": [
      "\n",
      "\u001b[32m\u001b[1m   Resolving\u001b[22m\u001b[39m package versions...\n"
     ]
    },
    {
     "name": "stderr",
     "output_type": "stream",
     "text": [
      "\u001b[32m\u001b[1m   Installed\u001b[22m\u001b[39m InlineStrings ────── v1.3.2\n"
     ]
    },
    {
     "name": "stderr",
     "output_type": "stream",
     "text": [
      "\u001b[32m\u001b[1m   Installed\u001b[22m\u001b[39m CodecZlib ────────── v0.7.0\n",
      "\u001b[32m\u001b[1m   Installed\u001b[22m\u001b[39m WorkerUtilities ──── v1.6.1\n",
      "\u001b[32m\u001b[1m   Installed\u001b[22m\u001b[39m SentinelArrays ───── v1.3.16\n",
      "\u001b[32m\u001b[1m   Installed\u001b[22m\u001b[39m WeakRefStrings ───── v1.4.2\n"
     ]
    },
    {
     "name": "stderr",
     "output_type": "stream",
     "text": [
      "\u001b[32m\u001b[1m   Installed\u001b[22m\u001b[39m FilePathsBase ────── v0.9.20\n",
      "\u001b[32m\u001b[1m   Installed\u001b[22m\u001b[39m TranscodingStreams ─ v0.9.10\n"
     ]
    },
    {
     "name": "stderr",
     "output_type": "stream",
     "text": [
      "\u001b[32m\u001b[1m   Installed\u001b[22m\u001b[39m CSV ──────────────── v0.10.8\n"
     ]
    },
    {
     "name": "stderr",
     "output_type": "stream",
     "text": [
      "\u001b[32m\u001b[1m  No Changes\u001b[22m\u001b[39m to `D:\\Software\\Portableapp\\JuliaPort\\userdata\\.julia\\environments\\v1.8\\Project.toml`\n",
      "\u001b[32m\u001b[1m  No Changes\u001b[22m\u001b[39m "
     ]
    },
    {
     "name": "stderr",
     "output_type": "stream",
     "text": [
      "to `D:\\Software\\Portableapp\\JuliaPort\\userdata\\.julia\\environments\\v1.8\\Manifest.toml`\n",
      "\u001b[32m\u001b[1mPrecompiling\u001b[22m\u001b[39m "
     ]
    },
    {
     "name": "stderr",
     "output_type": "stream",
     "text": [
      "project..."
     ]
    },
    {
     "name": "stderr",
     "output_type": "stream",
     "text": [
      "\n"
     ]
    },
    {
     "name": "stderr",
     "output_type": "stream",
     "text": [
      "\u001b[32m  ✓ \u001b[39m\u001b[90mWorkerUtilities\u001b[39m\n"
     ]
    },
    {
     "name": "stderr",
     "output_type": "stream",
     "text": [
      "\u001b[32m  ✓ \u001b[39m\u001b[90mTranscodingStreams\u001b[39m\n"
     ]
    },
    {
     "name": "stderr",
     "output_type": "stream",
     "text": [
      "\u001b[32m  ✓ \u001b[39m\u001b[90mSentinelArrays\u001b[39m\n"
     ]
    },
    {
     "name": "stderr",
     "output_type": "stream",
     "text": [
      "\u001b[32m  ✓ \u001b[39m\u001b[90mFilePathsBase\u001b[39m\n"
     ]
    },
    {
     "name": "stderr",
     "output_type": "stream",
     "text": [
      "\u001b[32m  ✓ \u001b[39m\u001b[90mCodecZlib\u001b[39m\n"
     ]
    },
    {
     "name": "stderr",
     "output_type": "stream",
     "text": [
      "\u001b[32m  ✓ \u001b[39m\u001b[90mInlineStrings\u001b[39m\n"
     ]
    },
    {
     "name": "stderr",
     "output_type": "stream",
     "text": [
      "\u001b[32m  ✓ \u001b[39m\u001b[90mWeakRefStrings\u001b[39m"
     ]
    },
    {
     "name": "stderr",
     "output_type": "stream",
     "text": [
      "\n"
     ]
    },
    {
     "name": "stderr",
     "output_type": "stream",
     "text": [
      "\u001b[32m  ✓ \u001b[39mCSV\n",
      "  8 dependencies successfully precompiled in 24 seconds. 59 already precompiled.\n"
     ]
    }
   ],
   "source": [
    "\n",
    "# using pkg to install packages\n",
    "using Pkg \n",
    " \n",
    "# using pkg to add csv package file to library\n",
    "Pkg.add(\"CSV\")"
   ]
  },
  {
   "cell_type": "code",
   "execution_count": 1,
   "metadata": {},
   "outputs": [
    {
     "data": {
      "text/html": [
       "<div><div style = \"float: left;\"><span>384614×24 DataFrame</span></div><div style = \"float: right;\"><span style = \"font-style: italic;\">384589 rows omitted</span></div><div style = \"clear: both;\"></div></div><div class = \"data-frame\" style = \"overflow-x: scroll;\"><table class = \"data-frame\" style = \"margin-bottom: 6px;\"><thead><tr class = \"header\"><th class = \"rowNumber\" style = \"font-weight: bold; text-align: right;\">Row</th><th style = \"text-align: left;\">Warehouse</th><th style = \"text-align: left;\">ItemName1</th><th style = \"text-align: left;\">Textbox126</th><th style = \"text-align: left;\">BeginStock</th><th style = \"text-align: left;\">Textbox9</th><th style = \"text-align: left;\">DocDate1</th><th style = \"text-align: left;\">DocNo</th><th style = \"text-align: left;\">CardName</th><th style = \"text-align: left;\">CardAddress</th><th style = \"text-align: left;\">Comments</th><th style = \"text-align: left;\">InQty</th><th style = \"text-align: left;\">OutQty</th><th style = \"text-align: left;\">Textbox44</th><th style = \"text-align: left;\">BatchNo</th><th style = \"text-align: left;\">ExpiryDate</th><th style = \"text-align: left;\">Location</th><th style = \"text-align: left;\">InvoiceSerial</th><th style = \"text-align: left;\">InvoiceCode1</th><th style = \"text-align: left;\">InvoiceDate</th><th style = \"text-align: left;\">u_sourceno2</th><th style = \"text-align: left;\">Textbox128</th><th style = \"text-align: left;\">InQty1</th><th style = \"text-align: left;\">OutQty1</th><th style = \"text-align: left;\">InQty2</th></tr><tr class = \"subheader headerLastRow\"><th class = \"rowNumber\" style = \"font-weight: bold; text-align: right;\"></th><th title = \"String\" style = \"text-align: left;\">String</th><th title = \"String\" style = \"text-align: left;\">String</th><th title = \"String7\" style = \"text-align: left;\">String7</th><th title = \"String15\" style = \"text-align: left;\">String15</th><th title = \"Int64\" style = \"text-align: left;\">Int64</th><th title = \"Union{Missing, String15}\" style = \"text-align: left;\">String15?</th><th title = \"String15\" style = \"text-align: left;\">String15</th><th title = \"Union{Missing, String}\" style = \"text-align: left;\">String?</th><th title = \"Union{Missing, String}\" style = \"text-align: left;\">String?</th><th title = \"Union{Missing, String}\" style = \"text-align: left;\">String?</th><th title = \"Union{Missing, String15}\" style = \"text-align: left;\">String15?</th><th title = \"Union{Missing, String15}\" style = \"text-align: left;\">String15?</th><th title = \"String15\" style = \"text-align: left;\">String15</th><th title = \"Union{Missing, String31}\" style = \"text-align: left;\">String31?</th><th title = \"Union{Missing, String15}\" style = \"text-align: left;\">String15?</th><th title = \"Union{Missing, String31}\" style = \"text-align: left;\">String31?</th><th title = \"Union{Missing, String7}\" style = \"text-align: left;\">String7?</th><th title = \"Union{Missing, Int64}\" style = \"text-align: left;\">Int64?</th><th title = \"Union{Missing, String15}\" style = \"text-align: left;\">String15?</th><th title = \"Union{Missing, String15}\" style = \"text-align: left;\">String15?</th><th title = \"String7\" style = \"text-align: left;\">String7</th><th title = \"String15\" style = \"text-align: left;\">String15</th><th title = \"String15\" style = \"text-align: left;\">String15</th><th title = \"String15\" style = \"text-align: left;\">String15</th></tr></thead><tbody><tr><td class = \"rowNumber\" style = \"font-weight: bold; text-align: right;\">1</td><td style = \"text-align: left;\">KHO HÀNG: WL001 - LONG HẬU - KHO SỈ</td><td style = \"text-align: left;\">MẶT HÀNG: 3M118 - 118 ATTEST BIOLOG INCUBATOR STEAM 56C - ĐVT: Cái</td><td style = \"text-align: left;\">#Error</td><td style = \"text-align: left;\">1.00</td><td style = \"text-align: right;\">0</td><td style = \"font-style: italic; text-align: left;\">missing</td><td style = \"text-align: left;\">/ -1</td><td style = \"font-style: italic; text-align: left;\">missing</td><td style = \"font-style: italic; text-align: left;\">missing</td><td style = \"font-style: italic; text-align: left;\">missing</td><td style = \"font-style: italic; text-align: left;\">missing</td><td style = \"font-style: italic; text-align: left;\">missing</td><td style = \"text-align: left;\">1.00</td><td style = \"font-style: italic; text-align: left;\">missing</td><td style = \"font-style: italic; text-align: left;\">missing</td><td style = \"font-style: italic; text-align: left;\">missing</td><td style = \"font-style: italic; text-align: left;\">missing</td><td style = \"font-style: italic; text-align: right;\">missing</td><td style = \"font-style: italic; text-align: left;\">missing</td><td style = \"font-style: italic; text-align: left;\">missing</td><td style = \"text-align: left;\">#Error</td><td style = \"text-align: left;\">-</td><td style = \"text-align: left;\">-</td><td style = \"text-align: left;\">1.00</td></tr><tr><td class = \"rowNumber\" style = \"font-weight: bold; text-align: right;\">2</td><td style = \"text-align: left;\">KHO HÀNG: WL001 - LONG HẬU - KHO SỈ</td><td style = \"text-align: left;\">MẶT HÀNG: 3M1522 - 1522  BANG KEO 3.6 IN x 60 YD - ĐVT: Cuộn</td><td style = \"text-align: left;\">#Error</td><td style = \"text-align: left;\">17.00</td><td style = \"text-align: right;\">0</td><td style = \"font-style: italic; text-align: left;\">missing</td><td style = \"text-align: left;\">/ -1</td><td style = \"font-style: italic; text-align: left;\">missing</td><td style = \"font-style: italic; text-align: left;\">missing</td><td style = \"font-style: italic; text-align: left;\">missing</td><td style = \"font-style: italic; text-align: left;\">missing</td><td style = \"font-style: italic; text-align: left;\">missing</td><td style = \"text-align: left;\">17.00</td><td style = \"font-style: italic; text-align: left;\">missing</td><td style = \"font-style: italic; text-align: left;\">missing</td><td style = \"font-style: italic; text-align: left;\">missing</td><td style = \"font-style: italic; text-align: left;\">missing</td><td style = \"font-style: italic; text-align: right;\">missing</td><td style = \"font-style: italic; text-align: left;\">missing</td><td style = \"font-style: italic; text-align: left;\">missing</td><td style = \"text-align: left;\">#Error</td><td style = \"text-align: left;\">-</td><td style = \"text-align: left;\">-</td><td style = \"text-align: left;\">17.00</td></tr><tr><td class = \"rowNumber\" style = \"font-weight: bold; text-align: right;\">3</td><td style = \"text-align: left;\">KHO HÀNG: WL001 - LONG HẬU - KHO SỈ</td><td style = \"text-align: left;\">MẶT HÀNG: 3M2306 - 2306 ONG NGHE LITTMANN XANH BIEN - ĐVT: Cái</td><td style = \"text-align: left;\">#Error</td><td style = \"text-align: left;\">50.00</td><td style = \"text-align: right;\">0</td><td style = \"font-style: italic; text-align: left;\">missing</td><td style = \"text-align: left;\">/ -1</td><td style = \"font-style: italic; text-align: left;\">missing</td><td style = \"font-style: italic; text-align: left;\">missing</td><td style = \"font-style: italic; text-align: left;\">missing</td><td style = \"font-style: italic; text-align: left;\">missing</td><td style = \"font-style: italic; text-align: left;\">missing</td><td style = \"text-align: left;\">50.00</td><td style = \"font-style: italic; text-align: left;\">missing</td><td style = \"font-style: italic; text-align: left;\">missing</td><td style = \"font-style: italic; text-align: left;\">missing</td><td style = \"font-style: italic; text-align: left;\">missing</td><td style = \"font-style: italic; text-align: right;\">missing</td><td style = \"font-style: italic; text-align: left;\">missing</td><td style = \"font-style: italic; text-align: left;\">missing</td><td style = \"text-align: left;\">#Error</td><td style = \"text-align: left;\">-</td><td style = \"text-align: left;\">-</td><td style = \"text-align: left;\">50.00</td></tr><tr><td class = \"rowNumber\" style = \"font-weight: bold; text-align: right;\">4</td><td style = \"text-align: left;\">KHO HÀNG: WL001 - LONG HẬU - KHO SỈ</td><td style = \"text-align: left;\">MẶT HÀNG: 3M260-032 - 260-032 DAY DUY TRI 0.32 7&apos;&apos; - ĐVT: Cái</td><td style = \"text-align: left;\">#Error</td><td style = \"text-align: left;\">1.00</td><td style = \"text-align: right;\">0</td><td style = \"font-style: italic; text-align: left;\">missing</td><td style = \"text-align: left;\">/ -1</td><td style = \"font-style: italic; text-align: left;\">missing</td><td style = \"font-style: italic; text-align: left;\">missing</td><td style = \"font-style: italic; text-align: left;\">missing</td><td style = \"font-style: italic; text-align: left;\">missing</td><td style = \"font-style: italic; text-align: left;\">missing</td><td style = \"text-align: left;\">1.00</td><td style = \"font-style: italic; text-align: left;\">missing</td><td style = \"font-style: italic; text-align: left;\">missing</td><td style = \"font-style: italic; text-align: left;\">missing</td><td style = \"font-style: italic; text-align: left;\">missing</td><td style = \"font-style: italic; text-align: right;\">missing</td><td style = \"font-style: italic; text-align: left;\">missing</td><td style = \"font-style: italic; text-align: left;\">missing</td><td style = \"text-align: left;\">#Error</td><td style = \"text-align: left;\">-</td><td style = \"text-align: left;\">-</td><td style = \"text-align: left;\">1.00</td></tr><tr><td class = \"rowNumber\" style = \"font-weight: bold; text-align: right;\">5</td><td style = \"text-align: left;\">KHO HÀNG: WL001 - LONG HẬU - KHO SỈ</td><td style = \"text-align: left;\">MẶT HÀNG: 3M290G - 290G MAY 240 VAC DOC MAU TEST DO DO TIET TRUNG THIET BI Y TE (CASE/1CAI) - ĐVT: Thùng</td><td style = \"text-align: left;\">#Error</td><td style = \"text-align: left;\">1.00</td><td style = \"text-align: right;\">0</td><td style = \"font-style: italic; text-align: left;\">missing</td><td style = \"text-align: left;\">/ -1</td><td style = \"font-style: italic; text-align: left;\">missing</td><td style = \"font-style: italic; text-align: left;\">missing</td><td style = \"font-style: italic; text-align: left;\">missing</td><td style = \"font-style: italic; text-align: left;\">missing</td><td style = \"font-style: italic; text-align: left;\">missing</td><td style = \"text-align: left;\">1.00</td><td style = \"font-style: italic; text-align: left;\">missing</td><td style = \"font-style: italic; text-align: left;\">missing</td><td style = \"font-style: italic; text-align: left;\">missing</td><td style = \"font-style: italic; text-align: left;\">missing</td><td style = \"font-style: italic; text-align: right;\">missing</td><td style = \"font-style: italic; text-align: left;\">missing</td><td style = \"font-style: italic; text-align: left;\">missing</td><td style = \"text-align: left;\">#Error</td><td style = \"text-align: left;\">-</td><td style = \"text-align: left;\">-</td><td style = \"text-align: left;\">1.00</td></tr><tr><td class = \"rowNumber\" style = \"font-weight: bold; text-align: right;\">6</td><td style = \"text-align: left;\">KHO HÀNG: WL001 - LONG HẬU - KHO SỈ</td><td style = \"text-align: left;\">MẶT HÀNG: 3M390 - 390 MAY DOC HUYNH QUANG TEST VI SINH TIET TRUNG EO (CASE/1CAI) - ĐVT: Thùng</td><td style = \"text-align: left;\">#Error</td><td style = \"text-align: left;\">2.00</td><td style = \"text-align: right;\">0</td><td style = \"font-style: italic; text-align: left;\">missing</td><td style = \"text-align: left;\">/ -1</td><td style = \"font-style: italic; text-align: left;\">missing</td><td style = \"font-style: italic; text-align: left;\">missing</td><td style = \"font-style: italic; text-align: left;\">missing</td><td style = \"font-style: italic; text-align: left;\">missing</td><td style = \"font-style: italic; text-align: left;\">missing</td><td style = \"text-align: left;\">2.00</td><td style = \"font-style: italic; text-align: left;\">missing</td><td style = \"font-style: italic; text-align: left;\">missing</td><td style = \"font-style: italic; text-align: left;\">missing</td><td style = \"font-style: italic; text-align: left;\">missing</td><td style = \"font-style: italic; text-align: right;\">missing</td><td style = \"font-style: italic; text-align: left;\">missing</td><td style = \"font-style: italic; text-align: left;\">missing</td><td style = \"text-align: left;\">#Error</td><td style = \"text-align: left;\">-</td><td style = \"text-align: left;\">-</td><td style = \"text-align: left;\">2.00</td></tr><tr><td class = \"rowNumber\" style = \"font-weight: bold; text-align: right;\">7</td><td style = \"text-align: left;\">KHO HÀNG: WL001 - LONG HẬU - KHO SỈ</td><td style = \"text-align: left;\">MẶT HÀNG: 3M63500 - 63500 MEN U AM (5/CASE) - ĐVT: Cái</td><td style = \"text-align: left;\">#Error</td><td style = \"text-align: left;\">5.00</td><td style = \"text-align: right;\">0</td><td style = \"font-style: italic; text-align: left;\">missing</td><td style = \"text-align: left;\">/ -1</td><td style = \"font-style: italic; text-align: left;\">missing</td><td style = \"font-style: italic; text-align: left;\">missing</td><td style = \"font-style: italic; text-align: left;\">missing</td><td style = \"font-style: italic; text-align: left;\">missing</td><td style = \"font-style: italic; text-align: left;\">missing</td><td style = \"text-align: left;\">5.00</td><td style = \"font-style: italic; text-align: left;\">missing</td><td style = \"font-style: italic; text-align: left;\">missing</td><td style = \"font-style: italic; text-align: left;\">missing</td><td style = \"font-style: italic; text-align: left;\">missing</td><td style = \"font-style: italic; text-align: right;\">missing</td><td style = \"font-style: italic; text-align: left;\">missing</td><td style = \"font-style: italic; text-align: left;\">missing</td><td style = \"text-align: left;\">#Error</td><td style = \"text-align: left;\">-</td><td style = \"text-align: left;\">-</td><td style = \"text-align: left;\">5.00</td></tr><tr><td class = \"rowNumber\" style = \"font-weight: bold; text-align: right;\">8</td><td style = \"text-align: left;\">KHO HÀNG: WL001 - LONG HẬU - KHO SỈ</td><td style = \"text-align: left;\">MẶT HÀNG: 3MN95-23252 - GOWN (AO CHOANG CHO PHAU THUAT) [TUI/10CAI] - ĐVT: Cái</td><td style = \"text-align: left;\">#Error</td><td style = \"text-align: left;\">30.00</td><td style = \"text-align: right;\">0</td><td style = \"font-style: italic; text-align: left;\">missing</td><td style = \"text-align: left;\">/ -1</td><td style = \"font-style: italic; text-align: left;\">missing</td><td style = \"font-style: italic; text-align: left;\">missing</td><td style = \"font-style: italic; text-align: left;\">missing</td><td style = \"font-style: italic; text-align: left;\">missing</td><td style = \"font-style: italic; text-align: left;\">missing</td><td style = \"text-align: left;\">30.00</td><td style = \"font-style: italic; text-align: left;\">missing</td><td style = \"font-style: italic; text-align: left;\">missing</td><td style = \"font-style: italic; text-align: left;\">missing</td><td style = \"font-style: italic; text-align: left;\">missing</td><td style = \"font-style: italic; text-align: right;\">missing</td><td style = \"font-style: italic; text-align: left;\">missing</td><td style = \"font-style: italic; text-align: left;\">missing</td><td style = \"text-align: left;\">#Error</td><td style = \"text-align: left;\">-</td><td style = \"text-align: left;\">-</td><td style = \"text-align: left;\">30.00</td></tr><tr><td class = \"rowNumber\" style = \"font-weight: bold; text-align: right;\">9</td><td style = \"text-align: left;\">KHO HÀNG: HL001 - HD - LONG HẬU – KHO LONG HẬU SỈ</td><td style = \"text-align: left;\">MẶT HÀNG: AB1100001 - DUPHALAC 10G/15ML SYR 15ML 20 - ĐVT: Hộp</td><td style = \"text-align: left;\">#Error</td><td style = \"text-align: left;\">1,726.00</td><td style = \"text-align: right;\">0</td><td style = \"font-style: italic; text-align: left;\">missing</td><td style = \"text-align: left;\">/ -1</td><td style = \"font-style: italic; text-align: left;\">missing</td><td style = \"font-style: italic; text-align: left;\">missing</td><td style = \"font-style: italic; text-align: left;\">missing</td><td style = \"font-style: italic; text-align: left;\">missing</td><td style = \"font-style: italic; text-align: left;\">missing</td><td style = \"text-align: left;\">-5.00</td><td style = \"font-style: italic; text-align: left;\">missing</td><td style = \"font-style: italic; text-align: left;\">missing</td><td style = \"font-style: italic; text-align: left;\">missing</td><td style = \"font-style: italic; text-align: left;\">missing</td><td style = \"font-style: italic; text-align: right;\">missing</td><td style = \"font-style: italic; text-align: left;\">missing</td><td style = \"text-align: left;\">1-160919</td><td style = \"text-align: left;\">#Error</td><td style = \"text-align: left;\">-</td><td style = \"text-align: left;\">59.00</td><td style = \"text-align: left;\">1,667.00</td></tr><tr><td class = \"rowNumber\" style = \"font-weight: bold; text-align: right;\">10</td><td style = \"text-align: left;\">KHO HÀNG: HL001 - HD - LONG HẬU – KHO LONG HẬU SỈ</td><td style = \"text-align: left;\">MẶT HÀNG: AB1100001 - DUPHALAC 10G/15ML SYR 15ML 20 - ĐVT: Hộp</td><td style = \"text-align: left;\">#Error</td><td style = \"text-align: left;\">1,726.00</td><td style = \"text-align: right;\">1</td><td style = \"font-style: italic; text-align: left;\">missing</td><td style = \"text-align: left;\">/ -1</td><td style = \"font-style: italic; text-align: left;\">missing</td><td style = \"font-style: italic; text-align: left;\">missing</td><td style = \"font-style: italic; text-align: left;\">missing</td><td style = \"font-style: italic; text-align: left;\">missing</td><td style = \"font-style: italic; text-align: left;\">missing</td><td style = \"text-align: left;\">-19.00</td><td style = \"font-style: italic; text-align: left;\">missing</td><td style = \"font-style: italic; text-align: left;\">missing</td><td style = \"font-style: italic; text-align: left;\">missing</td><td style = \"font-style: italic; text-align: left;\">missing</td><td style = \"font-style: italic; text-align: right;\">missing</td><td style = \"font-style: italic; text-align: left;\">missing</td><td style = \"text-align: left;\">1-204869</td><td style = \"text-align: left;\">#Error</td><td style = \"text-align: left;\">-</td><td style = \"text-align: left;\">59.00</td><td style = \"text-align: left;\">1,667.00</td></tr><tr><td class = \"rowNumber\" style = \"font-weight: bold; text-align: right;\">11</td><td style = \"text-align: left;\">KHO HÀNG: HL001 - HD - LONG HẬU – KHO LONG HẬU SỈ</td><td style = \"text-align: left;\">MẶT HÀNG: AB1100001 - DUPHALAC 10G/15ML SYR 15ML 20 - ĐVT: Hộp</td><td style = \"text-align: left;\">#Error</td><td style = \"text-align: left;\">1,726.00</td><td style = \"text-align: right;\">2</td><td style = \"font-style: italic; text-align: left;\">missing</td><td style = \"text-align: left;\">/ -1</td><td style = \"font-style: italic; text-align: left;\">missing</td><td style = \"font-style: italic; text-align: left;\">missing</td><td style = \"font-style: italic; text-align: left;\">missing</td><td style = \"font-style: italic; text-align: left;\">missing</td><td style = \"font-style: italic; text-align: left;\">missing</td><td style = \"text-align: left;\">-44.00</td><td style = \"font-style: italic; text-align: left;\">missing</td><td style = \"font-style: italic; text-align: left;\">missing</td><td style = \"font-style: italic; text-align: left;\">missing</td><td style = \"font-style: italic; text-align: left;\">missing</td><td style = \"font-style: italic; text-align: right;\">missing</td><td style = \"font-style: italic; text-align: left;\">missing</td><td style = \"text-align: left;\">1-216571</td><td style = \"text-align: left;\">#Error</td><td style = \"text-align: left;\">-</td><td style = \"text-align: left;\">59.00</td><td style = \"text-align: left;\">1,667.00</td></tr><tr><td class = \"rowNumber\" style = \"font-weight: bold; text-align: right;\">12</td><td style = \"text-align: left;\">KHO HÀNG: HL001 - HD - LONG HẬU – KHO LONG HẬU SỈ</td><td style = \"text-align: left;\">MẶT HÀNG: AB1100001 - DUPHALAC 10G/15ML SYR 15ML 20 - ĐVT: Hộp</td><td style = \"text-align: left;\">#Error</td><td style = \"text-align: left;\">1,726.00</td><td style = \"text-align: right;\">3</td><td style = \"font-style: italic; text-align: left;\">missing</td><td style = \"text-align: left;\">/ -1</td><td style = \"font-style: italic; text-align: left;\">missing</td><td style = \"font-style: italic; text-align: left;\">missing</td><td style = \"font-style: italic; text-align: left;\">missing</td><td style = \"font-style: italic; text-align: left;\">missing</td><td style = \"font-style: italic; text-align: left;\">missing</td><td style = \"text-align: left;\">-54.00</td><td style = \"font-style: italic; text-align: left;\">missing</td><td style = \"font-style: italic; text-align: left;\">missing</td><td style = \"font-style: italic; text-align: left;\">missing</td><td style = \"font-style: italic; text-align: left;\">missing</td><td style = \"font-style: italic; text-align: right;\">missing</td><td style = \"font-style: italic; text-align: left;\">missing</td><td style = \"text-align: left;\">1-235612</td><td style = \"text-align: left;\">#Error</td><td style = \"text-align: left;\">-</td><td style = \"text-align: left;\">59.00</td><td style = \"text-align: left;\">1,667.00</td></tr><tr><td class = \"rowNumber\" style = \"font-weight: bold; text-align: right;\">13</td><td style = \"text-align: left;\">KHO HÀNG: HL001 - HD - LONG HẬU – KHO LONG HẬU SỈ</td><td style = \"text-align: left;\">MẶT HÀNG: AB1100001 - DUPHALAC 10G/15ML SYR 15ML 20 - ĐVT: Hộp</td><td style = \"text-align: left;\">#Error</td><td style = \"text-align: left;\">1,726.00</td><td style = \"text-align: right;\">4</td><td style = \"font-style: italic; text-align: left;\">missing</td><td style = \"text-align: left;\">/ -1</td><td style = \"font-style: italic; text-align: left;\">missing</td><td style = \"font-style: italic; text-align: left;\">missing</td><td style = \"font-style: italic; text-align: left;\">missing</td><td style = \"font-style: italic; text-align: left;\">missing</td><td style = \"font-style: italic; text-align: left;\">missing</td><td style = \"text-align: left;\">-64.00</td><td style = \"font-style: italic; text-align: left;\">missing</td><td style = \"font-style: italic; text-align: left;\">missing</td><td style = \"font-style: italic; text-align: left;\">missing</td><td style = \"font-style: italic; text-align: left;\">missing</td><td style = \"font-style: italic; text-align: right;\">missing</td><td style = \"font-style: italic; text-align: left;\">missing</td><td style = \"text-align: left;\">1-81928</td><td style = \"text-align: left;\">#Error</td><td style = \"text-align: left;\">-</td><td style = \"text-align: left;\">59.00</td><td style = \"text-align: left;\">1,667.00</td></tr><tr><td style = \"text-align: right;\">&vellip;</td><td style = \"text-align: right;\">&vellip;</td><td style = \"text-align: right;\">&vellip;</td><td style = \"text-align: right;\">&vellip;</td><td style = \"text-align: right;\">&vellip;</td><td style = \"text-align: right;\">&vellip;</td><td style = \"text-align: right;\">&vellip;</td><td style = \"text-align: right;\">&vellip;</td><td style = \"text-align: right;\">&vellip;</td><td style = \"text-align: right;\">&vellip;</td><td style = \"text-align: right;\">&vellip;</td><td style = \"text-align: right;\">&vellip;</td><td style = \"text-align: right;\">&vellip;</td><td style = \"text-align: right;\">&vellip;</td><td style = \"text-align: right;\">&vellip;</td><td style = \"text-align: right;\">&vellip;</td><td style = \"text-align: right;\">&vellip;</td><td style = \"text-align: right;\">&vellip;</td><td style = \"text-align: right;\">&vellip;</td><td style = \"text-align: right;\">&vellip;</td><td style = \"text-align: right;\">&vellip;</td><td style = \"text-align: right;\">&vellip;</td><td style = \"text-align: right;\">&vellip;</td><td style = \"text-align: right;\">&vellip;</td><td style = \"text-align: right;\">&vellip;</td></tr><tr><td class = \"rowNumber\" style = \"font-weight: bold; text-align: right;\">384603</td><td style = \"text-align: left;\">KHO HÀNG: WL001 - LONG HẬU - KHO SỈ</td><td style = \"text-align: left;\">MẶT HÀNG: YH6100013 - THUC PHAM BAO VE SUC KHOE YES KIDDO DHA250 - ĐVT: Hộp</td><td style = \"text-align: left;\">#Error</td><td style = \"text-align: left;\">146.00</td><td style = \"text-align: right;\">45</td><td style = \"font-style: italic; text-align: left;\">27/12/2022</td><td style = \"text-align: left;\">ARINV/ 245672</td><td style = \"font-style: italic; text-align: left;\">CONG TY TNHH TRUNG SON ALPHA</td><td style = \"font-style: italic; text-align: left;\">THUA DAT SO 13195 TBD SO 1-DUONG MAI CHI THO, KDC LO SO 20, PHUONG PHU THU, Q. CAI RANG, TP.CAN THO</td><td style = \"font-style: italic; text-align: left;\">HALE</td><td style = \"font-style: italic; text-align: left;\">missing</td><td style = \"font-style: italic; text-align: left;\">100.00</td><td style = \"text-align: left;\">120.00</td><td style = \"font-style: italic; text-align: left;\">AL46614</td><td style = \"font-style: italic; text-align: left;\">02/08/2025</td><td style = \"font-style: italic; text-align: left;\">WL001-SYSTEM-BIN-LOCATION</td><td style = \"font-style: italic; text-align: left;\">missing</td><td style = \"font-style: italic; text-align: right;\">missing</td><td style = \"font-style: italic; text-align: left;\">27/12/2022</td><td style = \"text-align: left;\">1-255749</td><td style = \"text-align: left;\">#Error</td><td style = \"text-align: left;\">350.00</td><td style = \"text-align: left;\">496.00</td><td style = \"text-align: left;\">-</td></tr><tr><td class = \"rowNumber\" style = \"font-weight: bold; text-align: right;\">384604</td><td style = \"text-align: left;\">KHO HÀNG: WL001 - LONG HẬU - KHO SỈ</td><td style = \"text-align: left;\">MẶT HÀNG: YH6100013 - THUC PHAM BAO VE SUC KHOE YES KIDDO DHA250 - ĐVT: Hộp</td><td style = \"text-align: left;\">#Error</td><td style = \"text-align: left;\">146.00</td><td style = \"text-align: right;\">46</td><td style = \"font-style: italic; text-align: left;\">27/12/2022</td><td style = \"text-align: left;\">ARINV/ 245964</td><td style = \"font-style: italic; text-align: left;\">NT THUY AN</td><td style = \"font-style: italic; text-align: left;\">340 HOA HAO, PHUONG 4, QUAN 10, TPHCM</td><td style = \"font-style: italic; text-align: left;\">MAILTO:HALE@YESHEALTH.COM.VN</td><td style = \"font-style: italic; text-align: left;\">missing</td><td style = \"font-style: italic; text-align: left;\">2.00</td><td style = \"text-align: left;\">118.00</td><td style = \"font-style: italic; text-align: left;\">AL46614</td><td style = \"font-style: italic; text-align: left;\">02/08/2025</td><td style = \"font-style: italic; text-align: left;\">WL001-SYSTEM-BIN-LOCATION</td><td style = \"font-style: italic; text-align: left;\">C22TAA</td><td style = \"font-style: italic; text-align: right;\">106248</td><td style = \"font-style: italic; text-align: left;\">27/12/2022</td><td style = \"text-align: left;\">1-256129</td><td style = \"text-align: left;\">#Error</td><td style = \"text-align: left;\">350.00</td><td style = \"text-align: left;\">496.00</td><td style = \"text-align: left;\">-</td></tr><tr><td class = \"rowNumber\" style = \"font-weight: bold; text-align: right;\">384605</td><td style = \"text-align: left;\">KHO HÀNG: WL001 - LONG HẬU - KHO SỈ</td><td style = \"text-align: left;\">MẶT HÀNG: YH6100013 - THUC PHAM BAO VE SUC KHOE YES KIDDO DHA250 - ĐVT: Hộp</td><td style = \"text-align: left;\">#Error</td><td style = \"text-align: left;\">146.00</td><td style = \"text-align: right;\">47</td><td style = \"font-style: italic; text-align: left;\">27/12/2022</td><td style = \"text-align: left;\">ARINV/ 245964</td><td style = \"font-style: italic; text-align: left;\">NT THUY AN</td><td style = \"font-style: italic; text-align: left;\">340 HOA HAO, PHUONG 4, QUAN 10, TPHCM</td><td style = \"font-style: italic; text-align: left;\">MAILTO:HALE@YESHEALTH.COM.VN</td><td style = \"font-style: italic; text-align: left;\">missing</td><td style = \"font-style: italic; text-align: left;\">1.00</td><td style = \"text-align: left;\">117.00</td><td style = \"font-style: italic; text-align: left;\">AL46614</td><td style = \"font-style: italic; text-align: left;\">02/08/2025</td><td style = \"font-style: italic; text-align: left;\">WL001-SYSTEM-BIN-LOCATION</td><td style = \"font-style: italic; text-align: left;\">C22TAA</td><td style = \"font-style: italic; text-align: right;\">106248</td><td style = \"font-style: italic; text-align: left;\">27/12/2022</td><td style = \"text-align: left;\">1-256129</td><td style = \"text-align: left;\">#Error</td><td style = \"text-align: left;\">350.00</td><td style = \"text-align: left;\">496.00</td><td style = \"text-align: left;\">-</td></tr><tr><td class = \"rowNumber\" style = \"font-weight: bold; text-align: right;\">384606</td><td style = \"text-align: left;\">KHO HÀNG: WL001 - LONG HẬU - KHO SỈ</td><td style = \"text-align: left;\">MẶT HÀNG: YH6100013 - THUC PHAM BAO VE SUC KHOE YES KIDDO DHA250 - ĐVT: Hộp</td><td style = \"text-align: left;\">#Error</td><td style = \"text-align: left;\">146.00</td><td style = \"text-align: right;\">48</td><td style = \"font-style: italic; text-align: left;\">27/12/2022</td><td style = \"text-align: left;\">ARINV/ 246222</td><td style = \"font-style: italic; text-align: left;\">NHA THUOC NHI TRUNG</td><td style = \"font-style: italic; text-align: left;\">410-412 HAI BA TRUNG, P. TAN DINH, Q1,TP.HCM</td><td style = \"font-style: italic; text-align: left;\">HALE@YESHEALTH.COM.VN\\rTHU TIỀN MẶT</td><td style = \"font-style: italic; text-align: left;\">missing</td><td style = \"font-style: italic; text-align: left;\">5.00</td><td style = \"text-align: left;\">112.00</td><td style = \"font-style: italic; text-align: left;\">AL46614</td><td style = \"font-style: italic; text-align: left;\">02/08/2025</td><td style = \"font-style: italic; text-align: left;\">WL001-SYSTEM-BIN-LOCATION</td><td style = \"font-style: italic; text-align: left;\">C22TAA</td><td style = \"font-style: italic; text-align: right;\">106460</td><td style = \"font-style: italic; text-align: left;\">27/12/2022</td><td style = \"text-align: left;\">1-256303</td><td style = \"text-align: left;\">#Error</td><td style = \"text-align: left;\">350.00</td><td style = \"text-align: left;\">496.00</td><td style = \"text-align: left;\">-</td></tr><tr><td class = \"rowNumber\" style = \"font-weight: bold; text-align: right;\">384607</td><td style = \"text-align: left;\">KHO HÀNG: WL001 - LONG HẬU - KHO SỈ</td><td style = \"text-align: left;\">MẶT HÀNG: YH6100013 - THUC PHAM BAO VE SUC KHOE YES KIDDO DHA250 - ĐVT: Hộp</td><td style = \"text-align: left;\">#Error</td><td style = \"text-align: left;\">146.00</td><td style = \"text-align: right;\">49</td><td style = \"font-style: italic; text-align: left;\">28/12/2022</td><td style = \"text-align: left;\">APCM/ 163</td><td style = \"font-style: italic; text-align: left;\">CONG TY TNHH YES HEALTH VIET NAM</td><td style = \"font-style: italic; text-align: left;\">BT LP1-SH26, LO TT104-9, KDP DONG NAM PMR KHU B (VINHOMES THANG LONG),X.AN KHANH,H.HOAI DUC, TP.HN,V</td><td style = \"font-style: italic; text-align: left;\">TRA HANG YHV-TRA FULL TON HCM-XU LY THAY DOI VAT-28.12.2022</td><td style = \"font-style: italic; text-align: left;\">missing</td><td style = \"font-style: italic; text-align: left;\">112.00</td><td style = \"text-align: left;\">-</td><td style = \"font-style: italic; text-align: left;\">AL46614</td><td style = \"font-style: italic; text-align: left;\">02/08/2025</td><td style = \"font-style: italic; text-align: left;\">WL001-SYSTEM-BIN-LOCATION</td><td style = \"font-style: italic; text-align: left;\">missing</td><td style = \"font-style: italic; text-align: right;\">missing</td><td style = \"font-style: italic; text-align: left;\">missing</td><td style = \"text-align: left;\">50-138</td><td style = \"text-align: left;\">#Error</td><td style = \"text-align: left;\">350.00</td><td style = \"text-align: left;\">496.00</td><td style = \"text-align: left;\">-</td></tr><tr><td class = \"rowNumber\" style = \"font-weight: bold; text-align: right;\">384608</td><td style = \"text-align: left;\">KHO HÀNG: WL301 - LONG HẬU - KHO HÀNG ĐI ĐƯỜNG</td><td style = \"text-align: left;\">MẶT HÀNG: YH6100013 - THUC PHAM BAO VE SUC KHOE YES KIDDO DHA250 - ĐVT: Hộp</td><td style = \"text-align: left;\">#Error</td><td style = \"text-align: left;\">-</td><td style = \"text-align: right;\">0</td><td style = \"font-style: italic; text-align: left;\">28/12/2022</td><td style = \"text-align: left;\">INTR/ 7562</td><td style = \"font-style: italic; text-align: left;\">CONG TY TNHH DUOC PHAM &amp; TTBYT HOANG DUC</td><td style = \"font-style: italic; text-align: left;\">12 NGUYEN HIEN, PHUONG 4, QUAN 3, TP.HCM</td><td style = \"font-style: italic; text-align: left;\">BASED ON INVENTORY TRANSFER REQUEST 2551.</td><td style = \"font-style: italic; text-align: left;\">113.00</td><td style = \"font-style: italic; text-align: left;\">missing</td><td style = \"text-align: left;\">113.00</td><td style = \"font-style: italic; text-align: left;\">AL46614</td><td style = \"font-style: italic; text-align: left;\">02/08/2025</td><td style = \"font-style: italic; text-align: left;\">missing</td><td style = \"font-style: italic; text-align: left;\">missing</td><td style = \"font-style: italic; text-align: right;\">missing</td><td style = \"font-style: italic; text-align: left;\">missing</td><td style = \"text-align: left;\">54-2551</td><td style = \"text-align: left;\">#Error</td><td style = \"text-align: left;\">271.00</td><td style = \"text-align: left;\">271.00</td><td style = \"text-align: left;\">-</td></tr><tr><td class = \"rowNumber\" style = \"font-weight: bold; text-align: right;\">384609</td><td style = \"text-align: left;\">KHO HÀNG: WL301 - LONG HẬU - KHO HÀNG ĐI ĐƯỜNG</td><td style = \"text-align: left;\">MẶT HÀNG: YH6100013 - THUC PHAM BAO VE SUC KHOE YES KIDDO DHA250 - ĐVT: Hộp</td><td style = \"text-align: left;\">#Error</td><td style = \"text-align: left;\">-</td><td style = \"text-align: right;\">1</td><td style = \"font-style: italic; text-align: left;\">28/12/2022</td><td style = \"text-align: left;\">INTR/ 7563</td><td style = \"font-style: italic; text-align: left;\">CONG TY TNHH DUOC PHAM &amp; TTBYT HOANG DUC</td><td style = \"font-style: italic; text-align: left;\">12 NGUYEN HIEN, PHUONG 4, QUAN 3, TP.HCM</td><td style = \"font-style: italic; text-align: left;\">HN-KÉO ẢO HÀNG LÊN KHO ĐI ĐƯỜNG HÃNG YES HEALTH - CHỐT SALE CUỐI THÁNG BASED ON INVENTORY TRANSFER REQUEST 2554.</td><td style = \"font-style: italic; text-align: left;\">158.00</td><td style = \"font-style: italic; text-align: left;\">missing</td><td style = \"text-align: left;\">271.00</td><td style = \"font-style: italic; text-align: left;\">AL46614</td><td style = \"font-style: italic; text-align: left;\">02/08/2025</td><td style = \"font-style: italic; text-align: left;\">missing</td><td style = \"font-style: italic; text-align: left;\">missing</td><td style = \"font-style: italic; text-align: right;\">missing</td><td style = \"font-style: italic; text-align: left;\">missing</td><td style = \"text-align: left;\">54-2554</td><td style = \"text-align: left;\">#Error</td><td style = \"text-align: left;\">271.00</td><td style = \"text-align: left;\">271.00</td><td style = \"text-align: left;\">-</td></tr><tr><td class = \"rowNumber\" style = \"font-weight: bold; text-align: right;\">384610</td><td style = \"text-align: left;\">KHO HÀNG: WL301 - LONG HẬU - KHO HÀNG ĐI ĐƯỜNG</td><td style = \"text-align: left;\">MẶT HÀNG: YH6100013 - THUC PHAM BAO VE SUC KHOE YES KIDDO DHA250 - ĐVT: Hộp</td><td style = \"text-align: left;\">#Error</td><td style = \"text-align: left;\">-</td><td style = \"text-align: right;\">2</td><td style = \"font-style: italic; text-align: left;\">28/12/2022</td><td style = \"text-align: left;\">INTR/ 7567</td><td style = \"font-style: italic; text-align: left;\">missing</td><td style = \"font-style: italic; text-align: left;\">missing</td><td style = \"font-style: italic; text-align: left;\">KEO HANG YHV XLA MAIL NGAN 28.12.2022/YEN</td><td style = \"font-style: italic; text-align: left;\">missing</td><td style = \"font-style: italic; text-align: left;\">271.00</td><td style = \"text-align: left;\">-</td><td style = \"font-style: italic; text-align: left;\">AL46614</td><td style = \"font-style: italic; text-align: left;\">02/08/2025</td><td style = \"font-style: italic; text-align: left;\">WL301-FROM CN HA NOI</td><td style = \"font-style: italic; text-align: left;\">missing</td><td style = \"font-style: italic; text-align: right;\">missing</td><td style = \"font-style: italic; text-align: left;\">missing</td><td style = \"text-align: left;\">missing</td><td style = \"text-align: left;\">#Error</td><td style = \"text-align: left;\">271.00</td><td style = \"text-align: left;\">271.00</td><td style = \"text-align: left;\">-</td></tr><tr><td class = \"rowNumber\" style = \"font-weight: bold; text-align: right;\">384611</td><td style = \"text-align: left;\">KHO HÀNG: WS000 - HCM - KHO ẢO</td><td style = \"text-align: left;\">MẶT HÀNG: YH6100013 - THUC PHAM BAO VE SUC KHOE YES KIDDO DHA250 - ĐVT: Hộp</td><td style = \"text-align: left;\">#Error</td><td style = \"text-align: left;\">-</td><td style = \"text-align: right;\">0</td><td style = \"font-style: italic; text-align: left;\">missing</td><td style = \"text-align: left;\">/ -1</td><td style = \"font-style: italic; text-align: left;\">missing</td><td style = \"font-style: italic; text-align: left;\">missing</td><td style = \"font-style: italic; text-align: left;\">missing</td><td style = \"font-style: italic; text-align: left;\">missing</td><td style = \"font-style: italic; text-align: left;\">missing</td><td style = \"text-align: left;\">-</td><td style = \"font-style: italic; text-align: left;\">missing</td><td style = \"font-style: italic; text-align: left;\">missing</td><td style = \"font-style: italic; text-align: left;\">missing</td><td style = \"font-style: italic; text-align: left;\">missing</td><td style = \"font-style: italic; text-align: right;\">missing</td><td style = \"font-style: italic; text-align: left;\">missing</td><td style = \"text-align: left;\">missing</td><td style = \"text-align: left;\">#Error</td><td style = \"text-align: left;\">271.00</td><td style = \"text-align: left;\">271.00</td><td style = \"text-align: left;\">-</td></tr><tr><td class = \"rowNumber\" style = \"font-weight: bold; text-align: right;\">384612</td><td style = \"text-align: left;\">KHO HÀNG: WS000 - HCM - KHO ẢO</td><td style = \"text-align: left;\">MẶT HÀNG: YH6100013 - THUC PHAM BAO VE SUC KHOE YES KIDDO DHA250 - ĐVT: Hộp</td><td style = \"text-align: left;\">#Error</td><td style = \"text-align: left;\">-</td><td style = \"text-align: right;\">1</td><td style = \"font-style: italic; text-align: left;\">28/12/2022</td><td style = \"text-align: left;\">INTR/ 7567</td><td style = \"font-style: italic; text-align: left;\">missing</td><td style = \"font-style: italic; text-align: left;\">missing</td><td style = \"font-style: italic; text-align: left;\">KEO HANG YHV XLA MAIL NGAN 28.12.2022/YEN</td><td style = \"font-style: italic; text-align: left;\">271.00</td><td style = \"font-style: italic; text-align: left;\">missing</td><td style = \"text-align: left;\">271.00</td><td style = \"font-style: italic; text-align: left;\">AL46614</td><td style = \"font-style: italic; text-align: left;\">02/08/2025</td><td style = \"font-style: italic; text-align: left;\">WS000-SYSTEM-BIN-LOCATION</td><td style = \"font-style: italic; text-align: left;\">missing</td><td style = \"font-style: italic; text-align: right;\">missing</td><td style = \"font-style: italic; text-align: left;\">missing</td><td style = \"text-align: left;\">missing</td><td style = \"text-align: left;\">#Error</td><td style = \"text-align: left;\">271.00</td><td style = \"text-align: left;\">271.00</td><td style = \"text-align: left;\">-</td></tr><tr><td class = \"rowNumber\" style = \"font-weight: bold; text-align: right;\">384613</td><td style = \"text-align: left;\">KHO HÀNG: WS000 - HCM - KHO ẢO</td><td style = \"text-align: left;\">MẶT HÀNG: YH6100013 - THUC PHAM BAO VE SUC KHOE YES KIDDO DHA250 - ĐVT: Hộp</td><td style = \"text-align: left;\">#Error</td><td style = \"text-align: left;\">-</td><td style = \"text-align: right;\">2</td><td style = \"font-style: italic; text-align: left;\">29/12/2022</td><td style = \"text-align: left;\">APCM/ 166</td><td style = \"font-style: italic; text-align: left;\">CONG TY TNHH YES HEALTH VIET NAM</td><td style = \"font-style: italic; text-align: left;\">BT LP1-SH26, LO TT104-9, KDP DONG NAM PMR KHU B (VINHOMES THANG LONG),X.AN KHANH,H.HOAI DUC, TP.HN,V</td><td style = \"font-style: italic; text-align: left;\">TRA HANG YHV-TRA FULL TON KHO 2 CHI NHANH-XU LY THAY DOI VAT-29.12.2022</td><td style = \"font-style: italic; text-align: left;\">missing</td><td style = \"font-style: italic; text-align: left;\">199.00</td><td style = \"text-align: left;\">72.00</td><td style = \"font-style: italic; text-align: left;\">AL46614</td><td style = \"font-style: italic; text-align: left;\">02/08/2025</td><td style = \"font-style: italic; text-align: left;\">WS000-SYSTEM-BIN-LOCATION</td><td style = \"font-style: italic; text-align: left;\">missing</td><td style = \"font-style: italic; text-align: right;\">missing</td><td style = \"font-style: italic; text-align: left;\">missing</td><td style = \"text-align: left;\">missing</td><td style = \"text-align: left;\">#Error</td><td style = \"text-align: left;\">271.00</td><td style = \"text-align: left;\">271.00</td><td style = \"text-align: left;\">-</td></tr><tr><td class = \"rowNumber\" style = \"font-weight: bold; text-align: right;\">384614</td><td style = \"text-align: left;\">KHO HÀNG: WS000 - HCM - KHO ẢO</td><td style = \"text-align: left;\">MẶT HÀNG: YH6100013 - THUC PHAM BAO VE SUC KHOE YES KIDDO DHA250 - ĐVT: Hộp</td><td style = \"text-align: left;\">#Error</td><td style = \"text-align: left;\">-</td><td style = \"text-align: right;\">3</td><td style = \"font-style: italic; text-align: left;\">29/12/2022</td><td style = \"text-align: left;\">APCM/ 167</td><td style = \"font-style: italic; text-align: left;\">CONG TY TNHH YES HEALTH VIET NAM</td><td style = \"font-style: italic; text-align: left;\">BT LP1-SH26, LO TT104-9, KDP DONG NAM PMR KHU B (VINHOMES THANG LONG),X.AN KHANH,H.HOAI DUC, TP.HN,V</td><td style = \"font-style: italic; text-align: left;\">TRA HANG YHV-TRA FULL TON KHO 2 CHI NHANH-XU LY THAY DOI VAT-29.12.22-FOC: 471,715,506</td><td style = \"font-style: italic; text-align: left;\">missing</td><td style = \"font-style: italic; text-align: left;\">72.00</td><td style = \"text-align: left;\">-</td><td style = \"font-style: italic; text-align: left;\">AL46614</td><td style = \"font-style: italic; text-align: left;\">02/08/2025</td><td style = \"font-style: italic; text-align: left;\">WS000-SYSTEM-BIN-LOCATION</td><td style = \"font-style: italic; text-align: left;\">missing</td><td style = \"font-style: italic; text-align: right;\">missing</td><td style = \"font-style: italic; text-align: left;\">missing</td><td style = \"text-align: left;\">missing</td><td style = \"text-align: left;\">#Error</td><td style = \"text-align: left;\">271.00</td><td style = \"text-align: left;\">271.00</td><td style = \"text-align: left;\">-</td></tr></tbody></table></div>"
      ],
      "text/latex": [
       "\\begin{tabular}{r|ccc}\n",
       "\t& Warehouse & ItemName1 & \\\\\n",
       "\t\\hline\n",
       "\t& String & String & \\\\\n",
       "\t\\hline\n",
       "\t1 & KHO HÀNG: WL001 - LONG HẬU - KHO SỈ & MẶT HÀNG: 3M118 - 118 ATTEST BIOLOG INCUBATOR STEAM 56C - ĐVT: Cái & $\\dots$ \\\\\n",
       "\t2 & KHO HÀNG: WL001 - LONG HẬU - KHO SỈ & MẶT HÀNG: 3M1522 - 1522  BANG KEO 3.6 IN x 60 YD - ĐVT: Cuộn & $\\dots$ \\\\\n",
       "\t3 & KHO HÀNG: WL001 - LONG HẬU - KHO SỈ & MẶT HÀNG: 3M2306 - 2306 ONG NGHE LITTMANN XANH BIEN - ĐVT: Cái & $\\dots$ \\\\\n",
       "\t4 & KHO HÀNG: WL001 - LONG HẬU - KHO SỈ & MẶT HÀNG: 3M260-032 - 260-032 DAY DUY TRI 0.32 7'' - ĐVT: Cái & $\\dots$ \\\\\n",
       "\t5 & KHO HÀNG: WL001 - LONG HẬU - KHO SỈ & MẶT HÀNG: 3M290G - 290G MAY 240 VAC DOC MAU TEST DO DO TIET TRUNG THIET BI Y TE (CASE/1CAI) - ĐVT: Thùng & $\\dots$ \\\\\n",
       "\t6 & KHO HÀNG: WL001 - LONG HẬU - KHO SỈ & MẶT HÀNG: 3M390 - 390 MAY DOC HUYNH QUANG TEST VI SINH TIET TRUNG EO (CASE/1CAI) - ĐVT: Thùng & $\\dots$ \\\\\n",
       "\t7 & KHO HÀNG: WL001 - LONG HẬU - KHO SỈ & MẶT HÀNG: 3M63500 - 63500 MEN U AM (5/CASE) - ĐVT: Cái & $\\dots$ \\\\\n",
       "\t8 & KHO HÀNG: WL001 - LONG HẬU - KHO SỈ & MẶT HÀNG: 3MN95-23252 - GOWN (AO CHOANG CHO PHAU THUAT) [TUI/10CAI] - ĐVT: Cái & $\\dots$ \\\\\n",
       "\t9 & KHO HÀNG: HL001 - HD - LONG HẬU – KHO LONG HẬU SỈ & MẶT HÀNG: AB1100001 - DUPHALAC 10G/15ML SYR 15ML 20 - ĐVT: Hộp & $\\dots$ \\\\\n",
       "\t10 & KHO HÀNG: HL001 - HD - LONG HẬU – KHO LONG HẬU SỈ & MẶT HÀNG: AB1100001 - DUPHALAC 10G/15ML SYR 15ML 20 - ĐVT: Hộp & $\\dots$ \\\\\n",
       "\t11 & KHO HÀNG: HL001 - HD - LONG HẬU – KHO LONG HẬU SỈ & MẶT HÀNG: AB1100001 - DUPHALAC 10G/15ML SYR 15ML 20 - ĐVT: Hộp & $\\dots$ \\\\\n",
       "\t12 & KHO HÀNG: HL001 - HD - LONG HẬU – KHO LONG HẬU SỈ & MẶT HÀNG: AB1100001 - DUPHALAC 10G/15ML SYR 15ML 20 - ĐVT: Hộp & $\\dots$ \\\\\n",
       "\t13 & KHO HÀNG: HL001 - HD - LONG HẬU – KHO LONG HẬU SỈ & MẶT HÀNG: AB1100001 - DUPHALAC 10G/15ML SYR 15ML 20 - ĐVT: Hộp & $\\dots$ \\\\\n",
       "\t14 & KHO HÀNG: HL001 - HD - LONG HẬU – KHO LONG HẬU SỈ & MẶT HÀNG: AB1100001 - DUPHALAC 10G/15ML SYR 15ML 20 - ĐVT: Hộp & $\\dots$ \\\\\n",
       "\t15 & KHO HÀNG: HL001 - HD - LONG HẬU – KHO LONG HẬU SỈ & MẶT HÀNG: AB1100001 - DUPHALAC 10G/15ML SYR 15ML 20 - ĐVT: Hộp & $\\dots$ \\\\\n",
       "\t16 & KHO HÀNG: HL001 - HD - LONG HẬU – KHO LONG HẬU SỈ & MẶT HÀNG: AB1100001 - DUPHALAC 10G/15ML SYR 15ML 20 - ĐVT: Hộp & $\\dots$ \\\\\n",
       "\t17 & KHO HÀNG: HL001 - HD - LONG HẬU – KHO LONG HẬU SỈ & MẶT HÀNG: AB1100001 - DUPHALAC 10G/15ML SYR 15ML 20 - ĐVT: Hộp & $\\dots$ \\\\\n",
       "\t18 & KHO HÀNG: HL001 - HD - LONG HẬU – KHO LONG HẬU SỈ & MẶT HÀNG: AB1100001 - DUPHALAC 10G/15ML SYR 15ML 20 - ĐVT: Hộp & $\\dots$ \\\\\n",
       "\t19 & KHO HÀNG: HL001 - HD - LONG HẬU – KHO LONG HẬU SỈ & MẶT HÀNG: AB1100001 - DUPHALAC 10G/15ML SYR 15ML 20 - ĐVT: Hộp & $\\dots$ \\\\\n",
       "\t20 & KHO HÀNG: HL001 - HD - LONG HẬU – KHO LONG HẬU SỈ & MẶT HÀNG: AB1100001 - DUPHALAC 10G/15ML SYR 15ML 20 - ĐVT: Hộp & $\\dots$ \\\\\n",
       "\t21 & KHO HÀNG: HL001 - HD - LONG HẬU – KHO LONG HẬU SỈ & MẶT HÀNG: AB1100001 - DUPHALAC 10G/15ML SYR 15ML 20 - ĐVT: Hộp & $\\dots$ \\\\\n",
       "\t22 & KHO HÀNG: HL001 - HD - LONG HẬU – KHO LONG HẬU SỈ & MẶT HÀNG: AB1100001 - DUPHALAC 10G/15ML SYR 15ML 20 - ĐVT: Hộp & $\\dots$ \\\\\n",
       "\t23 & KHO HÀNG: HL001 - HD - LONG HẬU – KHO LONG HẬU SỈ & MẶT HÀNG: AB1100001 - DUPHALAC 10G/15ML SYR 15ML 20 - ĐVT: Hộp & $\\dots$ \\\\\n",
       "\t24 & KHO HÀNG: HL001 - HD - LONG HẬU – KHO LONG HẬU SỈ & MẶT HÀNG: AB1100001 - DUPHALAC 10G/15ML SYR 15ML 20 - ĐVT: Hộp & $\\dots$ \\\\\n",
       "\t$\\dots$ & $\\dots$ & $\\dots$ &  \\\\\n",
       "\\end{tabular}\n"
      ],
      "text/plain": [
       "\u001b[1m384614×24 DataFrame\u001b[0m\n",
       "\u001b[1m    Row \u001b[0m│\u001b[1m Warehouse                         \u001b[0m\u001b[1m ItemName1                        \u001b[0m ⋯\n",
       "        │\u001b[90m String                            \u001b[0m\u001b[90m String                           \u001b[0m ⋯\n",
       "────────┼───────────────────────────────────────────────────────────────────────\n",
       "      1 │ KHO HÀNG: WL001 - LONG HẬU - KHO…  MẶT HÀNG: 3M118 - 118 ATTEST BIO… ⋯\n",
       "      2 │ KHO HÀNG: WL001 - LONG HẬU - KHO…  MẶT HÀNG: 3M1522 - 1522  BANG KE…\n",
       "      3 │ KHO HÀNG: WL001 - LONG HẬU - KHO…  MẶT HÀNG: 3M2306 - 2306 ONG NGHE…\n",
       "      4 │ KHO HÀNG: WL001 - LONG HẬU - KHO…  MẶT HÀNG: 3M260-032 - 260-032 DA…\n",
       "      5 │ KHO HÀNG: WL001 - LONG HẬU - KHO…  MẶT HÀNG: 3M290G - 290G MAY 240 … ⋯\n",
       "      6 │ KHO HÀNG: WL001 - LONG HẬU - KHO…  MẶT HÀNG: 3M390 - 390 MAY DOC HU…\n",
       "      7 │ KHO HÀNG: WL001 - LONG HẬU - KHO…  MẶT HÀNG: 3M63500 - 63500 MEN U …\n",
       "      8 │ KHO HÀNG: WL001 - LONG HẬU - KHO…  MẶT HÀNG: 3MN95-23252 - GOWN (AO…\n",
       "   ⋮    │                 ⋮                                  ⋮                 ⋱\n",
       " 384608 │ KHO HÀNG: WL301 - LONG HẬU - KHO…  MẶT HÀNG: YH6100013 - THUC PHAM … ⋯\n",
       " 384609 │ KHO HÀNG: WL301 - LONG HẬU - KHO…  MẶT HÀNG: YH6100013 - THUC PHAM …\n",
       " 384610 │ KHO HÀNG: WL301 - LONG HẬU - KHO…  MẶT HÀNG: YH6100013 - THUC PHAM …\n",
       " 384611 │ KHO HÀNG: WS000 - HCM - KHO ẢO     MẶT HÀNG: YH6100013 - THUC PHAM …\n",
       " 384612 │ KHO HÀNG: WS000 - HCM - KHO ẢO     MẶT HÀNG: YH6100013 - THUC PHAM … ⋯\n",
       " 384613 │ KHO HÀNG: WS000 - HCM - KHO ẢO     MẶT HÀNG: YH6100013 - THUC PHAM …\n",
       " 384614 │ KHO HÀNG: WS000 - HCM - KHO ẢO     MẶT HÀNG: YH6100013 - THUC PHAM …\n",
       "\u001b[36m                                              22 columns and 384599 rows omitted\u001b[0m"
      ]
     },
     "metadata": {},
     "output_type": "display_data"
    }
   ],
   "source": [
    "\n",
    "# using Installed csv package for working with csv files\n",
    "using CSV\n",
    "using DataFrames\n",
    "\n",
    "# reading the csv file\n",
    "df_wh = CSV.read(\"C:/Users/vuongns/Downloads/03. Thẻ Kho_2212.csv\",DataFrame)"
   ]
  },
  {
   "attachments": {},
   "cell_type": "markdown",
   "metadata": {},
   "source": [
    "# self mapping the kho"
   ]
  },
  {
   "cell_type": "code",
   "execution_count": 5,
   "metadata": {},
   "outputs": [
    {
     "data": {
      "text/plain": [
       "384614-element SentinelArrays.SentinelVector{String, UndefInitializer, Missing, Vector{String}}:\n",
       " missing\n",
       " missing\n",
       " missing\n",
       " missing\n",
       " missing\n",
       " missing\n",
       " missing\n",
       " missing\n",
       " missing\n",
       " missing\n",
       " ⋮\n",
       " \"NHA THUOC NHI TRUNG\"\n",
       " \"CONG TY TNHH YES HEALTH VIET NAM\"\n",
       " \"CONG TY TNHH DUOC PHAM & TTBYT HOANG DUC\"\n",
       " \"CONG TY TNHH DUOC PHAM & TTBYT HOANG DUC\"\n",
       " missing\n",
       " missing\n",
       " missing\n",
       " \"CONG TY TNHH YES HEALTH VIET NAM\"\n",
       " \"CONG TY TNHH YES HEALTH VIET NAM\""
      ]
     },
     "metadata": {},
     "output_type": "display_data"
    }
   ],
   "source": [
    "# self mapping the kho\n",
    "# df_warehouse['W_CardName'] = np.where(df_warehouse['DocNo'].str[:4] == 'GR/ ',\n",
    "#                                       df_warehouse['Comments'], df_warehouse['CardName'])\n",
    "\n",
    "df_wh.W_CardName = ifelse(df_wh.DocNo[4] == \"GR/ \",df_wh.Comments,df_wh.CardName)\n",
    "\n",
    "# remove duplicate rows\n",
    "# df_warehouse.drop_duplicates(subset=['DocNo','W_CardName'], keep='first', inplace=True)\n",
    "# df_warehouse.head(3)"
   ]
  }
 ],
 "metadata": {
  "kernelspec": {
   "display_name": "Julia 1.8.1",
   "language": "julia",
   "name": "julia-1.8"
  },
  "language_info": {
   "file_extension": ".jl",
   "mimetype": "application/julia",
   "name": "julia",
   "version": "1.8.1"
  },
  "orig_nbformat": 4,
  "vscode": {
   "interpreter": {
    "hash": "2032aa041177d92e5352996c95b2930e105440edb995ebbc4d7b604c73732877"
   }
  }
 },
 "nbformat": 4,
 "nbformat_minor": 2
}
