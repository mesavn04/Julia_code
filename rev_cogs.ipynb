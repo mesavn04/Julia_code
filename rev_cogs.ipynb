{
 "cells": [
  {
   "cell_type": "code",
   "execution_count": 1,
   "metadata": {},
   "outputs": [
    {
     "name": "stderr",
     "output_type": "stream",
     "text": [
      "\u001b[32m\u001b[1m    Updating\u001b[22m\u001b[39m registry at `D:\\Software\\Portableapp\\JuliaPort\\userdata\\.julia\\registries\\General.toml`\n"
     ]
    },
    {
     "name": "stderr",
     "output_type": "stream",
     "text": [
      "\u001b[32m\u001b[1m   Resolving\u001b[22m\u001b[39m package versions..."
     ]
    },
    {
     "name": "stderr",
     "output_type": "stream",
     "text": [
      "\n",
      "\u001b[32m\u001b[1m  No Changes\u001b[22m\u001b[39m to `D:\\Software\\Portableapp\\JuliaPort\\userdata\\.julia\\environments\\v1.8\\Project.toml`\n",
      "\u001b[32m\u001b[1m  No Changes\u001b[22m\u001b[39m to `D:\\Software\\Portableapp\\JuliaPort\\userdata\\.julia\\environments\\v1.8\\Manifest.toml`"
     ]
    },
    {
     "name": "stderr",
     "output_type": "stream",
     "text": [
      "\n"
     ]
    }
   ],
   "source": [
    "using Pkg\n",
    "Pkg.add(\"IJulia\")"
   ]
  },
  {
   "attachments": {},
   "cell_type": "markdown",
   "metadata": {},
   "source": [
    "# read Mft"
   ]
  },
  {
   "cell_type": "code",
   "execution_count": 2,
   "metadata": {},
   "outputs": [
    {
     "name": "stderr",
     "output_type": "stream",
     "text": [
      "\u001b[32m\u001b[1m   Resolving\u001b[22m\u001b[39m package versions..."
     ]
    },
    {
     "name": "stderr",
     "output_type": "stream",
     "text": [
      "\n",
      "\u001b[32m\u001b[1m  No Changes\u001b[22m\u001b[39m to `D:\\Software\\Portableapp\\JuliaPort\\userdata\\.julia\\environments\\v1.8\\Project.toml`\n",
      "\u001b[32m\u001b[1m  No Changes\u001b[22m\u001b[39m to `D:\\Software\\Portableapp\\JuliaPort\\userdata\\.julia\\environments\\v1.8\\Manifest.toml`"
     ]
    },
    {
     "name": "stderr",
     "output_type": "stream",
     "text": [
      "\n"
     ]
    }
   ],
   "source": [
    "using Pkg\n",
    "Pkg.add(\"XLSX\")"
   ]
  },
  {
   "cell_type": "code",
   "execution_count": 3,
   "metadata": {},
   "outputs": [
    {
     "data": {
      "text/html": [
       "<div><div style = \"float: left;\"><span>110×4 DataFrame</span></div><div style = \"float: right;\"><span style = \"font-style: italic;\">85 rows omitted</span></div><div style = \"clear: both;\"></div></div><div class = \"data-frame\" style = \"overflow-x: scroll;\"><table class = \"data-frame\" style = \"margin-bottom: 6px;\"><thead><tr class = \"header\"><th class = \"rowNumber\" style = \"font-weight: bold; text-align: right;\">Row</th><th style = \"text-align: left;\">Group_name</th><th style = \"text-align: left;\">Manufacturer_Code</th><th style = \"text-align: left;\">Manufacturer_Name</th><th style = \"text-align: left;\">BU</th></tr><tr class = \"subheader headerLastRow\"><th class = \"rowNumber\" style = \"font-weight: bold; text-align: right;\"></th><th title = \"Any\" style = \"text-align: left;\">Any</th><th title = \"Any\" style = \"text-align: left;\">Any</th><th title = \"Any\" style = \"text-align: left;\">Any</th><th title = \"Any\" style = \"text-align: left;\">Any</th></tr></thead><tbody><tr><td class = \"rowNumber\" style = \"font-weight: bold; text-align: right;\">1</td><td style = \"text-align: left;\">VẬT TƯ TIÊU HAO</td><td style = \"text-align: left;\">M00002</td><td style = \"text-align: left;\">3M VIETNAM</td><td style = \"text-align: left;\">Dược phân phối</td></tr><tr><td class = \"rowNumber\" style = \"font-weight: bold; text-align: right;\">2</td><td style = \"text-align: left;\">VẬT TƯ TIÊU HAO</td><td style = \"text-align: left;\">M00007</td><td style = \"text-align: left;\">ASCENCIA</td><td style = \"text-align: left;\">VTTH</td></tr><tr><td class = \"rowNumber\" style = \"font-weight: bold; text-align: right;\">3</td><td style = \"text-align: left;\">VẬT TƯ TIÊU HAO</td><td style = \"text-align: left;\">M00070</td><td style = \"text-align: left;\">CONVATEC</td><td style = \"text-align: left;\">Dược phân phối</td></tr><tr><td class = \"rowNumber\" style = \"font-weight: bold; text-align: right;\">4</td><td style = \"text-align: left;\">DƯỢC PHẨM</td><td style = \"text-align: left;\">M00010</td><td style = \"text-align: left;\">BIOREC (CHEMO)</td><td style = \"text-align: left;\">Phòng mạch BS</td></tr><tr><td class = \"rowNumber\" style = \"font-weight: bold; text-align: right;\">5</td><td style = \"text-align: left;\">DƯỢC PHẨM</td><td style = \"text-align: left;\">M00017</td><td style = \"text-align: left;\">GETZ</td><td style = \"text-align: left;\">Dược phân phối</td></tr><tr><td class = \"rowNumber\" style = \"font-weight: bold; text-align: right;\">6</td><td style = \"text-align: left;\">DƯỢC PHẨM</td><td style = \"text-align: left;\">M00020</td><td style = \"text-align: left;\">HOE</td><td style = \"text-align: left;\">MSD (Tự doanh)</td></tr><tr><td class = \"rowNumber\" style = \"font-weight: bold; text-align: right;\">7</td><td style = \"text-align: left;\">DƯỢC PHẨM</td><td style = \"text-align: left;\">M00021</td><td style = \"text-align: left;\">HYPHENS</td><td style = \"text-align: left;\">Dược phân phối</td></tr><tr><td class = \"rowNumber\" style = \"font-weight: bold; text-align: right;\">8</td><td style = \"text-align: left;\">DƯỢC PHẨM</td><td style = \"text-align: left;\">M00023</td><td style = \"text-align: left;\">HANG LE</td><td style = \"text-align: left;\">Hàng lẻ</td></tr><tr><td class = \"rowNumber\" style = \"font-weight: bold; text-align: right;\">9</td><td style = \"text-align: left;\">DƯỢC PHẨM</td><td style = \"text-align: left;\">M00025</td><td style = \"text-align: left;\">NOVARTIS</td><td style = \"text-align: left;\">Phòng mạch BS</td></tr><tr><td class = \"rowNumber\" style = \"font-weight: bold; text-align: right;\">10</td><td style = \"text-align: left;\">DƯỢC PHẨM</td><td style = \"text-align: left;\">M00031</td><td style = \"text-align: left;\">ROHTO</td><td style = \"text-align: left;\">Dược phân phối</td></tr><tr><td class = \"rowNumber\" style = \"font-weight: bold; text-align: right;\">11</td><td style = \"text-align: left;\">DƯỢC PHẨM</td><td style = \"text-align: left;\">M00033</td><td style = \"text-align: left;\">SANDOZ</td><td style = \"text-align: left;\">MSD (Tự doanh)</td></tr><tr><td class = \"rowNumber\" style = \"font-weight: bold; text-align: right;\">12</td><td style = \"text-align: left;\">DƯỢC PHẨM</td><td style = \"text-align: left;\">M00041</td><td style = \"text-align: left;\">RELIV</td><td style = \"text-align: left;\">Nhà thầu phụ</td></tr><tr><td class = \"rowNumber\" style = \"font-weight: bold; text-align: right;\">13</td><td style = \"text-align: left;\">DƯỢC PHẨM</td><td style = \"text-align: left;\">M00044</td><td style = \"text-align: left;\">WOERWAG PHARMA</td><td style = \"text-align: left;\">Dược phân phối</td></tr><tr><td style = \"text-align: right;\">&vellip;</td><td style = \"text-align: right;\">&vellip;</td><td style = \"text-align: right;\">&vellip;</td><td style = \"text-align: right;\">&vellip;</td><td style = \"text-align: right;\">&vellip;</td></tr><tr><td class = \"rowNumber\" style = \"font-weight: bold; text-align: right;\">99</td><td style = \"text-align: left;\">DƯỢC PHẨM</td><td style = \"text-align: left;\">M00171</td><td style = \"text-align: left;\">ACTAVIS</td><td style = \"text-align: left;\">KDD2</td></tr><tr><td class = \"rowNumber\" style = \"font-weight: bold; text-align: right;\">100</td><td style = \"text-align: left;\">TRANG TBYT</td><td style = \"text-align: left;\">M00172</td><td style = \"text-align: left;\">MEDTRONIC VIET NAM</td><td style = \"text-align: left;\">Medical Device</td></tr><tr><td class = \"rowNumber\" style = \"font-weight: bold; text-align: right;\">101</td><td style = \"text-align: left;\">DƯỢC PHẨM</td><td style = \"text-align: left;\">M00137</td><td style = \"text-align: left;\">MEGA (DONG A)</td><td style = \"text-align: left;\">Nhà thầu phụ</td></tr><tr><td class = \"rowNumber\" style = \"font-weight: bold; text-align: right;\">102</td><td style = \"text-align: left;\">missing</td><td style = \"text-align: left;\">M00042</td><td style = \"text-align: left;\">BHARAT SERUMS&amp;VACCINE</td><td style = \"text-align: left;\">Dược phân phối</td></tr><tr><td class = \"rowNumber\" style = \"font-weight: bold; text-align: right;\">103</td><td style = \"text-align: left;\">DƯỢC PHẨM</td><td style = \"text-align: left;\">M00147</td><td style = \"text-align: left;\">GON SA</td><td style = \"text-align: left;\">Dược phân phối</td></tr><tr><td class = \"rowNumber\" style = \"font-weight: bold; text-align: right;\">104</td><td style = \"text-align: left;\">DƯỢC PHẨM</td><td style = \"text-align: left;\">M00174</td><td style = \"text-align: left;\">DAI DUONG</td><td style = \"text-align: left;\">Nhà thầu phụ</td></tr><tr><td class = \"rowNumber\" style = \"font-weight: bold; text-align: right;\">105</td><td style = \"text-align: left;\">TRANG TBYT</td><td style = \"text-align: left;\">M00175</td><td style = \"text-align: left;\">MERIT CO., LTD</td><td style = \"text-align: left;\">Medical Device</td></tr><tr><td class = \"rowNumber\" style = \"font-weight: bold; text-align: right;\">106</td><td style = \"text-align: left;\">DƯỢC PHẨM</td><td style = \"text-align: left;\">M00176</td><td style = \"text-align: left;\">EISAI VIET NAM</td><td style = \"text-align: left;\">Dược phân phối</td></tr><tr><td class = \"rowNumber\" style = \"font-weight: bold; text-align: right;\">107</td><td style = \"text-align: left;\">THỰC PHẨM CHỨC NĂNG</td><td style = \"text-align: left;\">M00177</td><td style = \"text-align: left;\">ELOVI VIET NAM</td><td style = \"text-align: left;\">Dược phân phối</td></tr><tr><td class = \"rowNumber\" style = \"font-weight: bold; text-align: right;\">108</td><td style = \"text-align: left;\">TRANG TBYT</td><td style = \"text-align: left;\">M00178</td><td style = \"text-align: left;\">GETZ BROS &amp; CO (VN)</td><td style = \"text-align: left;\">Dược phân phối</td></tr><tr><td class = \"rowNumber\" style = \"font-weight: bold; text-align: right;\">109</td><td style = \"text-align: left;\">DƯỢC PHẨM</td><td style = \"text-align: left;\">M00179</td><td style = \"text-align: left;\">RV GROUP VN</td><td style = \"text-align: left;\">Dược phân phối</td></tr><tr><td class = \"rowNumber\" style = \"font-weight: bold; text-align: right;\">110</td><td style = \"text-align: left;\">DƯỢC PHẨM</td><td style = \"text-align: left;\">M00180</td><td style = \"text-align: left;\">LUYE PHARMA</td><td style = \"text-align: left;\">Dược phân phối</td></tr></tbody></table></div>"
      ],
      "text/latex": [
       "\\begin{tabular}{r|cccc}\n",
       "\t& Group\\_name & Manufacturer\\_Code & Manufacturer\\_Name & BU\\\\\n",
       "\t\\hline\n",
       "\t& Any & Any & Any & Any\\\\\n",
       "\t\\hline\n",
       "\t1 & VẬT TƯ TIÊU HAO & M00002 & 3M VIETNAM & Dược phân phối \\\\\n",
       "\t2 & VẬT TƯ TIÊU HAO & M00007 & ASCENCIA & VTTH \\\\\n",
       "\t3 & VẬT TƯ TIÊU HAO & M00070 & CONVATEC & Dược phân phối \\\\\n",
       "\t4 & DƯỢC PHẨM & M00010 & BIOREC (CHEMO) & Phòng mạch BS \\\\\n",
       "\t5 & DƯỢC PHẨM & M00017 & GETZ & Dược phân phối \\\\\n",
       "\t6 & DƯỢC PHẨM & M00020 & HOE & MSD (Tự doanh) \\\\\n",
       "\t7 & DƯỢC PHẨM & M00021 & HYPHENS & Dược phân phối \\\\\n",
       "\t8 & DƯỢC PHẨM & M00023 & HANG LE & Hàng lẻ \\\\\n",
       "\t9 & DƯỢC PHẨM & M00025 & NOVARTIS & Phòng mạch BS \\\\\n",
       "\t10 & DƯỢC PHẨM & M00031 & ROHTO & Dược phân phối \\\\\n",
       "\t11 & DƯỢC PHẨM & M00033 & SANDOZ & MSD (Tự doanh) \\\\\n",
       "\t12 & DƯỢC PHẨM & M00041 & RELIV & Nhà thầu phụ \\\\\n",
       "\t13 & DƯỢC PHẨM & M00044 & WOERWAG PHARMA & Dược phân phối \\\\\n",
       "\t14 & DƯỢC PHẨM & M00045 & JW PHARMACEUTICAL & Dược phân phối \\\\\n",
       "\t15 & DƯỢC PHẨM & M00003 & ABBOTT & Phòng mạch BS \\\\\n",
       "\t16 & DƯỢC PHẨM & M00013 & DAEWOONG & Dược phân phối \\\\\n",
       "\t17 & DƯỢC PHẨM & M00084 & L.B.S LABORATORY LTD & Nhà thầu phụ \\\\\n",
       "\t18 & DƯỢC PHẨM & M00089 & ALLEVIARE LIFE & Dược phân phối \\\\\n",
       "\t19 & DƯỢC PHẨM & M00090 & SIV ASSOCIATES & Dược phân phối \\\\\n",
       "\t20 & DƯỢC PHẨM & M00091 & GLOMED & Dược phân phối \\\\\n",
       "\t21 & DƯỢC PHẨM & M00102 & STRAGEN & Phòng mạch BS \\\\\n",
       "\t22 & DƯỢC PHẨM & M00115 & DP SALA & Nhà thầu phụ \\\\\n",
       "\t23 & DƯỢC PHẨM & M00152 & DAVIPHARM & Dược phân phối \\\\\n",
       "\t24 & DƯỢC PHẨM & M00094 & BESINS & Phòng mạch BS \\\\\n",
       "\t$\\dots$ & $\\dots$ & $\\dots$ & $\\dots$ & $\\dots$ \\\\\n",
       "\\end{tabular}\n"
      ],
      "text/plain": [
       "\u001b[1m110×4 DataFrame\u001b[0m\n",
       "\u001b[1m Row \u001b[0m│\u001b[1m Group_name          \u001b[0m\u001b[1m Manufacturer_Code \u001b[0m\u001b[1m Manufacturer_Name     \u001b[0m\u001b[1m BU      \u001b[0m ⋯\n",
       "     │\u001b[90m Any                 \u001b[0m\u001b[90m Any               \u001b[0m\u001b[90m Any                   \u001b[0m\u001b[90m Any     \u001b[0m ⋯\n",
       "─────┼──────────────────────────────────────────────────────────────────────────\n",
       "   1 │ VẬT TƯ TIÊU HAO      M00002             3M VIETNAM             Dược phâ ⋯\n",
       "   2 │ VẬT TƯ TIÊU HAO      M00007             ASCENCIA               VTTH\n",
       "   3 │ VẬT TƯ TIÊU HAO      M00070             CONVATEC               Dược phâ\n",
       "   4 │ DƯỢC PHẨM            M00010             BIOREC (CHEMO)         Phòng mạ\n",
       "   5 │ DƯỢC PHẨM            M00017             GETZ                   Dược phâ ⋯\n",
       "   6 │ DƯỢC PHẨM            M00020             HOE                    MSD (Tự\n",
       "   7 │ DƯỢC PHẨM            M00021             HYPHENS                Dược phâ\n",
       "   8 │ DƯỢC PHẨM            M00023             HANG LE                Hàng lẻ\n",
       "  ⋮  │          ⋮                   ⋮                    ⋮                  ⋮  ⋱\n",
       " 104 │ DƯỢC PHẨM            M00174             DAI DUONG              Nhà thầu ⋯\n",
       " 105 │ TRANG TBYT           M00175             MERIT CO., LTD         Medical\n",
       " 106 │ DƯỢC PHẨM            M00176             EISAI VIET NAM         Dược phâ\n",
       " 107 │ THỰC PHẨM CHỨC NĂNG  M00177             ELOVI VIET NAM         Dược phâ\n",
       " 108 │ TRANG TBYT           M00178             GETZ BROS & CO (VN)    Dược phâ ⋯\n",
       " 109 │ DƯỢC PHẨM            M00179             RV GROUP VN            Dược phâ\n",
       " 110 │ DƯỢC PHẨM            M00180             LUYE PHARMA            Dược phâ\n",
       "\u001b[36m                                                    1 column and 95 rows omitted\u001b[0m"
      ]
     },
     "metadata": {},
     "output_type": "display_data"
    }
   ],
   "source": [
    "using DataFrames, XLSX\n",
    "df = DataFrame(XLSX.readtable(\"D:/HD/Downloads/Manufacture_data.xlsx\",\"Mft\"))"
   ]
  },
  {
   "attachments": {},
   "cell_type": "markdown",
   "metadata": {},
   "source": [
    "## read the kho"
   ]
  },
  {
   "cell_type": "code",
   "execution_count": 2,
   "metadata": {},
   "outputs": [
    {
     "name": "stderr",
     "output_type": "stream",
     "text": [
      "┌ Warning: could not download https://pkg.julialang.org/registries\n",
      "│   exception = Downloads.RequestError(\"https://pkg.julialang.org/registries\", 6, \"Could not resolve host: in.pkg.julialang.org\", Downloads.Response(\"https\", \"https://in.pkg.julialang.org/registries\", 301, \"HTTP/1.1 301 AS -> IN internal redirect trigger\", [\"connection\" => \"close\", \"content-length\" => \"0\", \"server\" => \"Varnish\", \"retry-after\" => \"0\", \"location\" => \"https://in.pkg.julialang.org/registries\", \"x-geo-continent\" => \"AS\", \"x-geo-country\" => \"VN\", \"x-geo-region\" => \"SG\", \"accept-ranges\" => \"bytes\", \"date\" => \"Thu, 05 Jan 2023 09:51:03 GMT\", \"via\" => \"1.1 varnish\", \"x-served-by\" => \"cache-hnd18725-HND\", \"x-cache\" => \"HIT\", \"x-cache-hits\" => \"0\", \"x-timer\" => \"S1672912263.384141,VS0,VE0\"]))\n",
      "└ @ Pkg.Registry C:\\buildbot\\worker\\package_win64\\build\\usr\\share\\julia\\stdlib\\v1.8\\Pkg\\src\\Registry\\Registry.jl:68\n",
      "\u001b[32m\u001b[1m    Updating\u001b[22m\u001b[39m registry at `D:\\Software\\Portableapp\\JuliaPort\\userdata\\.julia\\registries\\General.toml`"
     ]
    },
    {
     "name": "stderr",
     "output_type": "stream",
     "text": [
      "\n",
      "\u001b[32m\u001b[1m   Resolving\u001b[22m\u001b[39m "
     ]
    },
    {
     "name": "stderr",
     "output_type": "stream",
     "text": [
      "package versions...\n",
      "\u001b[32m\u001b[1m  No Changes\u001b[22m\u001b[39m to `D:\\Software\\Portableapp\\JuliaPort\\userdata\\.julia\\environments\\v1.8\\Project.toml`\n",
      "\u001b[32m\u001b[1m  No Changes\u001b[22m\u001b[39m to `D:\\Software\\Portableapp\\JuliaPort\\userdata\\.julia\\environments\\v1.8\\Manifest.toml`"
     ]
    },
    {
     "name": "stderr",
     "output_type": "stream",
     "text": [
      "\n"
     ]
    }
   ],
   "source": [
    "\n",
    "# using pkg to install packages\n",
    "using Pkg \n",
    " \n",
    "# using pkg to add csv package file to library\n",
    "Pkg.add(\"CSV\")"
   ]
  },
  {
   "cell_type": "code",
   "execution_count": 13,
   "metadata": {},
   "outputs": [
    {
     "data": {
      "text/html": [
       "<div><div style = \"float: left;\"><span>384614×24 DataFrame</span></div><div style = \"float: right;\"><span style = \"font-style: italic;\">384589 rows omitted</span></div><div style = \"clear: both;\"></div></div><div class = \"data-frame\" style = \"overflow-x: scroll;\"><table class = \"data-frame\" style = \"margin-bottom: 6px;\"><thead><tr class = \"header\"><th class = \"rowNumber\" style = \"font-weight: bold; text-align: right;\">Row</th><th style = \"text-align: left;\">Warehouse</th><th style = \"text-align: left;\">ItemName1</th><th style = \"text-align: left;\">Textbox126</th><th style = \"text-align: left;\">BeginStock</th><th style = \"text-align: left;\">Textbox9</th><th style = \"text-align: left;\">DocDate1</th><th style = \"text-align: left;\">DocNo</th><th style = \"text-align: left;\">CardName</th><th style = \"text-align: left;\">CardAddress</th><th style = \"text-align: left;\">Comments</th><th style = \"text-align: left;\">InQty</th><th style = \"text-align: left;\">OutQty</th><th style = \"text-align: left;\">Textbox44</th><th style = \"text-align: left;\">BatchNo</th><th style = \"text-align: left;\">ExpiryDate</th><th style = \"text-align: left;\">Location</th><th style = \"text-align: left;\">InvoiceSerial</th><th style = \"text-align: left;\">InvoiceCode1</th><th style = \"text-align: left;\">InvoiceDate</th><th style = \"text-align: left;\">u_sourceno2</th><th style = \"text-align: left;\">Textbox128</th><th style = \"text-align: left;\">InQty1</th><th style = \"text-align: left;\">OutQty1</th><th style = \"text-align: left;\">InQty2</th></tr><tr class = \"subheader headerLastRow\"><th class = \"rowNumber\" style = \"font-weight: bold; text-align: right;\"></th><th title = \"String\" style = \"text-align: left;\">String</th><th title = \"String\" style = \"text-align: left;\">String</th><th title = \"String31\" style = \"text-align: left;\">String31</th><th title = \"String15\" style = \"text-align: left;\">String15</th><th title = \"Int64\" style = \"text-align: left;\">Int64</th><th title = \"Union{Missing, String15}\" style = \"text-align: left;\">String15?</th><th title = \"String15\" style = \"text-align: left;\">String15</th><th title = \"Union{Missing, String}\" style = \"text-align: left;\">String?</th><th title = \"Union{Missing, String}\" style = \"text-align: left;\">String?</th><th title = \"Union{Missing, String}\" style = \"text-align: left;\">String?</th><th title = \"Union{Missing, String15}\" style = \"text-align: left;\">String15?</th><th title = \"Union{Missing, String15}\" style = \"text-align: left;\">String15?</th><th title = \"String15\" style = \"text-align: left;\">String15</th><th title = \"Union{Missing, String31}\" style = \"text-align: left;\">String31?</th><th title = \"Union{Missing, String15}\" style = \"text-align: left;\">String15?</th><th title = \"Union{Missing, String31}\" style = \"text-align: left;\">String31?</th><th title = \"Union{Missing, String7}\" style = \"text-align: left;\">String7?</th><th title = \"Union{Missing, Int64}\" style = \"text-align: left;\">Int64?</th><th title = \"Union{Missing, String15}\" style = \"text-align: left;\">String15?</th><th title = \"Union{Missing, String15}\" style = \"text-align: left;\">String15?</th><th title = \"String31\" style = \"text-align: left;\">String31</th><th title = \"String15\" style = \"text-align: left;\">String15</th><th title = \"String15\" style = \"text-align: left;\">String15</th><th title = \"String15\" style = \"text-align: left;\">String15</th></tr></thead><tbody><tr><td class = \"rowNumber\" style = \"font-weight: bold; text-align: right;\">1</td><td style = \"text-align: left;\">KHO HÀNG: WL001 - LONG HẬU - KHO SỈ</td><td style = \"text-align: left;\">MẶT HÀNG: 3M118 - 118 ATTEST BIOLOG INCUBATOR STEAM 56C - ĐVT: Cái</td><td style = \"text-align: left;\">Tồn đầu kỳ (01/12/2022)</td><td style = \"text-align: left;\">1.00</td><td style = \"text-align: right;\">0</td><td style = \"font-style: italic; text-align: left;\">missing</td><td style = \"text-align: left;\">/ -1</td><td style = \"font-style: italic; text-align: left;\">missing</td><td style = \"font-style: italic; text-align: left;\">missing</td><td style = \"font-style: italic; text-align: left;\">missing</td><td style = \"font-style: italic; text-align: left;\">missing</td><td style = \"font-style: italic; text-align: left;\">missing</td><td style = \"text-align: left;\">1.00</td><td style = \"font-style: italic; text-align: left;\">missing</td><td style = \"font-style: italic; text-align: left;\">missing</td><td style = \"font-style: italic; text-align: left;\">missing</td><td style = \"font-style: italic; text-align: left;\">missing</td><td style = \"font-style: italic; text-align: right;\">missing</td><td style = \"font-style: italic; text-align: left;\">missing</td><td style = \"font-style: italic; text-align: left;\">missing</td><td style = \"text-align: left;\">Cộng cuối kỳ (31/12/2022)</td><td style = \"text-align: left;\">-</td><td style = \"text-align: left;\">-</td><td style = \"text-align: left;\">1.00</td></tr><tr><td class = \"rowNumber\" style = \"font-weight: bold; text-align: right;\">2</td><td style = \"text-align: left;\">KHO HÀNG: WL001 - LONG HẬU - KHO SỈ</td><td style = \"text-align: left;\">MẶT HÀNG: 3M1522 - 1522  BANG KEO 3.6 IN x 60 YD - ĐVT: Cuộn</td><td style = \"text-align: left;\">Tồn đầu kỳ (01/12/2022)</td><td style = \"text-align: left;\">17.00</td><td style = \"text-align: right;\">0</td><td style = \"font-style: italic; text-align: left;\">missing</td><td style = \"text-align: left;\">/ -1</td><td style = \"font-style: italic; text-align: left;\">missing</td><td style = \"font-style: italic; text-align: left;\">missing</td><td style = \"font-style: italic; text-align: left;\">missing</td><td style = \"font-style: italic; text-align: left;\">missing</td><td style = \"font-style: italic; text-align: left;\">missing</td><td style = \"text-align: left;\">17.00</td><td style = \"font-style: italic; text-align: left;\">missing</td><td style = \"font-style: italic; text-align: left;\">missing</td><td style = \"font-style: italic; text-align: left;\">missing</td><td style = \"font-style: italic; text-align: left;\">missing</td><td style = \"font-style: italic; text-align: right;\">missing</td><td style = \"font-style: italic; text-align: left;\">missing</td><td style = \"font-style: italic; text-align: left;\">missing</td><td style = \"text-align: left;\">Cộng cuối kỳ (31/12/2022)</td><td style = \"text-align: left;\">-</td><td style = \"text-align: left;\">-</td><td style = \"text-align: left;\">17.00</td></tr><tr><td class = \"rowNumber\" style = \"font-weight: bold; text-align: right;\">3</td><td style = \"text-align: left;\">KHO HÀNG: WL001 - LONG HẬU - KHO SỈ</td><td style = \"text-align: left;\">MẶT HÀNG: 3M2306 - 2306 ONG NGHE LITTMANN XANH BIEN - ĐVT: Cái</td><td style = \"text-align: left;\">Tồn đầu kỳ (01/12/2022)</td><td style = \"text-align: left;\">50.00</td><td style = \"text-align: right;\">0</td><td style = \"font-style: italic; text-align: left;\">missing</td><td style = \"text-align: left;\">/ -1</td><td style = \"font-style: italic; text-align: left;\">missing</td><td style = \"font-style: italic; text-align: left;\">missing</td><td style = \"font-style: italic; text-align: left;\">missing</td><td style = \"font-style: italic; text-align: left;\">missing</td><td style = \"font-style: italic; text-align: left;\">missing</td><td style = \"text-align: left;\">50.00</td><td style = \"font-style: italic; text-align: left;\">missing</td><td style = \"font-style: italic; text-align: left;\">missing</td><td style = \"font-style: italic; text-align: left;\">missing</td><td style = \"font-style: italic; text-align: left;\">missing</td><td style = \"font-style: italic; text-align: right;\">missing</td><td style = \"font-style: italic; text-align: left;\">missing</td><td style = \"font-style: italic; text-align: left;\">missing</td><td style = \"text-align: left;\">Cộng cuối kỳ (31/12/2022)</td><td style = \"text-align: left;\">-</td><td style = \"text-align: left;\">-</td><td style = \"text-align: left;\">50.00</td></tr><tr><td class = \"rowNumber\" style = \"font-weight: bold; text-align: right;\">4</td><td style = \"text-align: left;\">KHO HÀNG: WL001 - LONG HẬU - KHO SỈ</td><td style = \"text-align: left;\">MẶT HÀNG: 3M260-032 - 260-032 DAY DUY TRI 0.32 7&apos;&apos; - ĐVT: Cái</td><td style = \"text-align: left;\">Tồn đầu kỳ (01/12/2022)</td><td style = \"text-align: left;\">1.00</td><td style = \"text-align: right;\">0</td><td style = \"font-style: italic; text-align: left;\">missing</td><td style = \"text-align: left;\">/ -1</td><td style = \"font-style: italic; text-align: left;\">missing</td><td style = \"font-style: italic; text-align: left;\">missing</td><td style = \"font-style: italic; text-align: left;\">missing</td><td style = \"font-style: italic; text-align: left;\">missing</td><td style = \"font-style: italic; text-align: left;\">missing</td><td style = \"text-align: left;\">1.00</td><td style = \"font-style: italic; text-align: left;\">missing</td><td style = \"font-style: italic; text-align: left;\">missing</td><td style = \"font-style: italic; text-align: left;\">missing</td><td style = \"font-style: italic; text-align: left;\">missing</td><td style = \"font-style: italic; text-align: right;\">missing</td><td style = \"font-style: italic; text-align: left;\">missing</td><td style = \"font-style: italic; text-align: left;\">missing</td><td style = \"text-align: left;\">Cộng cuối kỳ (31/12/2022)</td><td style = \"text-align: left;\">-</td><td style = \"text-align: left;\">-</td><td style = \"text-align: left;\">1.00</td></tr><tr><td class = \"rowNumber\" style = \"font-weight: bold; text-align: right;\">5</td><td style = \"text-align: left;\">KHO HÀNG: WL001 - LONG HẬU - KHO SỈ</td><td style = \"text-align: left;\">MẶT HÀNG: 3M290G - 290G MAY 240 VAC DOC MAU TEST DO DO TIET TRUNG THIET BI Y TE (CASE/1CAI) - ĐVT: Thùng</td><td style = \"text-align: left;\">Tồn đầu kỳ (01/12/2022)</td><td style = \"text-align: left;\">1.00</td><td style = \"text-align: right;\">0</td><td style = \"font-style: italic; text-align: left;\">missing</td><td style = \"text-align: left;\">/ -1</td><td style = \"font-style: italic; text-align: left;\">missing</td><td style = \"font-style: italic; text-align: left;\">missing</td><td style = \"font-style: italic; text-align: left;\">missing</td><td style = \"font-style: italic; text-align: left;\">missing</td><td style = \"font-style: italic; text-align: left;\">missing</td><td style = \"text-align: left;\">1.00</td><td style = \"font-style: italic; text-align: left;\">missing</td><td style = \"font-style: italic; text-align: left;\">missing</td><td style = \"font-style: italic; text-align: left;\">missing</td><td style = \"font-style: italic; text-align: left;\">missing</td><td style = \"font-style: italic; text-align: right;\">missing</td><td style = \"font-style: italic; text-align: left;\">missing</td><td style = \"font-style: italic; text-align: left;\">missing</td><td style = \"text-align: left;\">Cộng cuối kỳ (31/12/2022)</td><td style = \"text-align: left;\">-</td><td style = \"text-align: left;\">-</td><td style = \"text-align: left;\">1.00</td></tr><tr><td class = \"rowNumber\" style = \"font-weight: bold; text-align: right;\">6</td><td style = \"text-align: left;\">KHO HÀNG: WL001 - LONG HẬU - KHO SỈ</td><td style = \"text-align: left;\">MẶT HÀNG: 3M390 - 390 MAY DOC HUYNH QUANG TEST VI SINH TIET TRUNG EO (CASE/1CAI) - ĐVT: Thùng</td><td style = \"text-align: left;\">Tồn đầu kỳ (01/12/2022)</td><td style = \"text-align: left;\">2.00</td><td style = \"text-align: right;\">0</td><td style = \"font-style: italic; text-align: left;\">missing</td><td style = \"text-align: left;\">/ -1</td><td style = \"font-style: italic; text-align: left;\">missing</td><td style = \"font-style: italic; text-align: left;\">missing</td><td style = \"font-style: italic; text-align: left;\">missing</td><td style = \"font-style: italic; text-align: left;\">missing</td><td style = \"font-style: italic; text-align: left;\">missing</td><td style = \"text-align: left;\">2.00</td><td style = \"font-style: italic; text-align: left;\">missing</td><td style = \"font-style: italic; text-align: left;\">missing</td><td style = \"font-style: italic; text-align: left;\">missing</td><td style = \"font-style: italic; text-align: left;\">missing</td><td style = \"font-style: italic; text-align: right;\">missing</td><td style = \"font-style: italic; text-align: left;\">missing</td><td style = \"font-style: italic; text-align: left;\">missing</td><td style = \"text-align: left;\">Cộng cuối kỳ (31/12/2022)</td><td style = \"text-align: left;\">-</td><td style = \"text-align: left;\">-</td><td style = \"text-align: left;\">2.00</td></tr><tr><td class = \"rowNumber\" style = \"font-weight: bold; text-align: right;\">7</td><td style = \"text-align: left;\">KHO HÀNG: WL001 - LONG HẬU - KHO SỈ</td><td style = \"text-align: left;\">MẶT HÀNG: 3M63500 - 63500 MEN U AM (5/CASE) - ĐVT: Cái</td><td style = \"text-align: left;\">Tồn đầu kỳ (01/12/2022)</td><td style = \"text-align: left;\">5.00</td><td style = \"text-align: right;\">0</td><td style = \"font-style: italic; text-align: left;\">missing</td><td style = \"text-align: left;\">/ -1</td><td style = \"font-style: italic; text-align: left;\">missing</td><td style = \"font-style: italic; text-align: left;\">missing</td><td style = \"font-style: italic; text-align: left;\">missing</td><td style = \"font-style: italic; text-align: left;\">missing</td><td style = \"font-style: italic; text-align: left;\">missing</td><td style = \"text-align: left;\">5.00</td><td style = \"font-style: italic; text-align: left;\">missing</td><td style = \"font-style: italic; text-align: left;\">missing</td><td style = \"font-style: italic; text-align: left;\">missing</td><td style = \"font-style: italic; text-align: left;\">missing</td><td style = \"font-style: italic; text-align: right;\">missing</td><td style = \"font-style: italic; text-align: left;\">missing</td><td style = \"font-style: italic; text-align: left;\">missing</td><td style = \"text-align: left;\">Cộng cuối kỳ (31/12/2022)</td><td style = \"text-align: left;\">-</td><td style = \"text-align: left;\">-</td><td style = \"text-align: left;\">5.00</td></tr><tr><td class = \"rowNumber\" style = \"font-weight: bold; text-align: right;\">8</td><td style = \"text-align: left;\">KHO HÀNG: WL001 - LONG HẬU - KHO SỈ</td><td style = \"text-align: left;\">MẶT HÀNG: 3MN95-23252 - GOWN (AO CHOANG CHO PHAU THUAT) [TUI/10CAI] - ĐVT: Cái</td><td style = \"text-align: left;\">Tồn đầu kỳ (01/12/2022)</td><td style = \"text-align: left;\">30.00</td><td style = \"text-align: right;\">0</td><td style = \"font-style: italic; text-align: left;\">missing</td><td style = \"text-align: left;\">/ -1</td><td style = \"font-style: italic; text-align: left;\">missing</td><td style = \"font-style: italic; text-align: left;\">missing</td><td style = \"font-style: italic; text-align: left;\">missing</td><td style = \"font-style: italic; text-align: left;\">missing</td><td style = \"font-style: italic; text-align: left;\">missing</td><td style = \"text-align: left;\">30.00</td><td style = \"font-style: italic; text-align: left;\">missing</td><td style = \"font-style: italic; text-align: left;\">missing</td><td style = \"font-style: italic; text-align: left;\">missing</td><td style = \"font-style: italic; text-align: left;\">missing</td><td style = \"font-style: italic; text-align: right;\">missing</td><td style = \"font-style: italic; text-align: left;\">missing</td><td style = \"font-style: italic; text-align: left;\">missing</td><td style = \"text-align: left;\">Cộng cuối kỳ (31/12/2022)</td><td style = \"text-align: left;\">-</td><td style = \"text-align: left;\">-</td><td style = \"text-align: left;\">30.00</td></tr><tr><td class = \"rowNumber\" style = \"font-weight: bold; text-align: right;\">9</td><td style = \"text-align: left;\">KHO HÀNG: HL001 - HD - LONG HẬU – KHO LONG HẬU SỈ</td><td style = \"text-align: left;\">MẶT HÀNG: AB1100001 - DUPHALAC 10G/15ML SYR 15ML 20 - ĐVT: Hộp</td><td style = \"text-align: left;\">Tồn đầu kỳ (01/12/2022)</td><td style = \"text-align: left;\">1,726.00</td><td style = \"text-align: right;\">0</td><td style = \"font-style: italic; text-align: left;\">missing</td><td style = \"text-align: left;\">/ -1</td><td style = \"font-style: italic; text-align: left;\">missing</td><td style = \"font-style: italic; text-align: left;\">missing</td><td style = \"font-style: italic; text-align: left;\">missing</td><td style = \"font-style: italic; text-align: left;\">missing</td><td style = \"font-style: italic; text-align: left;\">missing</td><td style = \"text-align: left;\">-10.00</td><td style = \"font-style: italic; text-align: left;\">missing</td><td style = \"font-style: italic; text-align: left;\">missing</td><td style = \"font-style: italic; text-align: left;\">missing</td><td style = \"font-style: italic; text-align: left;\">missing</td><td style = \"font-style: italic; text-align: right;\">missing</td><td style = \"font-style: italic; text-align: left;\">missing</td><td style = \"text-align: left;\">1-133733</td><td style = \"text-align: left;\">Cộng cuối kỳ (31/12/2022)</td><td style = \"text-align: left;\">-</td><td style = \"text-align: left;\">59.00</td><td style = \"text-align: left;\">1,667.00</td></tr><tr><td class = \"rowNumber\" style = \"font-weight: bold; text-align: right;\">10</td><td style = \"text-align: left;\">KHO HÀNG: HL001 - HD - LONG HẬU – KHO LONG HẬU SỈ</td><td style = \"text-align: left;\">MẶT HÀNG: AB1100001 - DUPHALAC 10G/15ML SYR 15ML 20 - ĐVT: Hộp</td><td style = \"text-align: left;\">Tồn đầu kỳ (01/12/2022)</td><td style = \"text-align: left;\">1,726.00</td><td style = \"text-align: right;\">1</td><td style = \"font-style: italic; text-align: left;\">missing</td><td style = \"text-align: left;\">/ -1</td><td style = \"font-style: italic; text-align: left;\">missing</td><td style = \"font-style: italic; text-align: left;\">missing</td><td style = \"font-style: italic; text-align: left;\">missing</td><td style = \"font-style: italic; text-align: left;\">missing</td><td style = \"font-style: italic; text-align: left;\">missing</td><td style = \"text-align: left;\">-</td><td style = \"font-style: italic; text-align: left;\">missing</td><td style = \"font-style: italic; text-align: left;\">missing</td><td style = \"font-style: italic; text-align: left;\">missing</td><td style = \"font-style: italic; text-align: left;\">missing</td><td style = \"font-style: italic; text-align: right;\">missing</td><td style = \"font-style: italic; text-align: left;\">missing</td><td style = \"text-align: left;\">54-1603</td><td style = \"text-align: left;\">Cộng cuối kỳ (31/12/2022)</td><td style = \"text-align: left;\">-</td><td style = \"text-align: left;\">59.00</td><td style = \"text-align: left;\">1,667.00</td></tr><tr><td class = \"rowNumber\" style = \"font-weight: bold; text-align: right;\">11</td><td style = \"text-align: left;\">KHO HÀNG: HL001 - HD - LONG HẬU – KHO LONG HẬU SỈ</td><td style = \"text-align: left;\">MẶT HÀNG: AB1100001 - DUPHALAC 10G/15ML SYR 15ML 20 - ĐVT: Hộp</td><td style = \"text-align: left;\">Tồn đầu kỳ (01/12/2022)</td><td style = \"text-align: left;\">1,726.00</td><td style = \"text-align: right;\">2</td><td style = \"font-style: italic; text-align: left;\">missing</td><td style = \"text-align: left;\">/ -1</td><td style = \"font-style: italic; text-align: left;\">missing</td><td style = \"font-style: italic; text-align: left;\">missing</td><td style = \"font-style: italic; text-align: left;\">missing</td><td style = \"font-style: italic; text-align: left;\">missing</td><td style = \"font-style: italic; text-align: left;\">missing</td><td style = \"text-align: left;\">-10.00</td><td style = \"font-style: italic; text-align: left;\">missing</td><td style = \"font-style: italic; text-align: left;\">missing</td><td style = \"font-style: italic; text-align: left;\">missing</td><td style = \"font-style: italic; text-align: left;\">missing</td><td style = \"font-style: italic; text-align: right;\">missing</td><td style = \"font-style: italic; text-align: left;\">missing</td><td style = \"text-align: left;\">1-135645</td><td style = \"text-align: left;\">Cộng cuối kỳ (31/12/2022)</td><td style = \"text-align: left;\">-</td><td style = \"text-align: left;\">59.00</td><td style = \"text-align: left;\">1,667.00</td></tr><tr><td class = \"rowNumber\" style = \"font-weight: bold; text-align: right;\">12</td><td style = \"text-align: left;\">KHO HÀNG: HL001 - HD - LONG HẬU – KHO LONG HẬU SỈ</td><td style = \"text-align: left;\">MẶT HÀNG: AB1100001 - DUPHALAC 10G/15ML SYR 15ML 20 - ĐVT: Hộp</td><td style = \"text-align: left;\">Tồn đầu kỳ (01/12/2022)</td><td style = \"text-align: left;\">1,726.00</td><td style = \"text-align: right;\">3</td><td style = \"font-style: italic; text-align: left;\">missing</td><td style = \"text-align: left;\">/ -1</td><td style = \"font-style: italic; text-align: left;\">missing</td><td style = \"font-style: italic; text-align: left;\">missing</td><td style = \"font-style: italic; text-align: left;\">missing</td><td style = \"font-style: italic; text-align: left;\">missing</td><td style = \"font-style: italic; text-align: left;\">missing</td><td style = \"text-align: left;\">-64.00</td><td style = \"font-style: italic; text-align: left;\">missing</td><td style = \"font-style: italic; text-align: left;\">missing</td><td style = \"font-style: italic; text-align: left;\">missing</td><td style = \"font-style: italic; text-align: left;\">missing</td><td style = \"font-style: italic; text-align: right;\">missing</td><td style = \"font-style: italic; text-align: left;\">missing</td><td style = \"text-align: left;\">1-171632</td><td style = \"text-align: left;\">Cộng cuối kỳ (31/12/2022)</td><td style = \"text-align: left;\">-</td><td style = \"text-align: left;\">59.00</td><td style = \"text-align: left;\">1,667.00</td></tr><tr><td class = \"rowNumber\" style = \"font-weight: bold; text-align: right;\">13</td><td style = \"text-align: left;\">KHO HÀNG: HL001 - HD - LONG HẬU – KHO LONG HẬU SỈ</td><td style = \"text-align: left;\">MẶT HÀNG: AB1100001 - DUPHALAC 10G/15ML SYR 15ML 20 - ĐVT: Hộp</td><td style = \"text-align: left;\">Tồn đầu kỳ (01/12/2022)</td><td style = \"text-align: left;\">1,726.00</td><td style = \"text-align: right;\">4</td><td style = \"font-style: italic; text-align: left;\">missing</td><td style = \"text-align: left;\">/ -1</td><td style = \"font-style: italic; text-align: left;\">missing</td><td style = \"font-style: italic; text-align: left;\">missing</td><td style = \"font-style: italic; text-align: left;\">missing</td><td style = \"font-style: italic; text-align: left;\">missing</td><td style = \"font-style: italic; text-align: left;\">missing</td><td style = \"text-align: left;\">-69.00</td><td style = \"font-style: italic; text-align: left;\">missing</td><td style = \"font-style: italic; text-align: left;\">missing</td><td style = \"font-style: italic; text-align: left;\">missing</td><td style = \"font-style: italic; text-align: left;\">missing</td><td style = \"font-style: italic; text-align: right;\">missing</td><td style = \"font-style: italic; text-align: left;\">missing</td><td style = \"text-align: left;\">1-201956</td><td style = \"text-align: left;\">Cộng cuối kỳ (31/12/2022)</td><td style = \"text-align: left;\">-</td><td style = \"text-align: left;\">59.00</td><td style = \"text-align: left;\">1,667.00</td></tr><tr><td style = \"text-align: right;\">&vellip;</td><td style = \"text-align: right;\">&vellip;</td><td style = \"text-align: right;\">&vellip;</td><td style = \"text-align: right;\">&vellip;</td><td style = \"text-align: right;\">&vellip;</td><td style = \"text-align: right;\">&vellip;</td><td style = \"text-align: right;\">&vellip;</td><td style = \"text-align: right;\">&vellip;</td><td style = \"text-align: right;\">&vellip;</td><td style = \"text-align: right;\">&vellip;</td><td style = \"text-align: right;\">&vellip;</td><td style = \"text-align: right;\">&vellip;</td><td style = \"text-align: right;\">&vellip;</td><td style = \"text-align: right;\">&vellip;</td><td style = \"text-align: right;\">&vellip;</td><td style = \"text-align: right;\">&vellip;</td><td style = \"text-align: right;\">&vellip;</td><td style = \"text-align: right;\">&vellip;</td><td style = \"text-align: right;\">&vellip;</td><td style = \"text-align: right;\">&vellip;</td><td style = \"text-align: right;\">&vellip;</td><td style = \"text-align: right;\">&vellip;</td><td style = \"text-align: right;\">&vellip;</td><td style = \"text-align: right;\">&vellip;</td><td style = \"text-align: right;\">&vellip;</td></tr><tr><td class = \"rowNumber\" style = \"font-weight: bold; text-align: right;\">384603</td><td style = \"text-align: left;\">KHO HÀNG: WL001 - LONG HẬU - KHO SỈ</td><td style = \"text-align: left;\">MẶT HÀNG: YH6100013 - THUC PHAM BAO VE SUC KHOE YES KIDDO DHA250 - ĐVT: Hộp</td><td style = \"text-align: left;\">Tồn đầu kỳ (01/12/2022)</td><td style = \"text-align: left;\">146.00</td><td style = \"text-align: right;\">45</td><td style = \"font-style: italic; text-align: left;\">27/12/2022</td><td style = \"text-align: left;\">ARINV/ 245672</td><td style = \"font-style: italic; text-align: left;\">CONG TY TNHH TRUNG SON ALPHA</td><td style = \"font-style: italic; text-align: left;\">THUA DAT SO 13195 TBD SO 1-DUONG MAI CHI THO, KDC LO SO 20, PHUONG PHU THU, Q. CAI RANG, TP.CAN THO</td><td style = \"font-style: italic; text-align: left;\">HALE</td><td style = \"font-style: italic; text-align: left;\">missing</td><td style = \"font-style: italic; text-align: left;\">100.00</td><td style = \"text-align: left;\">120.00</td><td style = \"font-style: italic; text-align: left;\">AL46614</td><td style = \"font-style: italic; text-align: left;\">02/08/2025</td><td style = \"font-style: italic; text-align: left;\">WL001-SYSTEM-BIN-LOCATION</td><td style = \"font-style: italic; text-align: left;\">C22TAA</td><td style = \"font-style: italic; text-align: right;\">107692</td><td style = \"font-style: italic; text-align: left;\">30/12/2022</td><td style = \"text-align: left;\">1-255749</td><td style = \"text-align: left;\">Cộng cuối kỳ (31/12/2022)</td><td style = \"text-align: left;\">350.00</td><td style = \"text-align: left;\">496.00</td><td style = \"text-align: left;\">-</td></tr><tr><td class = \"rowNumber\" style = \"font-weight: bold; text-align: right;\">384604</td><td style = \"text-align: left;\">KHO HÀNG: WL001 - LONG HẬU - KHO SỈ</td><td style = \"text-align: left;\">MẶT HÀNG: YH6100013 - THUC PHAM BAO VE SUC KHOE YES KIDDO DHA250 - ĐVT: Hộp</td><td style = \"text-align: left;\">Tồn đầu kỳ (01/12/2022)</td><td style = \"text-align: left;\">146.00</td><td style = \"text-align: right;\">46</td><td style = \"font-style: italic; text-align: left;\">27/12/2022</td><td style = \"text-align: left;\">ARINV/ 245964</td><td style = \"font-style: italic; text-align: left;\">NT THUY AN</td><td style = \"font-style: italic; text-align: left;\">340 HOA HAO, PHUONG 4, QUAN 10, TPHCM</td><td style = \"font-style: italic; text-align: left;\">MAILTO:HALE@YESHEALTH.COM.VN</td><td style = \"font-style: italic; text-align: left;\">missing</td><td style = \"font-style: italic; text-align: left;\">2.00</td><td style = \"text-align: left;\">118.00</td><td style = \"font-style: italic; text-align: left;\">AL46614</td><td style = \"font-style: italic; text-align: left;\">02/08/2025</td><td style = \"font-style: italic; text-align: left;\">WL001-SYSTEM-BIN-LOCATION</td><td style = \"font-style: italic; text-align: left;\">C22TAA</td><td style = \"font-style: italic; text-align: right;\">106248</td><td style = \"font-style: italic; text-align: left;\">27/12/2022</td><td style = \"text-align: left;\">1-256129</td><td style = \"text-align: left;\">Cộng cuối kỳ (31/12/2022)</td><td style = \"text-align: left;\">350.00</td><td style = \"text-align: left;\">496.00</td><td style = \"text-align: left;\">-</td></tr><tr><td class = \"rowNumber\" style = \"font-weight: bold; text-align: right;\">384605</td><td style = \"text-align: left;\">KHO HÀNG: WL001 - LONG HẬU - KHO SỈ</td><td style = \"text-align: left;\">MẶT HÀNG: YH6100013 - THUC PHAM BAO VE SUC KHOE YES KIDDO DHA250 - ĐVT: Hộp</td><td style = \"text-align: left;\">Tồn đầu kỳ (01/12/2022)</td><td style = \"text-align: left;\">146.00</td><td style = \"text-align: right;\">47</td><td style = \"font-style: italic; text-align: left;\">27/12/2022</td><td style = \"text-align: left;\">ARINV/ 245964</td><td style = \"font-style: italic; text-align: left;\">NT THUY AN</td><td style = \"font-style: italic; text-align: left;\">340 HOA HAO, PHUONG 4, QUAN 10, TPHCM</td><td style = \"font-style: italic; text-align: left;\">MAILTO:HALE@YESHEALTH.COM.VN</td><td style = \"font-style: italic; text-align: left;\">missing</td><td style = \"font-style: italic; text-align: left;\">1.00</td><td style = \"text-align: left;\">117.00</td><td style = \"font-style: italic; text-align: left;\">AL46614</td><td style = \"font-style: italic; text-align: left;\">02/08/2025</td><td style = \"font-style: italic; text-align: left;\">WL001-SYSTEM-BIN-LOCATION</td><td style = \"font-style: italic; text-align: left;\">C22TAA</td><td style = \"font-style: italic; text-align: right;\">106248</td><td style = \"font-style: italic; text-align: left;\">27/12/2022</td><td style = \"text-align: left;\">1-256129</td><td style = \"text-align: left;\">Cộng cuối kỳ (31/12/2022)</td><td style = \"text-align: left;\">350.00</td><td style = \"text-align: left;\">496.00</td><td style = \"text-align: left;\">-</td></tr><tr><td class = \"rowNumber\" style = \"font-weight: bold; text-align: right;\">384606</td><td style = \"text-align: left;\">KHO HÀNG: WL001 - LONG HẬU - KHO SỈ</td><td style = \"text-align: left;\">MẶT HÀNG: YH6100013 - THUC PHAM BAO VE SUC KHOE YES KIDDO DHA250 - ĐVT: Hộp</td><td style = \"text-align: left;\">Tồn đầu kỳ (01/12/2022)</td><td style = \"text-align: left;\">146.00</td><td style = \"text-align: right;\">48</td><td style = \"font-style: italic; text-align: left;\">27/12/2022</td><td style = \"text-align: left;\">ARINV/ 246222</td><td style = \"font-style: italic; text-align: left;\">NHA THUOC NHI TRUNG</td><td style = \"font-style: italic; text-align: left;\">410-412 HAI BA TRUNG, P. TAN DINH, Q1,TP.HCM</td><td style = \"font-style: italic; text-align: left;\">HALE@YESHEALTH.COM.VN\\rTHU TIỀN MẶT</td><td style = \"font-style: italic; text-align: left;\">missing</td><td style = \"font-style: italic; text-align: left;\">5.00</td><td style = \"text-align: left;\">112.00</td><td style = \"font-style: italic; text-align: left;\">AL46614</td><td style = \"font-style: italic; text-align: left;\">02/08/2025</td><td style = \"font-style: italic; text-align: left;\">WL001-SYSTEM-BIN-LOCATION</td><td style = \"font-style: italic; text-align: left;\">C22TAA</td><td style = \"font-style: italic; text-align: right;\">106460</td><td style = \"font-style: italic; text-align: left;\">27/12/2022</td><td style = \"text-align: left;\">1-256303</td><td style = \"text-align: left;\">Cộng cuối kỳ (31/12/2022)</td><td style = \"text-align: left;\">350.00</td><td style = \"text-align: left;\">496.00</td><td style = \"text-align: left;\">-</td></tr><tr><td class = \"rowNumber\" style = \"font-weight: bold; text-align: right;\">384607</td><td style = \"text-align: left;\">KHO HÀNG: WL001 - LONG HẬU - KHO SỈ</td><td style = \"text-align: left;\">MẶT HÀNG: YH6100013 - THUC PHAM BAO VE SUC KHOE YES KIDDO DHA250 - ĐVT: Hộp</td><td style = \"text-align: left;\">Tồn đầu kỳ (01/12/2022)</td><td style = \"text-align: left;\">146.00</td><td style = \"text-align: right;\">49</td><td style = \"font-style: italic; text-align: left;\">28/12/2022</td><td style = \"text-align: left;\">APCM/ 163</td><td style = \"font-style: italic; text-align: left;\">CONG TY TNHH YES HEALTH VIET NAM</td><td style = \"font-style: italic; text-align: left;\">BT LP1-SH26, LO TT104-9, KDP DONG NAM PMR KHU B (VINHOMES THANG LONG),X.AN KHANH,H.HOAI DUC, TP.HN,V</td><td style = \"font-style: italic; text-align: left;\">TRA HANG YHV-TRA FULL TON HCM-XU LY THAY DOI VAT-28.12.2022</td><td style = \"font-style: italic; text-align: left;\">missing</td><td style = \"font-style: italic; text-align: left;\">112.00</td><td style = \"text-align: left;\">-</td><td style = \"font-style: italic; text-align: left;\">AL46614</td><td style = \"font-style: italic; text-align: left;\">02/08/2025</td><td style = \"font-style: italic; text-align: left;\">WL001-SYSTEM-BIN-LOCATION</td><td style = \"font-style: italic; text-align: left;\">missing</td><td style = \"font-style: italic; text-align: right;\">missing</td><td style = \"font-style: italic; text-align: left;\">missing</td><td style = \"text-align: left;\">50-138</td><td style = \"text-align: left;\">Cộng cuối kỳ (31/12/2022)</td><td style = \"text-align: left;\">350.00</td><td style = \"text-align: left;\">496.00</td><td style = \"text-align: left;\">-</td></tr><tr><td class = \"rowNumber\" style = \"font-weight: bold; text-align: right;\">384608</td><td style = \"text-align: left;\">KHO HÀNG: WL301 - LONG HẬU - KHO HÀNG ĐI ĐƯỜNG</td><td style = \"text-align: left;\">MẶT HÀNG: YH6100013 - THUC PHAM BAO VE SUC KHOE YES KIDDO DHA250 - ĐVT: Hộp</td><td style = \"text-align: left;\">Tồn đầu kỳ (01/12/2022)</td><td style = \"text-align: left;\">-</td><td style = \"text-align: right;\">0</td><td style = \"font-style: italic; text-align: left;\">28/12/2022</td><td style = \"text-align: left;\">INTR/ 7562</td><td style = \"font-style: italic; text-align: left;\">CONG TY TNHH DUOC PHAM &amp; TTBYT HOANG DUC</td><td style = \"font-style: italic; text-align: left;\">12 NGUYEN HIEN, PHUONG 4, QUAN 3, TP.HCM</td><td style = \"font-style: italic; text-align: left;\">BASED ON INVENTORY TRANSFER REQUEST 2551.</td><td style = \"font-style: italic; text-align: left;\">113.00</td><td style = \"font-style: italic; text-align: left;\">missing</td><td style = \"text-align: left;\">113.00</td><td style = \"font-style: italic; text-align: left;\">AL46614</td><td style = \"font-style: italic; text-align: left;\">02/08/2025</td><td style = \"font-style: italic; text-align: left;\">missing</td><td style = \"font-style: italic; text-align: left;\">missing</td><td style = \"font-style: italic; text-align: right;\">missing</td><td style = \"font-style: italic; text-align: left;\">missing</td><td style = \"text-align: left;\">54-2551</td><td style = \"text-align: left;\">Cộng cuối kỳ (31/12/2022)</td><td style = \"text-align: left;\">271.00</td><td style = \"text-align: left;\">271.00</td><td style = \"text-align: left;\">-</td></tr><tr><td class = \"rowNumber\" style = \"font-weight: bold; text-align: right;\">384609</td><td style = \"text-align: left;\">KHO HÀNG: WL301 - LONG HẬU - KHO HÀNG ĐI ĐƯỜNG</td><td style = \"text-align: left;\">MẶT HÀNG: YH6100013 - THUC PHAM BAO VE SUC KHOE YES KIDDO DHA250 - ĐVT: Hộp</td><td style = \"text-align: left;\">Tồn đầu kỳ (01/12/2022)</td><td style = \"text-align: left;\">-</td><td style = \"text-align: right;\">1</td><td style = \"font-style: italic; text-align: left;\">28/12/2022</td><td style = \"text-align: left;\">INTR/ 7563</td><td style = \"font-style: italic; text-align: left;\">CONG TY TNHH DUOC PHAM &amp; TTBYT HOANG DUC</td><td style = \"font-style: italic; text-align: left;\">12 NGUYEN HIEN, PHUONG 4, QUAN 3, TP.HCM</td><td style = \"font-style: italic; text-align: left;\">HN-KÉO ẢO HÀNG LÊN KHO ĐI ĐƯỜNG HÃNG YES HEALTH - CHỐT SALE CUỐI THÁNG BASED ON INVENTORY TRANSFER REQUEST 2554.</td><td style = \"font-style: italic; text-align: left;\">158.00</td><td style = \"font-style: italic; text-align: left;\">missing</td><td style = \"text-align: left;\">271.00</td><td style = \"font-style: italic; text-align: left;\">AL46614</td><td style = \"font-style: italic; text-align: left;\">02/08/2025</td><td style = \"font-style: italic; text-align: left;\">missing</td><td style = \"font-style: italic; text-align: left;\">missing</td><td style = \"font-style: italic; text-align: right;\">missing</td><td style = \"font-style: italic; text-align: left;\">missing</td><td style = \"text-align: left;\">54-2554</td><td style = \"text-align: left;\">Cộng cuối kỳ (31/12/2022)</td><td style = \"text-align: left;\">271.00</td><td style = \"text-align: left;\">271.00</td><td style = \"text-align: left;\">-</td></tr><tr><td class = \"rowNumber\" style = \"font-weight: bold; text-align: right;\">384610</td><td style = \"text-align: left;\">KHO HÀNG: WL301 - LONG HẬU - KHO HÀNG ĐI ĐƯỜNG</td><td style = \"text-align: left;\">MẶT HÀNG: YH6100013 - THUC PHAM BAO VE SUC KHOE YES KIDDO DHA250 - ĐVT: Hộp</td><td style = \"text-align: left;\">Tồn đầu kỳ (01/12/2022)</td><td style = \"text-align: left;\">-</td><td style = \"text-align: right;\">2</td><td style = \"font-style: italic; text-align: left;\">28/12/2022</td><td style = \"text-align: left;\">INTR/ 7567</td><td style = \"font-style: italic; text-align: left;\">missing</td><td style = \"font-style: italic; text-align: left;\">missing</td><td style = \"font-style: italic; text-align: left;\">KEO HANG YHV XLA MAIL NGAN 28.12.2022/YEN</td><td style = \"font-style: italic; text-align: left;\">missing</td><td style = \"font-style: italic; text-align: left;\">271.00</td><td style = \"text-align: left;\">-</td><td style = \"font-style: italic; text-align: left;\">AL46614</td><td style = \"font-style: italic; text-align: left;\">02/08/2025</td><td style = \"font-style: italic; text-align: left;\">WL301-FROM CN HA NOI</td><td style = \"font-style: italic; text-align: left;\">missing</td><td style = \"font-style: italic; text-align: right;\">missing</td><td style = \"font-style: italic; text-align: left;\">missing</td><td style = \"text-align: left;\">missing</td><td style = \"text-align: left;\">Cộng cuối kỳ (31/12/2022)</td><td style = \"text-align: left;\">271.00</td><td style = \"text-align: left;\">271.00</td><td style = \"text-align: left;\">-</td></tr><tr><td class = \"rowNumber\" style = \"font-weight: bold; text-align: right;\">384611</td><td style = \"text-align: left;\">KHO HÀNG: WS000 - HCM - KHO ẢO</td><td style = \"text-align: left;\">MẶT HÀNG: YH6100013 - THUC PHAM BAO VE SUC KHOE YES KIDDO DHA250 - ĐVT: Hộp</td><td style = \"text-align: left;\">Tồn đầu kỳ (01/12/2022)</td><td style = \"text-align: left;\">-</td><td style = \"text-align: right;\">0</td><td style = \"font-style: italic; text-align: left;\">missing</td><td style = \"text-align: left;\">/ -1</td><td style = \"font-style: italic; text-align: left;\">missing</td><td style = \"font-style: italic; text-align: left;\">missing</td><td style = \"font-style: italic; text-align: left;\">missing</td><td style = \"font-style: italic; text-align: left;\">missing</td><td style = \"font-style: italic; text-align: left;\">missing</td><td style = \"text-align: left;\">-</td><td style = \"font-style: italic; text-align: left;\">missing</td><td style = \"font-style: italic; text-align: left;\">missing</td><td style = \"font-style: italic; text-align: left;\">missing</td><td style = \"font-style: italic; text-align: left;\">missing</td><td style = \"font-style: italic; text-align: right;\">missing</td><td style = \"font-style: italic; text-align: left;\">missing</td><td style = \"text-align: left;\">missing</td><td style = \"text-align: left;\">Cộng cuối kỳ (31/12/2022)</td><td style = \"text-align: left;\">271.00</td><td style = \"text-align: left;\">271.00</td><td style = \"text-align: left;\">-</td></tr><tr><td class = \"rowNumber\" style = \"font-weight: bold; text-align: right;\">384612</td><td style = \"text-align: left;\">KHO HÀNG: WS000 - HCM - KHO ẢO</td><td style = \"text-align: left;\">MẶT HÀNG: YH6100013 - THUC PHAM BAO VE SUC KHOE YES KIDDO DHA250 - ĐVT: Hộp</td><td style = \"text-align: left;\">Tồn đầu kỳ (01/12/2022)</td><td style = \"text-align: left;\">-</td><td style = \"text-align: right;\">1</td><td style = \"font-style: italic; text-align: left;\">28/12/2022</td><td style = \"text-align: left;\">INTR/ 7567</td><td style = \"font-style: italic; text-align: left;\">missing</td><td style = \"font-style: italic; text-align: left;\">missing</td><td style = \"font-style: italic; text-align: left;\">KEO HANG YHV XLA MAIL NGAN 28.12.2022/YEN</td><td style = \"font-style: italic; text-align: left;\">271.00</td><td style = \"font-style: italic; text-align: left;\">missing</td><td style = \"text-align: left;\">271.00</td><td style = \"font-style: italic; text-align: left;\">AL46614</td><td style = \"font-style: italic; text-align: left;\">02/08/2025</td><td style = \"font-style: italic; text-align: left;\">WS000-SYSTEM-BIN-LOCATION</td><td style = \"font-style: italic; text-align: left;\">missing</td><td style = \"font-style: italic; text-align: right;\">missing</td><td style = \"font-style: italic; text-align: left;\">missing</td><td style = \"text-align: left;\">missing</td><td style = \"text-align: left;\">Cộng cuối kỳ (31/12/2022)</td><td style = \"text-align: left;\">271.00</td><td style = \"text-align: left;\">271.00</td><td style = \"text-align: left;\">-</td></tr><tr><td class = \"rowNumber\" style = \"font-weight: bold; text-align: right;\">384613</td><td style = \"text-align: left;\">KHO HÀNG: WS000 - HCM - KHO ẢO</td><td style = \"text-align: left;\">MẶT HÀNG: YH6100013 - THUC PHAM BAO VE SUC KHOE YES KIDDO DHA250 - ĐVT: Hộp</td><td style = \"text-align: left;\">Tồn đầu kỳ (01/12/2022)</td><td style = \"text-align: left;\">-</td><td style = \"text-align: right;\">2</td><td style = \"font-style: italic; text-align: left;\">29/12/2022</td><td style = \"text-align: left;\">APCM/ 166</td><td style = \"font-style: italic; text-align: left;\">CONG TY TNHH YES HEALTH VIET NAM</td><td style = \"font-style: italic; text-align: left;\">BT LP1-SH26, LO TT104-9, KDP DONG NAM PMR KHU B (VINHOMES THANG LONG),X.AN KHANH,H.HOAI DUC, TP.HN,V</td><td style = \"font-style: italic; text-align: left;\">TRA HANG YHV-TRA FULL TON KHO 2 CHI NHANH-XU LY THAY DOI VAT-29.12.2022</td><td style = \"font-style: italic; text-align: left;\">missing</td><td style = \"font-style: italic; text-align: left;\">199.00</td><td style = \"text-align: left;\">72.00</td><td style = \"font-style: italic; text-align: left;\">AL46614</td><td style = \"font-style: italic; text-align: left;\">02/08/2025</td><td style = \"font-style: italic; text-align: left;\">WS000-SYSTEM-BIN-LOCATION</td><td style = \"font-style: italic; text-align: left;\">missing</td><td style = \"font-style: italic; text-align: right;\">missing</td><td style = \"font-style: italic; text-align: left;\">missing</td><td style = \"text-align: left;\">missing</td><td style = \"text-align: left;\">Cộng cuối kỳ (31/12/2022)</td><td style = \"text-align: left;\">271.00</td><td style = \"text-align: left;\">271.00</td><td style = \"text-align: left;\">-</td></tr><tr><td class = \"rowNumber\" style = \"font-weight: bold; text-align: right;\">384614</td><td style = \"text-align: left;\">KHO HÀNG: WS000 - HCM - KHO ẢO</td><td style = \"text-align: left;\">MẶT HÀNG: YH6100013 - THUC PHAM BAO VE SUC KHOE YES KIDDO DHA250 - ĐVT: Hộp</td><td style = \"text-align: left;\">Tồn đầu kỳ (01/12/2022)</td><td style = \"text-align: left;\">-</td><td style = \"text-align: right;\">3</td><td style = \"font-style: italic; text-align: left;\">29/12/2022</td><td style = \"text-align: left;\">APCM/ 167</td><td style = \"font-style: italic; text-align: left;\">CONG TY TNHH YES HEALTH VIET NAM</td><td style = \"font-style: italic; text-align: left;\">BT LP1-SH26, LO TT104-9, KDP DONG NAM PMR KHU B (VINHOMES THANG LONG),X.AN KHANH,H.HOAI DUC, TP.HN,V</td><td style = \"font-style: italic; text-align: left;\">TRA HANG YHV-TRA FULL TON KHO 2 CHI NHANH-XU LY THAY DOI VAT-29.12.22-FOC: 471,715,506</td><td style = \"font-style: italic; text-align: left;\">missing</td><td style = \"font-style: italic; text-align: left;\">72.00</td><td style = \"text-align: left;\">-</td><td style = \"font-style: italic; text-align: left;\">AL46614</td><td style = \"font-style: italic; text-align: left;\">02/08/2025</td><td style = \"font-style: italic; text-align: left;\">WS000-SYSTEM-BIN-LOCATION</td><td style = \"font-style: italic; text-align: left;\">missing</td><td style = \"font-style: italic; text-align: right;\">missing</td><td style = \"font-style: italic; text-align: left;\">missing</td><td style = \"text-align: left;\">missing</td><td style = \"text-align: left;\">Cộng cuối kỳ (31/12/2022)</td><td style = \"text-align: left;\">271.00</td><td style = \"text-align: left;\">271.00</td><td style = \"text-align: left;\">-</td></tr></tbody></table></div>"
      ],
      "text/latex": [
       "\\begin{tabular}{r|ccc}\n",
       "\t& Warehouse & ItemName1 & \\\\\n",
       "\t\\hline\n",
       "\t& String & String & \\\\\n",
       "\t\\hline\n",
       "\t1 & KHO HÀNG: WL001 - LONG HẬU - KHO SỈ & MẶT HÀNG: 3M118 - 118 ATTEST BIOLOG INCUBATOR STEAM 56C - ĐVT: Cái & $\\dots$ \\\\\n",
       "\t2 & KHO HÀNG: WL001 - LONG HẬU - KHO SỈ & MẶT HÀNG: 3M1522 - 1522  BANG KEO 3.6 IN x 60 YD - ĐVT: Cuộn & $\\dots$ \\\\\n",
       "\t3 & KHO HÀNG: WL001 - LONG HẬU - KHO SỈ & MẶT HÀNG: 3M2306 - 2306 ONG NGHE LITTMANN XANH BIEN - ĐVT: Cái & $\\dots$ \\\\\n",
       "\t4 & KHO HÀNG: WL001 - LONG HẬU - KHO SỈ & MẶT HÀNG: 3M260-032 - 260-032 DAY DUY TRI 0.32 7'' - ĐVT: Cái & $\\dots$ \\\\\n",
       "\t5 & KHO HÀNG: WL001 - LONG HẬU - KHO SỈ & MẶT HÀNG: 3M290G - 290G MAY 240 VAC DOC MAU TEST DO DO TIET TRUNG THIET BI Y TE (CASE/1CAI) - ĐVT: Thùng & $\\dots$ \\\\\n",
       "\t6 & KHO HÀNG: WL001 - LONG HẬU - KHO SỈ & MẶT HÀNG: 3M390 - 390 MAY DOC HUYNH QUANG TEST VI SINH TIET TRUNG EO (CASE/1CAI) - ĐVT: Thùng & $\\dots$ \\\\\n",
       "\t7 & KHO HÀNG: WL001 - LONG HẬU - KHO SỈ & MẶT HÀNG: 3M63500 - 63500 MEN U AM (5/CASE) - ĐVT: Cái & $\\dots$ \\\\\n",
       "\t8 & KHO HÀNG: WL001 - LONG HẬU - KHO SỈ & MẶT HÀNG: 3MN95-23252 - GOWN (AO CHOANG CHO PHAU THUAT) [TUI/10CAI] - ĐVT: Cái & $\\dots$ \\\\\n",
       "\t9 & KHO HÀNG: HL001 - HD - LONG HẬU – KHO LONG HẬU SỈ & MẶT HÀNG: AB1100001 - DUPHALAC 10G/15ML SYR 15ML 20 - ĐVT: Hộp & $\\dots$ \\\\\n",
       "\t10 & KHO HÀNG: HL001 - HD - LONG HẬU – KHO LONG HẬU SỈ & MẶT HÀNG: AB1100001 - DUPHALAC 10G/15ML SYR 15ML 20 - ĐVT: Hộp & $\\dots$ \\\\\n",
       "\t11 & KHO HÀNG: HL001 - HD - LONG HẬU – KHO LONG HẬU SỈ & MẶT HÀNG: AB1100001 - DUPHALAC 10G/15ML SYR 15ML 20 - ĐVT: Hộp & $\\dots$ \\\\\n",
       "\t12 & KHO HÀNG: HL001 - HD - LONG HẬU – KHO LONG HẬU SỈ & MẶT HÀNG: AB1100001 - DUPHALAC 10G/15ML SYR 15ML 20 - ĐVT: Hộp & $\\dots$ \\\\\n",
       "\t13 & KHO HÀNG: HL001 - HD - LONG HẬU – KHO LONG HẬU SỈ & MẶT HÀNG: AB1100001 - DUPHALAC 10G/15ML SYR 15ML 20 - ĐVT: Hộp & $\\dots$ \\\\\n",
       "\t14 & KHO HÀNG: HL001 - HD - LONG HẬU – KHO LONG HẬU SỈ & MẶT HÀNG: AB1100001 - DUPHALAC 10G/15ML SYR 15ML 20 - ĐVT: Hộp & $\\dots$ \\\\\n",
       "\t15 & KHO HÀNG: HL001 - HD - LONG HẬU – KHO LONG HẬU SỈ & MẶT HÀNG: AB1100001 - DUPHALAC 10G/15ML SYR 15ML 20 - ĐVT: Hộp & $\\dots$ \\\\\n",
       "\t16 & KHO HÀNG: HL001 - HD - LONG HẬU – KHO LONG HẬU SỈ & MẶT HÀNG: AB1100001 - DUPHALAC 10G/15ML SYR 15ML 20 - ĐVT: Hộp & $\\dots$ \\\\\n",
       "\t17 & KHO HÀNG: HL001 - HD - LONG HẬU – KHO LONG HẬU SỈ & MẶT HÀNG: AB1100001 - DUPHALAC 10G/15ML SYR 15ML 20 - ĐVT: Hộp & $\\dots$ \\\\\n",
       "\t18 & KHO HÀNG: HL001 - HD - LONG HẬU – KHO LONG HẬU SỈ & MẶT HÀNG: AB1100001 - DUPHALAC 10G/15ML SYR 15ML 20 - ĐVT: Hộp & $\\dots$ \\\\\n",
       "\t19 & KHO HÀNG: HL001 - HD - LONG HẬU – KHO LONG HẬU SỈ & MẶT HÀNG: AB1100001 - DUPHALAC 10G/15ML SYR 15ML 20 - ĐVT: Hộp & $\\dots$ \\\\\n",
       "\t20 & KHO HÀNG: HL001 - HD - LONG HẬU – KHO LONG HẬU SỈ & MẶT HÀNG: AB1100001 - DUPHALAC 10G/15ML SYR 15ML 20 - ĐVT: Hộp & $\\dots$ \\\\\n",
       "\t21 & KHO HÀNG: HL001 - HD - LONG HẬU – KHO LONG HẬU SỈ & MẶT HÀNG: AB1100001 - DUPHALAC 10G/15ML SYR 15ML 20 - ĐVT: Hộp & $\\dots$ \\\\\n",
       "\t22 & KHO HÀNG: HL001 - HD - LONG HẬU – KHO LONG HẬU SỈ & MẶT HÀNG: AB1100001 - DUPHALAC 10G/15ML SYR 15ML 20 - ĐVT: Hộp & $\\dots$ \\\\\n",
       "\t23 & KHO HÀNG: HL001 - HD - LONG HẬU – KHO LONG HẬU SỈ & MẶT HÀNG: AB1100001 - DUPHALAC 10G/15ML SYR 15ML 20 - ĐVT: Hộp & $\\dots$ \\\\\n",
       "\t24 & KHO HÀNG: HL001 - HD - LONG HẬU – KHO LONG HẬU SỈ & MẶT HÀNG: AB1100001 - DUPHALAC 10G/15ML SYR 15ML 20 - ĐVT: Hộp & $\\dots$ \\\\\n",
       "\t$\\dots$ & $\\dots$ & $\\dots$ &  \\\\\n",
       "\\end{tabular}\n"
      ],
      "text/plain": [
       "\u001b[1m384614×24 DataFrame\u001b[0m\n",
       "\u001b[1m    Row \u001b[0m│\u001b[1m Warehouse                         \u001b[0m\u001b[1m ItemName1                        \u001b[0m ⋯\n",
       "        │\u001b[90m String                            \u001b[0m\u001b[90m String                           \u001b[0m ⋯\n",
       "────────┼───────────────────────────────────────────────────────────────────────\n",
       "      1 │ KHO HÀNG: WL001 - LONG HẬU - KHO…  MẶT HÀNG: 3M118 - 118 ATTEST BIO… ⋯\n",
       "      2 │ KHO HÀNG: WL001 - LONG HẬU - KHO…  MẶT HÀNG: 3M1522 - 1522  BANG KE…\n",
       "      3 │ KHO HÀNG: WL001 - LONG HẬU - KHO…  MẶT HÀNG: 3M2306 - 2306 ONG NGHE…\n",
       "      4 │ KHO HÀNG: WL001 - LONG HẬU - KHO…  MẶT HÀNG: 3M260-032 - 260-032 DA…\n",
       "      5 │ KHO HÀNG: WL001 - LONG HẬU - KHO…  MẶT HÀNG: 3M290G - 290G MAY 240 … ⋯\n",
       "      6 │ KHO HÀNG: WL001 - LONG HẬU - KHO…  MẶT HÀNG: 3M390 - 390 MAY DOC HU…\n",
       "      7 │ KHO HÀNG: WL001 - LONG HẬU - KHO…  MẶT HÀNG: 3M63500 - 63500 MEN U …\n",
       "      8 │ KHO HÀNG: WL001 - LONG HẬU - KHO…  MẶT HÀNG: 3MN95-23252 - GOWN (AO…\n",
       "   ⋮    │                 ⋮                                  ⋮                 ⋱\n",
       " 384608 │ KHO HÀNG: WL301 - LONG HẬU - KHO…  MẶT HÀNG: YH6100013 - THUC PHAM … ⋯\n",
       " 384609 │ KHO HÀNG: WL301 - LONG HẬU - KHO…  MẶT HÀNG: YH6100013 - THUC PHAM …\n",
       " 384610 │ KHO HÀNG: WL301 - LONG HẬU - KHO…  MẶT HÀNG: YH6100013 - THUC PHAM …\n",
       " 384611 │ KHO HÀNG: WS000 - HCM - KHO ẢO     MẶT HÀNG: YH6100013 - THUC PHAM …\n",
       " 384612 │ KHO HÀNG: WS000 - HCM - KHO ẢO     MẶT HÀNG: YH6100013 - THUC PHAM … ⋯\n",
       " 384613 │ KHO HÀNG: WS000 - HCM - KHO ẢO     MẶT HÀNG: YH6100013 - THUC PHAM …\n",
       " 384614 │ KHO HÀNG: WS000 - HCM - KHO ẢO     MẶT HÀNG: YH6100013 - THUC PHAM …\n",
       "\u001b[36m                                              22 columns and 384599 rows omitted\u001b[0m"
      ]
     },
     "metadata": {},
     "output_type": "display_data"
    }
   ],
   "source": [
    "\n",
    "# using Installed csv package for working with csv files\n",
    "using CSV, DataFrames\n",
    "\n",
    "# reading the csv file\n",
    "df_wh = DataFrame(CSV.File(read(\"C:/Users/vuongns/Downloads/03. Thẻ Kho_2212.csv\",)))"
   ]
  },
  {
   "attachments": {},
   "cell_type": "markdown",
   "metadata": {},
   "source": [
    "# self mapping the kho"
   ]
  },
  {
   "cell_type": "code",
   "execution_count": 21,
   "metadata": {},
   "outputs": [
    {
     "ename": "ArgumentError",
     "evalue": "ArgumentError: New columns must have the same length as old columns",
     "output_type": "error",
     "traceback": [
      "ArgumentError: New columns must have the same length as old columns\n",
      "\n",
      "Stacktrace:\n",
      " [1] insert_single_column!(df::DataFrame, v::Vector{String}, col_ind::String)\n",
      "   @ DataFrames D:\\Software\\Portableapp\\JuliaPort\\userdata\\.julia\\packages\\DataFrames\\dgZn3\\src\\dataframe\\dataframe.jl:637\n",
      " [2] setindex!\n",
      "   @ D:\\Software\\Portableapp\\JuliaPort\\userdata\\.julia\\packages\\DataFrames\\dgZn3\\src\\dataframe\\dataframe.jl:669 [inlined]\n",
      " [3] setproperty!(df::DataFrame, col_ind::String, v::Vector{String})\n",
      "   @ DataFrames D:\\Software\\Portableapp\\JuliaPort\\userdata\\.julia\\packages\\DataFrames\\dgZn3\\src\\dataframe\\dataframe.jl:677\n",
      " [4] top-level scope\n",
      "   @ d:\\Software\\Portableapp\\Git\\GitRepos\\Julia_code\\rev_cogs.ipynb:6"
     ]
    }
   ],
   "source": [
    "# self mapping the kho\n",
    "df_wh.\"W_CardName\" = ifelse(df_wh.\"DocNo\"[4] == \"GR/ \",df_wh.\"CardName\",df_wh.\"Comments\")\n",
    "first(df_wh,10)\n",
    "\n",
    "\n",
    "\n",
    "# remove duplicate rows\n",
    "# df_warehouse.drop_duplicates(subset=['DocNo','W_CardName'], keep='first', inplace=True)\n",
    "# df_warehouse.head(3)"
   ]
  },
  {
   "cell_type": "code",
   "execution_count": 18,
   "metadata": {},
   "outputs": [
    {
     "data": {
      "text/plain": [
       "\"C:/Users/vuongns/Downloads/test_julia.csv\""
      ]
     },
     "metadata": {},
     "output_type": "display_data"
    }
   ],
   "source": [
    "using CSV\n",
    "CSV.write(\"C:/Users/vuongns/Downloads/test_julia.csv\", df_wh;bom=true)"
   ]
  }
 ],
 "metadata": {
  "kernelspec": {
   "display_name": "Julia 1.8.1",
   "language": "julia",
   "name": "julia-1.8"
  },
  "language_info": {
   "file_extension": ".jl",
   "mimetype": "application/julia",
   "name": "julia",
   "version": "1.8.1"
  },
  "orig_nbformat": 4,
  "vscode": {
   "interpreter": {
    "hash": "2032aa041177d92e5352996c95b2930e105440edb995ebbc4d7b604c73732877"
   }
  }
 },
 "nbformat": 4,
 "nbformat_minor": 2
}
