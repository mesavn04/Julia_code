{
 "cells": [
  {
   "cell_type": "code",
   "execution_count": 1,
   "metadata": {},
   "outputs": [
    {
     "name": "stderr",
     "output_type": "stream",
     "text": [
      "\u001b[32m\u001b[1m    Updating\u001b[22m\u001b[39m registry at `D:\\Software\\Portableapp\\JuliaPort\\userdata\\.julia\\registries\\General.toml`\n"
     ]
    },
    {
     "name": "stderr",
     "output_type": "stream",
     "text": [
      "\u001b[32m\u001b[1m   Resolving\u001b[22m\u001b[39m package versions..."
     ]
    },
    {
     "name": "stderr",
     "output_type": "stream",
     "text": [
      "\n",
      "\u001b[32m\u001b[1m  No Changes\u001b[22m\u001b[39m to `D:\\Software\\Portableapp\\JuliaPort\\userdata\\.julia\\environments\\v1.8\\Project.toml`\n",
      "\u001b[32m\u001b[1m  No Changes\u001b[22m\u001b[39m to `D:\\Software\\Portableapp\\JuliaPort\\userdata\\.julia\\environments\\v1.8\\Manifest.toml`"
     ]
    },
    {
     "name": "stderr",
     "output_type": "stream",
     "text": [
      "\n"
     ]
    }
   ],
   "source": [
    "using Pkg\n",
    "Pkg.add(\"IJulia\")"
   ]
  },
  {
   "attachments": {},
   "cell_type": "markdown",
   "metadata": {},
   "source": [
    "# read Mft"
   ]
  },
  {
   "cell_type": "code",
   "execution_count": 2,
   "metadata": {},
   "outputs": [
    {
     "name": "stderr",
     "output_type": "stream",
     "text": [
      "\u001b[32m\u001b[1m   Resolving\u001b[22m\u001b[39m package versions..."
     ]
    },
    {
     "name": "stderr",
     "output_type": "stream",
     "text": [
      "\n",
      "\u001b[32m\u001b[1m  No Changes\u001b[22m\u001b[39m to `D:\\Software\\Portableapp\\JuliaPort\\userdata\\.julia\\environments\\v1.8\\Project.toml`\n",
      "\u001b[32m\u001b[1m  No Changes\u001b[22m\u001b[39m to `D:\\Software\\Portableapp\\JuliaPort\\userdata\\.julia\\environments\\v1.8\\Manifest.toml`"
     ]
    },
    {
     "name": "stderr",
     "output_type": "stream",
     "text": [
      "\n"
     ]
    }
   ],
   "source": [
    "using Pkg\n",
    "Pkg.add(\"XLSX\")"
   ]
  },
  {
   "cell_type": "code",
   "execution_count": 4,
   "metadata": {},
   "outputs": [
    {
     "data": {
      "text/html": [
       "<div><div style = \"float: left;\"><span>5×4 DataFrame</span></div><div style = \"clear: both;\"></div></div><div class = \"data-frame\" style = \"overflow-x: scroll;\"><table class = \"data-frame\" style = \"margin-bottom: 6px;\"><thead><tr class = \"header\"><th class = \"rowNumber\" style = \"font-weight: bold; text-align: right;\">Row</th><th style = \"text-align: left;\">Group_name</th><th style = \"text-align: left;\">Manufacturer_Code</th><th style = \"text-align: left;\">Manufacturer_Name</th><th style = \"text-align: left;\">BU</th></tr><tr class = \"subheader headerLastRow\"><th class = \"rowNumber\" style = \"font-weight: bold; text-align: right;\"></th><th title = \"Any\" style = \"text-align: left;\">Any</th><th title = \"Any\" style = \"text-align: left;\">Any</th><th title = \"Any\" style = \"text-align: left;\">Any</th><th title = \"Any\" style = \"text-align: left;\">Any</th></tr></thead><tbody><tr><td class = \"rowNumber\" style = \"font-weight: bold; text-align: right;\">1</td><td style = \"text-align: left;\">VẬT TƯ TIÊU HAO</td><td style = \"text-align: left;\">M00002</td><td style = \"text-align: left;\">3M VIETNAM</td><td style = \"text-align: left;\">Dược phân phối</td></tr><tr><td class = \"rowNumber\" style = \"font-weight: bold; text-align: right;\">2</td><td style = \"text-align: left;\">VẬT TƯ TIÊU HAO</td><td style = \"text-align: left;\">M00007</td><td style = \"text-align: left;\">ASCENCIA</td><td style = \"text-align: left;\">VTTH</td></tr><tr><td class = \"rowNumber\" style = \"font-weight: bold; text-align: right;\">3</td><td style = \"text-align: left;\">VẬT TƯ TIÊU HAO</td><td style = \"text-align: left;\">M00070</td><td style = \"text-align: left;\">CONVATEC</td><td style = \"text-align: left;\">Dược phân phối</td></tr><tr><td class = \"rowNumber\" style = \"font-weight: bold; text-align: right;\">4</td><td style = \"text-align: left;\">DƯỢC PHẨM</td><td style = \"text-align: left;\">M00010</td><td style = \"text-align: left;\">BIOREC (CHEMO)</td><td style = \"text-align: left;\">Phòng mạch BS</td></tr><tr><td class = \"rowNumber\" style = \"font-weight: bold; text-align: right;\">5</td><td style = \"text-align: left;\">DƯỢC PHẨM</td><td style = \"text-align: left;\">M00017</td><td style = \"text-align: left;\">GETZ</td><td style = \"text-align: left;\">Dược phân phối</td></tr></tbody></table></div>"
      ],
      "text/latex": [
       "\\begin{tabular}{r|cccc}\n",
       "\t& Group\\_name & Manufacturer\\_Code & Manufacturer\\_Name & BU\\\\\n",
       "\t\\hline\n",
       "\t& Any & Any & Any & Any\\\\\n",
       "\t\\hline\n",
       "\t1 & VẬT TƯ TIÊU HAO & M00002 & 3M VIETNAM & Dược phân phối \\\\\n",
       "\t2 & VẬT TƯ TIÊU HAO & M00007 & ASCENCIA & VTTH \\\\\n",
       "\t3 & VẬT TƯ TIÊU HAO & M00070 & CONVATEC & Dược phân phối \\\\\n",
       "\t4 & DƯỢC PHẨM & M00010 & BIOREC (CHEMO) & Phòng mạch BS \\\\\n",
       "\t5 & DƯỢC PHẨM & M00017 & GETZ & Dược phân phối \\\\\n",
       "\\end{tabular}\n"
      ],
      "text/plain": [
       "\u001b[1m5×4 DataFrame\u001b[0m\n",
       "\u001b[1m Row \u001b[0m│\u001b[1m Group_name      \u001b[0m\u001b[1m Manufacturer_Code \u001b[0m\u001b[1m Manufacturer_Name \u001b[0m\u001b[1m BU             \u001b[0m\n",
       "     │\u001b[90m Any             \u001b[0m\u001b[90m Any               \u001b[0m\u001b[90m Any               \u001b[0m\u001b[90m Any            \u001b[0m\n",
       "─────┼───────────────────────────────────────────────────────────────────────\n",
       "   1 │ VẬT TƯ TIÊU HAO  M00002             3M VIETNAM         Dược phân phối\n",
       "   2 │ VẬT TƯ TIÊU HAO  M00007             ASCENCIA           VTTH\n",
       "   3 │ VẬT TƯ TIÊU HAO  M00070             CONVATEC           Dược phân phối\n",
       "   4 │ DƯỢC PHẨM        M00010             BIOREC (CHEMO)     Phòng mạch BS\n",
       "   5 │ DƯỢC PHẨM        M00017             GETZ               Dược phân phối"
      ]
     },
     "metadata": {},
     "output_type": "display_data"
    }
   ],
   "source": [
    "using DataFrames, XLSX\n",
    "df = DataFrame(XLSX.readtable(\"D:/HD/Downloads/Manufacture_data.xlsx\",\"Mft\"))\n",
    "first(df,5)"
   ]
  },
  {
   "attachments": {},
   "cell_type": "markdown",
   "metadata": {},
   "source": [
    "## read the kho"
   ]
  },
  {
   "cell_type": "code",
   "execution_count": 5,
   "metadata": {},
   "outputs": [
    {
     "name": "stderr",
     "output_type": "stream",
     "text": [
      "\u001b[32m\u001b[1m   Resolving\u001b[22m\u001b[39m package versions...\n"
     ]
    },
    {
     "name": "stderr",
     "output_type": "stream",
     "text": [
      "\u001b[32m\u001b[1m  No Changes\u001b[22m\u001b[39m to `D:\\Software\\Portableapp\\JuliaPort\\userdata\\.julia\\environments\\v1.8\\Project.toml`\n",
      "\u001b[32m\u001b[1m  No Changes\u001b[22m\u001b[39m to `D:\\Software\\Portableapp\\JuliaPort\\userdata\\.julia\\environments\\v1.8\\Manifest.toml`\n"
     ]
    }
   ],
   "source": [
    "\n",
    "# using pkg to install packages\n",
    "using Pkg \n",
    " \n",
    "# using pkg to add csv package file to library\n",
    "Pkg.add(\"CSV\")"
   ]
  },
  {
   "cell_type": "code",
   "execution_count": 10,
   "metadata": {},
   "outputs": [
    {
     "data": {
      "text/html": [
       "<div><div style = \"float: left;\"><span>3×24 DataFrame</span></div><div style = \"clear: both;\"></div></div><div class = \"data-frame\" style = \"overflow-x: scroll;\"><table class = \"data-frame\" style = \"margin-bottom: 6px;\"><thead><tr class = \"header\"><th class = \"rowNumber\" style = \"font-weight: bold; text-align: right;\">Row</th><th style = \"text-align: left;\">Warehouse</th><th style = \"text-align: left;\">ItemName1</th><th style = \"text-align: left;\">Textbox126</th><th style = \"text-align: left;\">BeginStock</th><th style = \"text-align: left;\">Textbox9</th><th style = \"text-align: left;\">DocDate1</th><th style = \"text-align: left;\">DocNo</th><th style = \"text-align: left;\">CardName</th><th style = \"text-align: left;\">CardAddress</th><th style = \"text-align: left;\">Comments</th><th style = \"text-align: left;\">InQty</th><th style = \"text-align: left;\">OutQty</th><th style = \"text-align: left;\">Textbox44</th><th style = \"text-align: left;\">BatchNo</th><th style = \"text-align: left;\">ExpiryDate</th><th style = \"text-align: left;\">Location</th><th style = \"text-align: left;\">InvoiceSerial</th><th style = \"text-align: left;\">InvoiceCode1</th><th style = \"text-align: left;\">InvoiceDate</th><th style = \"text-align: left;\">u_sourceno2</th><th style = \"text-align: left;\">Textbox128</th><th style = \"text-align: left;\">InQty1</th><th style = \"text-align: left;\">OutQty1</th><th style = \"text-align: left;\">InQty2</th></tr><tr class = \"subheader headerLastRow\"><th class = \"rowNumber\" style = \"font-weight: bold; text-align: right;\"></th><th title = \"String\" style = \"text-align: left;\">String</th><th title = \"String\" style = \"text-align: left;\">String</th><th title = \"String31\" style = \"text-align: left;\">String31</th><th title = \"String15\" style = \"text-align: left;\">String15</th><th title = \"Int64\" style = \"text-align: left;\">Int64</th><th title = \"Union{Missing, String15}\" style = \"text-align: left;\">String15?</th><th title = \"String15\" style = \"text-align: left;\">String15</th><th title = \"Union{Missing, String}\" style = \"text-align: left;\">String?</th><th title = \"Union{Missing, String}\" style = \"text-align: left;\">String?</th><th title = \"Union{Missing, String}\" style = \"text-align: left;\">String?</th><th title = \"Union{Missing, String15}\" style = \"text-align: left;\">String15?</th><th title = \"Union{Missing, String15}\" style = \"text-align: left;\">String15?</th><th title = \"String15\" style = \"text-align: left;\">String15</th><th title = \"Union{Missing, String31}\" style = \"text-align: left;\">String31?</th><th title = \"Union{Missing, String15}\" style = \"text-align: left;\">String15?</th><th title = \"Union{Missing, String31}\" style = \"text-align: left;\">String31?</th><th title = \"Union{Missing, String7}\" style = \"text-align: left;\">String7?</th><th title = \"Union{Missing, Int64}\" style = \"text-align: left;\">Int64?</th><th title = \"Union{Missing, String15}\" style = \"text-align: left;\">String15?</th><th title = \"Union{Missing, String15}\" style = \"text-align: left;\">String15?</th><th title = \"String31\" style = \"text-align: left;\">String31</th><th title = \"String15\" style = \"text-align: left;\">String15</th><th title = \"String15\" style = \"text-align: left;\">String15</th><th title = \"String15\" style = \"text-align: left;\">String15</th></tr></thead><tbody><tr><td class = \"rowNumber\" style = \"font-weight: bold; text-align: right;\">1</td><td style = \"text-align: left;\">KHO HÀNG: WL001 - LONG HẬU - KHO SỈ</td><td style = \"text-align: left;\">MẶT HÀNG: 3M118 - 118 ATTEST BIOLOG INCUBATOR STEAM 56C - ĐVT: Cái</td><td style = \"text-align: left;\">Tồn đầu kỳ (01/12/2022)</td><td style = \"text-align: left;\">1.00</td><td style = \"text-align: right;\">0</td><td style = \"font-style: italic; text-align: left;\">missing</td><td style = \"text-align: left;\">/ -1</td><td style = \"font-style: italic; text-align: left;\">missing</td><td style = \"font-style: italic; text-align: left;\">missing</td><td style = \"font-style: italic; text-align: left;\">missing</td><td style = \"font-style: italic; text-align: left;\">missing</td><td style = \"font-style: italic; text-align: left;\">missing</td><td style = \"text-align: left;\">1.00</td><td style = \"font-style: italic; text-align: left;\">missing</td><td style = \"font-style: italic; text-align: left;\">missing</td><td style = \"font-style: italic; text-align: left;\">missing</td><td style = \"font-style: italic; text-align: left;\">missing</td><td style = \"font-style: italic; text-align: right;\">missing</td><td style = \"font-style: italic; text-align: left;\">missing</td><td style = \"font-style: italic; text-align: left;\">missing</td><td style = \"text-align: left;\">Cộng cuối kỳ (31/12/2022)</td><td style = \"text-align: left;\">-</td><td style = \"text-align: left;\">-</td><td style = \"text-align: left;\">1.00</td></tr><tr><td class = \"rowNumber\" style = \"font-weight: bold; text-align: right;\">2</td><td style = \"text-align: left;\">KHO HÀNG: WL001 - LONG HẬU - KHO SỈ</td><td style = \"text-align: left;\">MẶT HÀNG: 3M1522 - 1522  BANG KEO 3.6 IN x 60 YD - ĐVT: Cuộn</td><td style = \"text-align: left;\">Tồn đầu kỳ (01/12/2022)</td><td style = \"text-align: left;\">17.00</td><td style = \"text-align: right;\">0</td><td style = \"font-style: italic; text-align: left;\">missing</td><td style = \"text-align: left;\">/ -1</td><td style = \"font-style: italic; text-align: left;\">missing</td><td style = \"font-style: italic; text-align: left;\">missing</td><td style = \"font-style: italic; text-align: left;\">missing</td><td style = \"font-style: italic; text-align: left;\">missing</td><td style = \"font-style: italic; text-align: left;\">missing</td><td style = \"text-align: left;\">17.00</td><td style = \"font-style: italic; text-align: left;\">missing</td><td style = \"font-style: italic; text-align: left;\">missing</td><td style = \"font-style: italic; text-align: left;\">missing</td><td style = \"font-style: italic; text-align: left;\">missing</td><td style = \"font-style: italic; text-align: right;\">missing</td><td style = \"font-style: italic; text-align: left;\">missing</td><td style = \"font-style: italic; text-align: left;\">missing</td><td style = \"text-align: left;\">Cộng cuối kỳ (31/12/2022)</td><td style = \"text-align: left;\">-</td><td style = \"text-align: left;\">-</td><td style = \"text-align: left;\">17.00</td></tr><tr><td class = \"rowNumber\" style = \"font-weight: bold; text-align: right;\">3</td><td style = \"text-align: left;\">KHO HÀNG: WL001 - LONG HẬU - KHO SỈ</td><td style = \"text-align: left;\">MẶT HÀNG: 3M2306 - 2306 ONG NGHE LITTMANN XANH BIEN - ĐVT: Cái</td><td style = \"text-align: left;\">Tồn đầu kỳ (01/12/2022)</td><td style = \"text-align: left;\">50.00</td><td style = \"text-align: right;\">0</td><td style = \"font-style: italic; text-align: left;\">missing</td><td style = \"text-align: left;\">/ -1</td><td style = \"font-style: italic; text-align: left;\">missing</td><td style = \"font-style: italic; text-align: left;\">missing</td><td style = \"font-style: italic; text-align: left;\">missing</td><td style = \"font-style: italic; text-align: left;\">missing</td><td style = \"font-style: italic; text-align: left;\">missing</td><td style = \"text-align: left;\">50.00</td><td style = \"font-style: italic; text-align: left;\">missing</td><td style = \"font-style: italic; text-align: left;\">missing</td><td style = \"font-style: italic; text-align: left;\">missing</td><td style = \"font-style: italic; text-align: left;\">missing</td><td style = \"font-style: italic; text-align: right;\">missing</td><td style = \"font-style: italic; text-align: left;\">missing</td><td style = \"font-style: italic; text-align: left;\">missing</td><td style = \"text-align: left;\">Cộng cuối kỳ (31/12/2022)</td><td style = \"text-align: left;\">-</td><td style = \"text-align: left;\">-</td><td style = \"text-align: left;\">50.00</td></tr></tbody></table></div>"
      ],
      "text/latex": [
       "\\begin{tabular}{r|ccc}\n",
       "\t& Warehouse & ItemName1 & \\\\\n",
       "\t\\hline\n",
       "\t& String & String & \\\\\n",
       "\t\\hline\n",
       "\t1 & KHO HÀNG: WL001 - LONG HẬU - KHO SỈ & MẶT HÀNG: 3M118 - 118 ATTEST BIOLOG INCUBATOR STEAM 56C - ĐVT: Cái & $\\dots$ \\\\\n",
       "\t2 & KHO HÀNG: WL001 - LONG HẬU - KHO SỈ & MẶT HÀNG: 3M1522 - 1522  BANG KEO 3.6 IN x 60 YD - ĐVT: Cuộn & $\\dots$ \\\\\n",
       "\t3 & KHO HÀNG: WL001 - LONG HẬU - KHO SỈ & MẶT HÀNG: 3M2306 - 2306 ONG NGHE LITTMANN XANH BIEN - ĐVT: Cái & $\\dots$ \\\\\n",
       "\\end{tabular}\n"
      ],
      "text/plain": [
       "\u001b[1m3×24 DataFrame\u001b[0m\n",
       "\u001b[1m Row \u001b[0m│\u001b[1m Warehouse                         \u001b[0m\u001b[1m ItemName1                         \u001b[0m\u001b[1m T\u001b[0m ⋯\n",
       "     │\u001b[90m String                            \u001b[0m\u001b[90m String                            \u001b[0m\u001b[90m S\u001b[0m ⋯\n",
       "─────┼──────────────────────────────────────────────────────────────────────────\n",
       "   1 │ KHO HÀNG: WL001 - LONG HẬU - KHO…  MẶT HÀNG: 3M118 - 118 ATTEST BIO…  T ⋯\n",
       "   2 │ KHO HÀNG: WL001 - LONG HẬU - KHO…  MẶT HÀNG: 3M1522 - 1522  BANG KE…  T\n",
       "   3 │ KHO HÀNG: WL001 - LONG HẬU - KHO…  MẶT HÀNG: 3M2306 - 2306 ONG NGHE…  T\n",
       "\u001b[36m                                                              22 columns omitted\u001b[0m"
      ]
     },
     "metadata": {},
     "output_type": "display_data"
    }
   ],
   "source": [
    "\n",
    "# using Installed csv package for working with csv files\n",
    "using CSV, DataFrames\n",
    "\n",
    "# reading the csv file\n",
    "df_wh = DataFrame(CSV.File(read(\"C:/Users/vuongns/Downloads/03. Thẻ Kho_2212.csv\",)))\n",
    "first(df_wh,3)"
   ]
  },
  {
   "attachments": {},
   "cell_type": "markdown",
   "metadata": {},
   "source": [
    "# self mapping the kho"
   ]
  },
  {
   "cell_type": "code",
   "execution_count": 25,
   "metadata": {},
   "outputs": [
    {
     "ename": "PyCall.PyError",
     "evalue": "PyError ($(Expr(:escape, :(ccall(#= D:\\Software\\Portableapp\\JuliaPort\\userdata\\.julia\\packages\\PyCall\\twYvK\\src\\pyeval.jl:34 =# @pysym(:Py_CompileString), PyPtr, (Cstring, Cstring, Cint), s, fname, input_type))))) <class 'SyntaxError'>\nSyntaxError('invalid syntax', ('D:\\\\Software\\\\Portableapp\\\\JuliaPort\\\\userdata\\\\.julia\\\\packages\\\\PyCall\\\\twYvK\\\\src\\\\pyeval.jl', 1, 17, 'const Py_single_input = 256  # from Python.h\\n', 1, 18))\n",
     "output_type": "error",
     "traceback": [
      "PyError ($(Expr(:escape, :(ccall(#= D:\\Software\\Portableapp\\JuliaPort\\userdata\\.julia\\packages\\PyCall\\twYvK\\src\\pyeval.jl:34 =# @pysym(:Py_CompileString), PyPtr, (Cstring, Cstring, Cint), s, fname, input_type))))) <class 'SyntaxError'>\n",
      "SyntaxError('invalid syntax', ('D:\\\\Software\\\\Portableapp\\\\JuliaPort\\\\userdata\\\\.julia\\\\packages\\\\PyCall\\\\twYvK\\\\src\\\\pyeval.jl', 1, 17, 'const Py_single_input = 256  # from Python.h\\n', 1, 18))\n",
      "\n",
      "\n",
      "Stacktrace:\n",
      " [1] pyerr_check\n",
      "   @ D:\\Software\\Portableapp\\JuliaPort\\userdata\\.julia\\packages\\PyCall\\twYvK\\src\\exception.jl:75 [inlined]\n",
      " [2] pyerr_check\n",
      "   @ D:\\Software\\Portableapp\\JuliaPort\\userdata\\.julia\\packages\\PyCall\\twYvK\\src\\exception.jl:79 [inlined]\n",
      " [3] _handle_error(msg::String)\n",
      "   @ PyCall D:\\Software\\Portableapp\\JuliaPort\\userdata\\.julia\\packages\\PyCall\\twYvK\\src\\exception.jl:96\n",
      " [4] macro expansion\n",
      "   @ D:\\Software\\Portableapp\\JuliaPort\\userdata\\.julia\\packages\\PyCall\\twYvK\\src\\exception.jl:110 [inlined]\n",
      " [5] pyeval_(s::String, globals::PyDict{String, PyObject, true}, locals::PyDict{String, PyObject, true}, input_type::Int64, fname::String)\n",
      "   @ PyCall D:\\Software\\Portableapp\\JuliaPort\\userdata\\.julia\\packages\\PyCall\\twYvK\\src\\pyeval.jl:34\n",
      " [6] top-level scope\n",
      "   @ D:\\Software\\Portableapp\\JuliaPort\\userdata\\.julia\\packages\\PyCall\\twYvK\\src\\pyeval.jl:230"
     ]
    }
   ],
   "source": [
    "# self mapping the kho\n",
    "# df_wh.\"W_CardName\" = ifelse(df_wh.\"DocNo\"[1:4] == \"GR/ \",df_wh.\"Comments\",df_wh.\"CardName\")\n",
    "# first(df_wh,5)\n",
    "using PyCall\n",
    "py\"\"\"\n",
    "def self_mapping:\n",
    "    import numpy as np\n",
    "    df_wh['W_CardName'] = np.where(df_wh['DocNo'].str[:4] == 'GR/ ',\n",
    "                                        df_wh['Comments'], df_wh['CardName'])\n",
    "    return df_wh['W_CardName']\n",
    "\"\"\"\n",
    "py\"self_mapping\"\n",
    "\n",
    "# transform!(df_wh, [:\"DocNo\",:\"Comments\",:\"CardName\"] => ByRow((a,b,c) -> a[1:4] == \"GR/ \" ? b : c))\n",
    "\n",
    "# df_wh[:,[\"DocNo\",:\"Comments\",:\"CardName\"]]\n",
    "\n",
    "# remove duplicate rows\n",
    "# df_warehouse.drop_duplicates(subset=['DocNo','W_CardName'], keep='first', inplace=True)\n",
    "# df_warehouse.head(3)"
   ]
  },
  {
   "cell_type": "code",
   "execution_count": 21,
   "metadata": {},
   "outputs": [
    {
     "data": {
      "text/plain": [
       "\"C:/Users/vuongns/Downloads/test_julia.csv\""
      ]
     },
     "metadata": {},
     "output_type": "display_data"
    }
   ],
   "source": [
    "using CSV\n",
    "CSV.write(\"C:/Users/vuongns/Downloads/test_julia.csv\", df_wh;bom=true)"
   ]
  }
 ],
 "metadata": {
  "kernelspec": {
   "display_name": "Julia 1.8.1",
   "language": "julia",
   "name": "julia-1.8"
  },
  "language_info": {
   "file_extension": ".jl",
   "mimetype": "application/julia",
   "name": "julia",
   "version": "1.8.1"
  },
  "orig_nbformat": 4,
  "vscode": {
   "interpreter": {
    "hash": "2032aa041177d92e5352996c95b2930e105440edb995ebbc4d7b604c73732877"
   }
  }
 },
 "nbformat": 4,
 "nbformat_minor": 2
}
