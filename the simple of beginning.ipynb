{
 "cells": [
  {
   "attachments": {},
   "cell_type": "markdown",
   "metadata": {},
   "source": [
    "# first steps with dataframes"
   ]
  },
  {
   "attachments": {},
   "cell_type": "markdown",
   "metadata": {},
   "source": [
    "## Reading Data From CSV Files"
   ]
  },
  {
   "cell_type": "code",
   "execution_count": 4,
   "metadata": {},
   "outputs": [
    {
     "data": {
      "text/html": [
       "<div><div style = \"float: left;\"><span>1000×10 DataFrame</span></div><div style = \"float: right;\"><span style = \"font-style: italic;\">975 rows omitted</span></div><div style = \"clear: both;\"></div></div><div class = \"data-frame\" style = \"overflow-x: scroll;\"><table class = \"data-frame\" style = \"margin-bottom: 6px;\"><thead><tr class = \"header\"><th class = \"rowNumber\" style = \"font-weight: bold; text-align: right;\">Row</th><th style = \"text-align: left;\">id</th><th style = \"text-align: left;\">Age</th><th style = \"text-align: left;\">Sex</th><th style = \"text-align: left;\">Job</th><th style = \"text-align: left;\">Housing</th><th style = \"text-align: left;\">Saving accounts</th><th style = \"text-align: left;\">Checking account</th><th style = \"text-align: left;\">Credit amount</th><th style = \"text-align: left;\">Duration</th><th style = \"text-align: left;\">Purpose</th></tr><tr class = \"subheader headerLastRow\"><th class = \"rowNumber\" style = \"font-weight: bold; text-align: right;\"></th><th title = \"Int64\" style = \"text-align: left;\">Int64</th><th title = \"Int64\" style = \"text-align: left;\">Int64</th><th title = \"String7\" style = \"text-align: left;\">String7</th><th title = \"Int64\" style = \"text-align: left;\">Int64</th><th title = \"String7\" style = \"text-align: left;\">String7</th><th title = \"String15\" style = \"text-align: left;\">String15</th><th title = \"String15\" style = \"text-align: left;\">String15</th><th title = \"Int64\" style = \"text-align: left;\">Int64</th><th title = \"Int64\" style = \"text-align: left;\">Int64</th><th title = \"String31\" style = \"text-align: left;\">String31</th></tr></thead><tbody><tr><td class = \"rowNumber\" style = \"font-weight: bold; text-align: right;\">1</td><td style = \"text-align: right;\">0</td><td style = \"text-align: right;\">67</td><td style = \"text-align: left;\">male</td><td style = \"text-align: right;\">2</td><td style = \"text-align: left;\">own</td><td style = \"text-align: left;\">NA</td><td style = \"text-align: left;\">little</td><td style = \"text-align: right;\">1169</td><td style = \"text-align: right;\">6</td><td style = \"text-align: left;\">radio/TV</td></tr><tr><td class = \"rowNumber\" style = \"font-weight: bold; text-align: right;\">2</td><td style = \"text-align: right;\">1</td><td style = \"text-align: right;\">22</td><td style = \"text-align: left;\">female</td><td style = \"text-align: right;\">2</td><td style = \"text-align: left;\">own</td><td style = \"text-align: left;\">little</td><td style = \"text-align: left;\">moderate</td><td style = \"text-align: right;\">5951</td><td style = \"text-align: right;\">48</td><td style = \"text-align: left;\">radio/TV</td></tr><tr><td class = \"rowNumber\" style = \"font-weight: bold; text-align: right;\">3</td><td style = \"text-align: right;\">2</td><td style = \"text-align: right;\">49</td><td style = \"text-align: left;\">male</td><td style = \"text-align: right;\">1</td><td style = \"text-align: left;\">own</td><td style = \"text-align: left;\">little</td><td style = \"text-align: left;\">NA</td><td style = \"text-align: right;\">2096</td><td style = \"text-align: right;\">12</td><td style = \"text-align: left;\">education</td></tr><tr><td class = \"rowNumber\" style = \"font-weight: bold; text-align: right;\">4</td><td style = \"text-align: right;\">3</td><td style = \"text-align: right;\">45</td><td style = \"text-align: left;\">male</td><td style = \"text-align: right;\">2</td><td style = \"text-align: left;\">free</td><td style = \"text-align: left;\">little</td><td style = \"text-align: left;\">little</td><td style = \"text-align: right;\">7882</td><td style = \"text-align: right;\">42</td><td style = \"text-align: left;\">furniture/equipment</td></tr><tr><td class = \"rowNumber\" style = \"font-weight: bold; text-align: right;\">5</td><td style = \"text-align: right;\">4</td><td style = \"text-align: right;\">53</td><td style = \"text-align: left;\">male</td><td style = \"text-align: right;\">2</td><td style = \"text-align: left;\">free</td><td style = \"text-align: left;\">little</td><td style = \"text-align: left;\">little</td><td style = \"text-align: right;\">4870</td><td style = \"text-align: right;\">24</td><td style = \"text-align: left;\">car</td></tr><tr><td class = \"rowNumber\" style = \"font-weight: bold; text-align: right;\">6</td><td style = \"text-align: right;\">5</td><td style = \"text-align: right;\">35</td><td style = \"text-align: left;\">male</td><td style = \"text-align: right;\">1</td><td style = \"text-align: left;\">free</td><td style = \"text-align: left;\">NA</td><td style = \"text-align: left;\">NA</td><td style = \"text-align: right;\">9055</td><td style = \"text-align: right;\">36</td><td style = \"text-align: left;\">education</td></tr><tr><td class = \"rowNumber\" style = \"font-weight: bold; text-align: right;\">7</td><td style = \"text-align: right;\">6</td><td style = \"text-align: right;\">53</td><td style = \"text-align: left;\">male</td><td style = \"text-align: right;\">2</td><td style = \"text-align: left;\">own</td><td style = \"text-align: left;\">quite rich</td><td style = \"text-align: left;\">NA</td><td style = \"text-align: right;\">2835</td><td style = \"text-align: right;\">24</td><td style = \"text-align: left;\">furniture/equipment</td></tr><tr><td class = \"rowNumber\" style = \"font-weight: bold; text-align: right;\">8</td><td style = \"text-align: right;\">7</td><td style = \"text-align: right;\">35</td><td style = \"text-align: left;\">male</td><td style = \"text-align: right;\">3</td><td style = \"text-align: left;\">rent</td><td style = \"text-align: left;\">little</td><td style = \"text-align: left;\">moderate</td><td style = \"text-align: right;\">6948</td><td style = \"text-align: right;\">36</td><td style = \"text-align: left;\">car</td></tr><tr><td class = \"rowNumber\" style = \"font-weight: bold; text-align: right;\">9</td><td style = \"text-align: right;\">8</td><td style = \"text-align: right;\">61</td><td style = \"text-align: left;\">male</td><td style = \"text-align: right;\">1</td><td style = \"text-align: left;\">own</td><td style = \"text-align: left;\">rich</td><td style = \"text-align: left;\">NA</td><td style = \"text-align: right;\">3059</td><td style = \"text-align: right;\">12</td><td style = \"text-align: left;\">radio/TV</td></tr><tr><td class = \"rowNumber\" style = \"font-weight: bold; text-align: right;\">10</td><td style = \"text-align: right;\">9</td><td style = \"text-align: right;\">28</td><td style = \"text-align: left;\">male</td><td style = \"text-align: right;\">3</td><td style = \"text-align: left;\">own</td><td style = \"text-align: left;\">little</td><td style = \"text-align: left;\">moderate</td><td style = \"text-align: right;\">5234</td><td style = \"text-align: right;\">30</td><td style = \"text-align: left;\">car</td></tr><tr><td class = \"rowNumber\" style = \"font-weight: bold; text-align: right;\">11</td><td style = \"text-align: right;\">10</td><td style = \"text-align: right;\">25</td><td style = \"text-align: left;\">female</td><td style = \"text-align: right;\">2</td><td style = \"text-align: left;\">rent</td><td style = \"text-align: left;\">little</td><td style = \"text-align: left;\">moderate</td><td style = \"text-align: right;\">1295</td><td style = \"text-align: right;\">12</td><td style = \"text-align: left;\">car</td></tr><tr><td class = \"rowNumber\" style = \"font-weight: bold; text-align: right;\">12</td><td style = \"text-align: right;\">11</td><td style = \"text-align: right;\">24</td><td style = \"text-align: left;\">female</td><td style = \"text-align: right;\">2</td><td style = \"text-align: left;\">rent</td><td style = \"text-align: left;\">little</td><td style = \"text-align: left;\">little</td><td style = \"text-align: right;\">4308</td><td style = \"text-align: right;\">48</td><td style = \"text-align: left;\">business</td></tr><tr><td class = \"rowNumber\" style = \"font-weight: bold; text-align: right;\">13</td><td style = \"text-align: right;\">12</td><td style = \"text-align: right;\">22</td><td style = \"text-align: left;\">female</td><td style = \"text-align: right;\">2</td><td style = \"text-align: left;\">own</td><td style = \"text-align: left;\">little</td><td style = \"text-align: left;\">moderate</td><td style = \"text-align: right;\">1567</td><td style = \"text-align: right;\">12</td><td style = \"text-align: left;\">radio/TV</td></tr><tr><td style = \"text-align: right;\">&vellip;</td><td style = \"text-align: right;\">&vellip;</td><td style = \"text-align: right;\">&vellip;</td><td style = \"text-align: right;\">&vellip;</td><td style = \"text-align: right;\">&vellip;</td><td style = \"text-align: right;\">&vellip;</td><td style = \"text-align: right;\">&vellip;</td><td style = \"text-align: right;\">&vellip;</td><td style = \"text-align: right;\">&vellip;</td><td style = \"text-align: right;\">&vellip;</td><td style = \"text-align: right;\">&vellip;</td></tr><tr><td class = \"rowNumber\" style = \"font-weight: bold; text-align: right;\">989</td><td style = \"text-align: right;\">988</td><td style = \"text-align: right;\">29</td><td style = \"text-align: left;\">male</td><td style = \"text-align: right;\">3</td><td style = \"text-align: left;\">free</td><td style = \"text-align: left;\">little</td><td style = \"text-align: left;\">little</td><td style = \"text-align: right;\">6579</td><td style = \"text-align: right;\">24</td><td style = \"text-align: left;\">car</td></tr><tr><td class = \"rowNumber\" style = \"font-weight: bold; text-align: right;\">990</td><td style = \"text-align: right;\">989</td><td style = \"text-align: right;\">48</td><td style = \"text-align: left;\">male</td><td style = \"text-align: right;\">1</td><td style = \"text-align: left;\">own</td><td style = \"text-align: left;\">little</td><td style = \"text-align: left;\">moderate</td><td style = \"text-align: right;\">1743</td><td style = \"text-align: right;\">24</td><td style = \"text-align: left;\">radio/TV</td></tr><tr><td class = \"rowNumber\" style = \"font-weight: bold; text-align: right;\">991</td><td style = \"text-align: right;\">990</td><td style = \"text-align: right;\">37</td><td style = \"text-align: left;\">male</td><td style = \"text-align: right;\">1</td><td style = \"text-align: left;\">own</td><td style = \"text-align: left;\">NA</td><td style = \"text-align: left;\">NA</td><td style = \"text-align: right;\">3565</td><td style = \"text-align: right;\">12</td><td style = \"text-align: left;\">education</td></tr><tr><td class = \"rowNumber\" style = \"font-weight: bold; text-align: right;\">992</td><td style = \"text-align: right;\">991</td><td style = \"text-align: right;\">34</td><td style = \"text-align: left;\">male</td><td style = \"text-align: right;\">1</td><td style = \"text-align: left;\">own</td><td style = \"text-align: left;\">moderate</td><td style = \"text-align: left;\">NA</td><td style = \"text-align: right;\">1569</td><td style = \"text-align: right;\">15</td><td style = \"text-align: left;\">radio/TV</td></tr><tr><td class = \"rowNumber\" style = \"font-weight: bold; text-align: right;\">993</td><td style = \"text-align: right;\">992</td><td style = \"text-align: right;\">23</td><td style = \"text-align: left;\">male</td><td style = \"text-align: right;\">1</td><td style = \"text-align: left;\">rent</td><td style = \"text-align: left;\">NA</td><td style = \"text-align: left;\">little</td><td style = \"text-align: right;\">1936</td><td style = \"text-align: right;\">18</td><td style = \"text-align: left;\">radio/TV</td></tr><tr><td class = \"rowNumber\" style = \"font-weight: bold; text-align: right;\">994</td><td style = \"text-align: right;\">993</td><td style = \"text-align: right;\">30</td><td style = \"text-align: left;\">male</td><td style = \"text-align: right;\">3</td><td style = \"text-align: left;\">own</td><td style = \"text-align: left;\">little</td><td style = \"text-align: left;\">little</td><td style = \"text-align: right;\">3959</td><td style = \"text-align: right;\">36</td><td style = \"text-align: left;\">furniture/equipment</td></tr><tr><td class = \"rowNumber\" style = \"font-weight: bold; text-align: right;\">995</td><td style = \"text-align: right;\">994</td><td style = \"text-align: right;\">50</td><td style = \"text-align: left;\">male</td><td style = \"text-align: right;\">2</td><td style = \"text-align: left;\">own</td><td style = \"text-align: left;\">NA</td><td style = \"text-align: left;\">NA</td><td style = \"text-align: right;\">2390</td><td style = \"text-align: right;\">12</td><td style = \"text-align: left;\">car</td></tr><tr><td class = \"rowNumber\" style = \"font-weight: bold; text-align: right;\">996</td><td style = \"text-align: right;\">995</td><td style = \"text-align: right;\">31</td><td style = \"text-align: left;\">female</td><td style = \"text-align: right;\">1</td><td style = \"text-align: left;\">own</td><td style = \"text-align: left;\">little</td><td style = \"text-align: left;\">NA</td><td style = \"text-align: right;\">1736</td><td style = \"text-align: right;\">12</td><td style = \"text-align: left;\">furniture/equipment</td></tr><tr><td class = \"rowNumber\" style = \"font-weight: bold; text-align: right;\">997</td><td style = \"text-align: right;\">996</td><td style = \"text-align: right;\">40</td><td style = \"text-align: left;\">male</td><td style = \"text-align: right;\">3</td><td style = \"text-align: left;\">own</td><td style = \"text-align: left;\">little</td><td style = \"text-align: left;\">little</td><td style = \"text-align: right;\">3857</td><td style = \"text-align: right;\">30</td><td style = \"text-align: left;\">car</td></tr><tr><td class = \"rowNumber\" style = \"font-weight: bold; text-align: right;\">998</td><td style = \"text-align: right;\">997</td><td style = \"text-align: right;\">38</td><td style = \"text-align: left;\">male</td><td style = \"text-align: right;\">2</td><td style = \"text-align: left;\">own</td><td style = \"text-align: left;\">little</td><td style = \"text-align: left;\">NA</td><td style = \"text-align: right;\">804</td><td style = \"text-align: right;\">12</td><td style = \"text-align: left;\">radio/TV</td></tr><tr><td class = \"rowNumber\" style = \"font-weight: bold; text-align: right;\">999</td><td style = \"text-align: right;\">998</td><td style = \"text-align: right;\">23</td><td style = \"text-align: left;\">male</td><td style = \"text-align: right;\">2</td><td style = \"text-align: left;\">free</td><td style = \"text-align: left;\">little</td><td style = \"text-align: left;\">little</td><td style = \"text-align: right;\">1845</td><td style = \"text-align: right;\">45</td><td style = \"text-align: left;\">radio/TV</td></tr><tr><td class = \"rowNumber\" style = \"font-weight: bold; text-align: right;\">1000</td><td style = \"text-align: right;\">999</td><td style = \"text-align: right;\">27</td><td style = \"text-align: left;\">male</td><td style = \"text-align: right;\">2</td><td style = \"text-align: left;\">own</td><td style = \"text-align: left;\">moderate</td><td style = \"text-align: left;\">moderate</td><td style = \"text-align: right;\">4576</td><td style = \"text-align: right;\">45</td><td style = \"text-align: left;\">car</td></tr></tbody></table></div>"
      ],
      "text/latex": [
       "\\begin{tabular}{r|ccccccccc}\n",
       "\t& id & Age & Sex & Job & Housing & Saving accounts & Checking account & Credit amount & \\\\\n",
       "\t\\hline\n",
       "\t& Int64 & Int64 & String7 & Int64 & String7 & String15 & String15 & Int64 & \\\\\n",
       "\t\\hline\n",
       "\t1 & 0 & 67 & male & 2 & own & NA & little & 1169 & $\\dots$ \\\\\n",
       "\t2 & 1 & 22 & female & 2 & own & little & moderate & 5951 & $\\dots$ \\\\\n",
       "\t3 & 2 & 49 & male & 1 & own & little & NA & 2096 & $\\dots$ \\\\\n",
       "\t4 & 3 & 45 & male & 2 & free & little & little & 7882 & $\\dots$ \\\\\n",
       "\t5 & 4 & 53 & male & 2 & free & little & little & 4870 & $\\dots$ \\\\\n",
       "\t6 & 5 & 35 & male & 1 & free & NA & NA & 9055 & $\\dots$ \\\\\n",
       "\t7 & 6 & 53 & male & 2 & own & quite rich & NA & 2835 & $\\dots$ \\\\\n",
       "\t8 & 7 & 35 & male & 3 & rent & little & moderate & 6948 & $\\dots$ \\\\\n",
       "\t9 & 8 & 61 & male & 1 & own & rich & NA & 3059 & $\\dots$ \\\\\n",
       "\t10 & 9 & 28 & male & 3 & own & little & moderate & 5234 & $\\dots$ \\\\\n",
       "\t11 & 10 & 25 & female & 2 & rent & little & moderate & 1295 & $\\dots$ \\\\\n",
       "\t12 & 11 & 24 & female & 2 & rent & little & little & 4308 & $\\dots$ \\\\\n",
       "\t13 & 12 & 22 & female & 2 & own & little & moderate & 1567 & $\\dots$ \\\\\n",
       "\t14 & 13 & 60 & male & 1 & own & little & little & 1199 & $\\dots$ \\\\\n",
       "\t15 & 14 & 28 & female & 2 & rent & little & little & 1403 & $\\dots$ \\\\\n",
       "\t16 & 15 & 32 & female & 1 & own & moderate & little & 1282 & $\\dots$ \\\\\n",
       "\t17 & 16 & 53 & male & 2 & own & NA & NA & 2424 & $\\dots$ \\\\\n",
       "\t18 & 17 & 25 & male & 2 & own & NA & little & 8072 & $\\dots$ \\\\\n",
       "\t19 & 18 & 44 & female & 3 & free & little & moderate & 12579 & $\\dots$ \\\\\n",
       "\t20 & 19 & 31 & male & 2 & own & quite rich & NA & 3430 & $\\dots$ \\\\\n",
       "\t21 & 20 & 48 & male & 2 & own & little & NA & 2134 & $\\dots$ \\\\\n",
       "\t22 & 21 & 44 & male & 2 & rent & quite rich & little & 2647 & $\\dots$ \\\\\n",
       "\t23 & 22 & 48 & male & 1 & rent & little & little & 2241 & $\\dots$ \\\\\n",
       "\t24 & 23 & 44 & male & 2 & own & moderate & moderate & 1804 & $\\dots$ \\\\\n",
       "\t$\\dots$ & $\\dots$ & $\\dots$ & $\\dots$ & $\\dots$ & $\\dots$ & $\\dots$ & $\\dots$ & $\\dots$ &  \\\\\n",
       "\\end{tabular}\n"
      ],
      "text/plain": [
       "\u001b[1m1000×10 DataFrame\u001b[0m\n",
       "\u001b[1m  Row \u001b[0m│\u001b[1m id    \u001b[0m\u001b[1m Age   \u001b[0m\u001b[1m Sex     \u001b[0m\u001b[1m Job   \u001b[0m\u001b[1m Housing \u001b[0m\u001b[1m Saving accounts \u001b[0m\u001b[1m Checking accou\u001b[0m ⋯\n",
       "      │\u001b[90m Int64 \u001b[0m\u001b[90m Int64 \u001b[0m\u001b[90m String7 \u001b[0m\u001b[90m Int64 \u001b[0m\u001b[90m String7 \u001b[0m\u001b[90m String15        \u001b[0m\u001b[90m String15      \u001b[0m ⋯\n",
       "──────┼─────────────────────────────────────────────────────────────────────────\n",
       "    1 │     0     67  male         2  own      NA               little         ⋯\n",
       "    2 │     1     22  female       2  own      little           moderate\n",
       "    3 │     2     49  male         1  own      little           NA\n",
       "    4 │     3     45  male         2  free     little           little\n",
       "    5 │     4     53  male         2  free     little           little         ⋯\n",
       "    6 │     5     35  male         1  free     NA               NA\n",
       "    7 │     6     53  male         2  own      quite rich       NA\n",
       "    8 │     7     35  male         3  rent     little           moderate\n",
       "  ⋮   │   ⋮      ⋮       ⋮       ⋮       ⋮            ⋮                ⋮       ⋱\n",
       "  994 │   993     30  male         3  own      little           little         ⋯\n",
       "  995 │   994     50  male         2  own      NA               NA\n",
       "  996 │   995     31  female       1  own      little           NA\n",
       "  997 │   996     40  male         3  own      little           little\n",
       "  998 │   997     38  male         2  own      little           NA             ⋯\n",
       "  999 │   998     23  male         2  free     little           little\n",
       " 1000 │   999     27  male         2  own      moderate         moderate\n",
       "\u001b[36m                                                  4 columns and 985 rows omitted\u001b[0m"
      ]
     },
     "metadata": {},
     "output_type": "display_data"
    }
   ],
   "source": [
    "using CSV, DataFrames\n",
    "german_ref = CSV.read(joinpath(dirname(pathof(DataFrames)),\n",
    "                                      \"..\", \"docs\", \"src\", \"assets\", \"german.csv\"),\n",
    "                             DataFrame)"
   ]
  },
  {
   "cell_type": "code",
   "execution_count": 8,
   "metadata": {},
   "outputs": [],
   "source": [
    "german = copy(german_ref); # we copy the data frame"
   ]
  },
  {
   "attachments": {},
   "cell_type": "markdown",
   "metadata": {},
   "source": [
    "## Basic Operations on Data Frames"
   ]
  },
  {
   "cell_type": "code",
   "execution_count": 10,
   "metadata": {},
   "outputs": [
    {
     "data": {
      "text/plain": [
       "1000-element PooledArrays.PooledVector{String7, UInt32, Vector{UInt32}}:\n",
       " \"male\"\n",
       " \"female\"\n",
       " \"male\"\n",
       " \"male\"\n",
       " \"male\"\n",
       " \"male\"\n",
       " \"male\"\n",
       " \"male\"\n",
       " \"male\"\n",
       " \"male\"\n",
       " ⋮\n",
       " \"male\"\n",
       " \"male\"\n",
       " \"male\"\n",
       " \"male\"\n",
       " \"female\"\n",
       " \"male\"\n",
       " \"male\"\n",
       " \"male\"\n",
       " \"male\""
      ]
     },
     "metadata": {},
     "output_type": "display_data"
    }
   ],
   "source": [
    "german.Sex"
   ]
  },
  {
   "cell_type": "code",
   "execution_count": 11,
   "metadata": {},
   "outputs": [
    {
     "data": {
      "text/plain": [
       "1000-element PooledArrays.PooledVector{String7, UInt32, Vector{UInt32}}:\n",
       " \"male\"\n",
       " \"female\"\n",
       " \"male\"\n",
       " \"male\"\n",
       " \"male\"\n",
       " \"male\"\n",
       " \"male\"\n",
       " \"male\"\n",
       " \"male\"\n",
       " \"male\"\n",
       " ⋮\n",
       " \"male\"\n",
       " \"male\"\n",
       " \"male\"\n",
       " \"male\"\n",
       " \"female\"\n",
       " \"male\"\n",
       " \"male\"\n",
       " \"male\"\n",
       " \"male\""
      ]
     },
     "metadata": {},
     "output_type": "display_data"
    }
   ],
   "source": [
    "colname = \"Sex\"\n",
    "german[!, colname]"
   ]
  },
  {
   "cell_type": "code",
   "execution_count": 13,
   "metadata": {},
   "outputs": [
    {
     "data": {
      "text/plain": [
       "true"
      ]
     },
     "metadata": {},
     "output_type": "display_data"
    }
   ],
   "source": [
    "german.Sex === german[!, :Sex]\n",
    "# german.Sex === german[:, :Sex]\n",
    "\n",
    "# The === function allows us to check if both expressions produce the same object and confirm the behavior described above:"
   ]
  },
  {
   "cell_type": "code",
   "execution_count": 15,
   "metadata": {},
   "outputs": [
    {
     "data": {
      "text/plain": [
       "10-element Vector{String}:\n",
       " \"id\"\n",
       " \"Age\"\n",
       " \"Sex\"\n",
       " \"Job\"\n",
       " \"Housing\"\n",
       " \"Saving accounts\"\n",
       " \"Checking account\"\n",
       " \"Credit amount\"\n",
       " \"Duration\"\n",
       " \"Purpose\""
      ]
     },
     "metadata": {},
     "output_type": "display_data"
    }
   ],
   "source": [
    "# You can obtain a vector of column names of the data frame as Strings using the names function:\n",
    "names(german)"
   ]
  },
  {
   "cell_type": "code",
   "execution_count": 16,
   "metadata": {},
   "outputs": [
    {
     "data": {
      "text/plain": [
       "5-element Vector{String}:\n",
       " \"Sex\"\n",
       " \"Housing\"\n",
       " \"Saving accounts\"\n",
       " \"Checking account\"\n",
       " \"Purpose\""
      ]
     },
     "metadata": {},
     "output_type": "display_data"
    }
   ],
   "source": [
    "# Sometimes you are interested in names of columns that meet a particular condition.\n",
    "# For example you can get column names with a given element type by passing this type as a second argument to the names function:\n",
    "names(german, AbstractString)"
   ]
  },
  {
   "cell_type": "code",
   "execution_count": 17,
   "metadata": {},
   "outputs": [
    {
     "data": {
      "text/plain": [
       "10-element Vector{Symbol}:\n",
       " :id\n",
       " :Age\n",
       " :Sex\n",
       " :Job\n",
       " :Housing\n",
       " Symbol(\"Saving accounts\")\n",
       " Symbol(\"Checking account\")\n",
       " Symbol(\"Credit amount\")\n",
       " :Duration\n",
       " :Purpose"
      ]
     },
     "metadata": {},
     "output_type": "display_data"
    }
   ],
   "source": [
    "# You can explore more options of filtering column names in the documentation of the names function.\n",
    "# If instead you wanted to get column names of a data frame as Symbols use the propertynames function:\n",
    "propertynames(german)\n",
    "\n",
    "# As you can see the column names containing spaces are not very convenient to work with as Symbols because they require more typing and introduce some visual noise."
   ]
  },
  {
   "cell_type": "code",
   "execution_count": 18,
   "metadata": {},
   "outputs": [
    {
     "data": {
      "text/plain": [
       "10-element Vector{DataType}:\n",
       " Int64\n",
       " Int64\n",
       " String7\n",
       " Int64\n",
       " String7\n",
       " String15\n",
       " String15\n",
       " Int64\n",
       " Int64\n",
       " String31"
      ]
     },
     "metadata": {},
     "output_type": "display_data"
    }
   ],
   "source": [
    "# If you were interested in element types of the columns instead. You can use the eachcol(german) function to get an iterator over the columns of the data frame. Then you can broadcast the eltype function over it to get the desired result:\n",
    "eltype.(eachcol(german))"
   ]
  },
  {
   "cell_type": "code",
   "execution_count": null,
   "metadata": {},
   "outputs": [],
   "source": [
    "# Let us start with the example of using the empty and empty! functions:\n",
    "empty(german)\n",
    "german"
   ]
  },
  {
   "cell_type": "code",
   "execution_count": null,
   "metadata": {},
   "outputs": [],
   "source": [
    "empty!(german)\n",
    "german\n",
    "\n",
    "# In the above example empty function created a new DataFrame with the same column names and column element types as german but with zero rows. On the other hand empty! function removed all rows from german in-place and made each of its columns empty."
   ]
  },
  {
   "attachments": {},
   "cell_type": "markdown",
   "metadata": {},
   "source": [
    "## Getting Basic Information about a Data Frame"
   ]
  },
  {
   "cell_type": "code",
   "execution_count": 24,
   "metadata": {},
   "outputs": [
    {
     "data": {
      "text/plain": [
       "(1000, 10)"
      ]
     },
     "metadata": {},
     "output_type": "display_data"
    }
   ],
   "source": [
    "german = copy(german_ref);\n",
    "size(german)\n",
    "# size(german, 1)\n",
    "# size(german, 2)"
   ]
  },
  {
   "cell_type": "code",
   "execution_count": 26,
   "metadata": {},
   "outputs": [
    {
     "data": {
      "text/plain": [
       "10"
      ]
     },
     "metadata": {},
     "output_type": "display_data"
    }
   ],
   "source": [
    "# nrow(german)\n",
    "ncol(german)"
   ]
  },
  {
   "cell_type": "code",
   "execution_count": 28,
   "metadata": {},
   "outputs": [
    {
     "data": {
      "text/html": [
       "<div><div style = \"float: left;\"><span>10×7 DataFrame</span></div><div style = \"clear: both;\"></div></div><div class = \"data-frame\" style = \"overflow-x: scroll;\"><table class = \"data-frame\" style = \"margin-bottom: 6px;\"><thead><tr class = \"header\"><th class = \"rowNumber\" style = \"font-weight: bold; text-align: right;\">Row</th><th style = \"text-align: left;\">variable</th><th style = \"text-align: left;\">mean</th><th style = \"text-align: left;\">min</th><th style = \"text-align: left;\">median</th><th style = \"text-align: left;\">max</th><th style = \"text-align: left;\">nmissing</th><th style = \"text-align: left;\">eltype</th></tr><tr class = \"subheader headerLastRow\"><th class = \"rowNumber\" style = \"font-weight: bold; text-align: right;\"></th><th title = \"Symbol\" style = \"text-align: left;\">Symbol</th><th title = \"Union{Nothing, Float64}\" style = \"text-align: left;\">Union…</th><th title = \"Any\" style = \"text-align: left;\">Any</th><th title = \"Union{Nothing, Float64}\" style = \"text-align: left;\">Union…</th><th title = \"Any\" style = \"text-align: left;\">Any</th><th title = \"Int64\" style = \"text-align: left;\">Int64</th><th title = \"DataType\" style = \"text-align: left;\">DataType</th></tr></thead><tbody><tr><td class = \"rowNumber\" style = \"font-weight: bold; text-align: right;\">1</td><td style = \"text-align: left;\">id</td><td style = \"text-align: left;\">499.5</td><td style = \"text-align: left;\">0</td><td style = \"text-align: left;\">499.5</td><td style = \"text-align: left;\">999</td><td style = \"text-align: right;\">0</td><td style = \"text-align: left;\">Int64</td></tr><tr><td class = \"rowNumber\" style = \"font-weight: bold; text-align: right;\">2</td><td style = \"text-align: left;\">Age</td><td style = \"text-align: left;\">35.546</td><td style = \"text-align: left;\">19</td><td style = \"text-align: left;\">33.0</td><td style = \"text-align: left;\">75</td><td style = \"text-align: right;\">0</td><td style = \"text-align: left;\">Int64</td></tr><tr><td class = \"rowNumber\" style = \"font-weight: bold; text-align: right;\">3</td><td style = \"text-align: left;\">Sex</td><td style = \"font-style: italic; text-align: left;\"></td><td style = \"text-align: left;\">female</td><td style = \"font-style: italic; text-align: left;\"></td><td style = \"text-align: left;\">male</td><td style = \"text-align: right;\">0</td><td style = \"text-align: left;\">String7</td></tr><tr><td class = \"rowNumber\" style = \"font-weight: bold; text-align: right;\">4</td><td style = \"text-align: left;\">Job</td><td style = \"text-align: left;\">1.904</td><td style = \"text-align: left;\">0</td><td style = \"text-align: left;\">2.0</td><td style = \"text-align: left;\">3</td><td style = \"text-align: right;\">0</td><td style = \"text-align: left;\">Int64</td></tr><tr><td class = \"rowNumber\" style = \"font-weight: bold; text-align: right;\">5</td><td style = \"text-align: left;\">Housing</td><td style = \"font-style: italic; text-align: left;\"></td><td style = \"text-align: left;\">free</td><td style = \"font-style: italic; text-align: left;\"></td><td style = \"text-align: left;\">rent</td><td style = \"text-align: right;\">0</td><td style = \"text-align: left;\">String7</td></tr><tr><td class = \"rowNumber\" style = \"font-weight: bold; text-align: right;\">6</td><td style = \"text-align: left;\">Saving accounts</td><td style = \"font-style: italic; text-align: left;\"></td><td style = \"text-align: left;\">NA</td><td style = \"font-style: italic; text-align: left;\"></td><td style = \"text-align: left;\">rich</td><td style = \"text-align: right;\">0</td><td style = \"text-align: left;\">String15</td></tr><tr><td class = \"rowNumber\" style = \"font-weight: bold; text-align: right;\">7</td><td style = \"text-align: left;\">Checking account</td><td style = \"font-style: italic; text-align: left;\"></td><td style = \"text-align: left;\">NA</td><td style = \"font-style: italic; text-align: left;\"></td><td style = \"text-align: left;\">rich</td><td style = \"text-align: right;\">0</td><td style = \"text-align: left;\">String15</td></tr><tr><td class = \"rowNumber\" style = \"font-weight: bold; text-align: right;\">8</td><td style = \"text-align: left;\">Credit amount</td><td style = \"text-align: left;\">3271.26</td><td style = \"text-align: left;\">250</td><td style = \"text-align: left;\">2319.5</td><td style = \"text-align: left;\">18424</td><td style = \"text-align: right;\">0</td><td style = \"text-align: left;\">Int64</td></tr><tr><td class = \"rowNumber\" style = \"font-weight: bold; text-align: right;\">9</td><td style = \"text-align: left;\">Duration</td><td style = \"text-align: left;\">20.903</td><td style = \"text-align: left;\">4</td><td style = \"text-align: left;\">18.0</td><td style = \"text-align: left;\">72</td><td style = \"text-align: right;\">0</td><td style = \"text-align: left;\">Int64</td></tr><tr><td class = \"rowNumber\" style = \"font-weight: bold; text-align: right;\">10</td><td style = \"text-align: left;\">Purpose</td><td style = \"font-style: italic; text-align: left;\"></td><td style = \"text-align: left;\">business</td><td style = \"font-style: italic; text-align: left;\"></td><td style = \"text-align: left;\">vacation/others</td><td style = \"text-align: right;\">0</td><td style = \"text-align: left;\">String31</td></tr></tbody></table></div>"
      ],
      "text/latex": [
       "\\begin{tabular}{r|ccccccc}\n",
       "\t& variable & mean & min & median & max & nmissing & eltype\\\\\n",
       "\t\\hline\n",
       "\t& Symbol & Union… & Any & Union… & Any & Int64 & DataType\\\\\n",
       "\t\\hline\n",
       "\t1 & id & 499.5 & 0 & 499.5 & 999 & 0 & Int64 \\\\\n",
       "\t2 & Age & 35.546 & 19 & 33.0 & 75 & 0 & Int64 \\\\\n",
       "\t3 & Sex &  & female &  & male & 0 & String7 \\\\\n",
       "\t4 & Job & 1.904 & 0 & 2.0 & 3 & 0 & Int64 \\\\\n",
       "\t5 & Housing &  & free &  & rent & 0 & String7 \\\\\n",
       "\t6 & Saving accounts &  & NA &  & rich & 0 & String15 \\\\\n",
       "\t7 & Checking account &  & NA &  & rich & 0 & String15 \\\\\n",
       "\t8 & Credit amount & 3271.26 & 250 & 2319.5 & 18424 & 0 & Int64 \\\\\n",
       "\t9 & Duration & 20.903 & 4 & 18.0 & 72 & 0 & Int64 \\\\\n",
       "\t10 & Purpose &  & business &  & vacation/others & 0 & String31 \\\\\n",
       "\\end{tabular}\n"
      ],
      "text/plain": [
       "\u001b[1m10×7 DataFrame\u001b[0m\n",
       "\u001b[1m Row \u001b[0m│\u001b[1m variable         \u001b[0m\u001b[1m mean    \u001b[0m\u001b[1m min      \u001b[0m\u001b[1m median \u001b[0m\u001b[1m max             \u001b[0m\u001b[1m nmissing \u001b[0m\u001b[1m\u001b[0m ⋯\n",
       "     │\u001b[90m Symbol           \u001b[0m\u001b[90m Union…  \u001b[0m\u001b[90m Any      \u001b[0m\u001b[90m Union… \u001b[0m\u001b[90m Any             \u001b[0m\u001b[90m Int64    \u001b[0m\u001b[90m\u001b[0m ⋯\n",
       "─────┼──────────────────────────────────────────────────────────────────────────\n",
       "   1 │ id                499.5    0         499.5   999                     0  ⋯\n",
       "   2 │ Age               35.546   19        33.0    75                      0\n",
       "   3 │ Sex              \u001b[90m         \u001b[0m female   \u001b[90m        \u001b[0m male                    0\n",
       "   4 │ Job               1.904    0         2.0     3                       0\n",
       "   5 │ Housing          \u001b[90m         \u001b[0m free     \u001b[90m        \u001b[0m rent                    0  ⋯\n",
       "   6 │ Saving accounts  \u001b[90m         \u001b[0m NA       \u001b[90m        \u001b[0m rich                    0\n",
       "   7 │ Checking account \u001b[90m         \u001b[0m NA       \u001b[90m        \u001b[0m rich                    0\n",
       "   8 │ Credit amount     3271.26  250       2319.5  18424                   0\n",
       "   9 │ Duration          20.903   4         18.0    72                      0  ⋯\n",
       "  10 │ Purpose          \u001b[90m         \u001b[0m business \u001b[90m        \u001b[0m vacation/others         0\n",
       "\u001b[36m                                                                1 column omitted\u001b[0m"
      ]
     },
     "metadata": {},
     "output_type": "display_data"
    }
   ],
   "source": [
    "# To get basic statistics of data in your data frame use the describe function (check out the help of describe for information on how to customize the shown statistics).\n",
    "describe(german)"
   ]
  },
  {
   "cell_type": "code",
   "execution_count": 29,
   "metadata": {},
   "outputs": [
    {
     "data": {
      "text/html": [
       "<div><div style = \"float: left;\"><span>3×7 DataFrame</span></div><div style = \"clear: both;\"></div></div><div class = \"data-frame\" style = \"overflow-x: scroll;\"><table class = \"data-frame\" style = \"margin-bottom: 6px;\"><thead><tr class = \"header\"><th class = \"rowNumber\" style = \"font-weight: bold; text-align: right;\">Row</th><th style = \"text-align: left;\">variable</th><th style = \"text-align: left;\">mean</th><th style = \"text-align: left;\">min</th><th style = \"text-align: left;\">median</th><th style = \"text-align: left;\">max</th><th style = \"text-align: left;\">nmissing</th><th style = \"text-align: left;\">eltype</th></tr><tr class = \"subheader headerLastRow\"><th class = \"rowNumber\" style = \"font-weight: bold; text-align: right;\"></th><th title = \"Symbol\" style = \"text-align: left;\">Symbol</th><th title = \"Union{Nothing, Float64}\" style = \"text-align: left;\">Union…</th><th title = \"Any\" style = \"text-align: left;\">Any</th><th title = \"Union{Nothing, Float64}\" style = \"text-align: left;\">Union…</th><th title = \"Any\" style = \"text-align: left;\">Any</th><th title = \"Int64\" style = \"text-align: left;\">Int64</th><th title = \"DataType\" style = \"text-align: left;\">DataType</th></tr></thead><tbody><tr><td class = \"rowNumber\" style = \"font-weight: bold; text-align: right;\">1</td><td style = \"text-align: left;\">id</td><td style = \"text-align: left;\">499.5</td><td style = \"text-align: left;\">0</td><td style = \"text-align: left;\">499.5</td><td style = \"text-align: left;\">999</td><td style = \"text-align: right;\">0</td><td style = \"text-align: left;\">Int64</td></tr><tr><td class = \"rowNumber\" style = \"font-weight: bold; text-align: right;\">2</td><td style = \"text-align: left;\">Age</td><td style = \"text-align: left;\">35.546</td><td style = \"text-align: left;\">19</td><td style = \"text-align: left;\">33.0</td><td style = \"text-align: left;\">75</td><td style = \"text-align: right;\">0</td><td style = \"text-align: left;\">Int64</td></tr><tr><td class = \"rowNumber\" style = \"font-weight: bold; text-align: right;\">3</td><td style = \"text-align: left;\">Sex</td><td style = \"font-style: italic; text-align: left;\"></td><td style = \"text-align: left;\">female</td><td style = \"font-style: italic; text-align: left;\"></td><td style = \"text-align: left;\">male</td><td style = \"text-align: right;\">0</td><td style = \"text-align: left;\">String7</td></tr></tbody></table></div>"
      ],
      "text/latex": [
       "\\begin{tabular}{r|ccccccc}\n",
       "\t& variable & mean & min & median & max & nmissing & eltype\\\\\n",
       "\t\\hline\n",
       "\t& Symbol & Union… & Any & Union… & Any & Int64 & DataType\\\\\n",
       "\t\\hline\n",
       "\t1 & id & 499.5 & 0 & 499.5 & 999 & 0 & Int64 \\\\\n",
       "\t2 & Age & 35.546 & 19 & 33.0 & 75 & 0 & Int64 \\\\\n",
       "\t3 & Sex &  & female &  & male & 0 & String7 \\\\\n",
       "\\end{tabular}\n"
      ],
      "text/plain": [
       "\u001b[1m3×7 DataFrame\u001b[0m\n",
       "\u001b[1m Row \u001b[0m│\u001b[1m variable \u001b[0m\u001b[1m mean   \u001b[0m\u001b[1m min    \u001b[0m\u001b[1m median \u001b[0m\u001b[1m max  \u001b[0m\u001b[1m nmissing \u001b[0m\u001b[1m eltype   \u001b[0m\n",
       "     │\u001b[90m Symbol   \u001b[0m\u001b[90m Union… \u001b[0m\u001b[90m Any    \u001b[0m\u001b[90m Union… \u001b[0m\u001b[90m Any  \u001b[0m\u001b[90m Int64    \u001b[0m\u001b[90m DataType \u001b[0m\n",
       "─────┼────────────────────────────────────────────────────────────\n",
       "   1 │ id        499.5   0       499.5   999          0  Int64\n",
       "   2 │ Age       35.546  19      33.0    75           0  Int64\n",
       "   3 │ Sex      \u001b[90m        \u001b[0m female \u001b[90m        \u001b[0m male         0  String7"
      ]
     },
     "metadata": {},
     "output_type": "display_data"
    }
   ],
   "source": [
    "# To limit the columns processed by describe use cols keyword argument, e.g.:\n",
    "describe(german, cols=1:3)\n",
    "\n",
    "# The default statistics reported are mean, min, median, max, number of missing values, and element type of the column. missing values are skipped when computing the summary statistics."
   ]
  },
  {
   "cell_type": "code",
   "execution_count": 30,
   "metadata": {},
   "outputs": [
    {
     "name": "stdout",
     "output_type": "stream",
     "text": [
      "\u001b[1m1000×10 DataFrame\u001b[0m\n",
      "\u001b[1m  Row \u001b[0m│\u001b[1m id    \u001b[0m\u001b[1m Age   \u001b[0m\u001b[1m Sex     \u001b[0m\u001b[1m Job   \u001b[0m\u001b[1m Housing \u001b[0m\u001b[1m Saving accounts \u001b[0m\u001b[1m Checking account \u001b[0m\u001b[1m Credit amount \u001b[0m\u001b[1m Duration \u001b[0m\u001b[1m Purpose             \u001b[0m\n",
      "      │\u001b[90m Int64 \u001b[0m\u001b[90m Int64 \u001b[0m\u001b[90m String7 \u001b[0m\u001b[90m Int64 \u001b[0m\u001b[90m String7 \u001b[0m\u001b[90m String15        \u001b[0m\u001b[90m String15         \u001b[0m\u001b[90m Int64         \u001b[0m\u001b[90m Int64    \u001b[0m\u001b[90m String31            \u001b[0m\n",
      "──────┼────────────────────────────────────────────────────────────────────────────────────────────────────────────────────────\n",
      "    1 │     0     67  male         2  own      NA               little                     1169         6  radio/TV\n",
      "    2 │     1     22  female       2  own      little           moderate                   5951        48  radio/TV\n",
      "    3 │     2     49  male         1  own      little           NA                         2096        12  education\n",
      "    4 │     3     45  male         2  free     little           little                     7882        42  furniture/equipment\n",
      "    5 │     4     53  male         2  free     little           little                     4870        24  car\n",
      "    6 │     5     35  male         1  free     NA               NA                         9055        36  education\n",
      "    7 │     6     53  male         2  own      quite rich       NA                         2835        24  furniture/equipment\n",
      "    8 │     7     35  male         3  rent     little           moderate                   6948        36  car\n",
      "  ⋮   │   ⋮      ⋮       ⋮       ⋮       ⋮            ⋮                ⋮                ⋮           ⋮               ⋮\n",
      "  994 │   993     30  male         3  own      little           little                     3959        36  furniture/equipment\n",
      "  995 │   994     50  male         2  own      NA               NA                         2390        12  car\n",
      "  996 │   995     31  female       1  own      little           NA                         1736        12  furniture/equipment\n",
      "  997 │   996     40  male         3  own      little           little                     3857        30  car\n",
      "  998 │   997     38  male         2  own      little           NA                          804        12  radio/TV\n",
      "  999 │   998     23  male         2  free     little           little                     1845        45  radio/TV\n",
      " 1000 │   999     27  male         2  own      moderate         moderate                   4576        45  car\n",
      "\u001b[36m                                                                                                               985 rows omitted\u001b[0m"
     ]
    }
   ],
   "source": [
    "# You can adjust how data frame is displayed by calling the show function manually: show(german, allrows=true) prints all rows even if they do not fit on screen and show(german, allcols=true) does the same for columns, e.g.:\n",
    "show(german, allcols=true)"
   ]
  },
  {
   "cell_type": "code",
   "execution_count": 31,
   "metadata": {},
   "outputs": [
    {
     "data": {
      "text/plain": [
       "35.546"
      ]
     },
     "metadata": {},
     "output_type": "display_data"
    }
   ],
   "source": [
    "# It is easy to compute descriptive statistics directly on individual columns using the functions defined in the Statistics module:\n",
    "using Statistics\n",
    "mean(german.Age)"
   ]
  },
  {
   "cell_type": "code",
   "execution_count": 32,
   "metadata": {},
   "outputs": [
    {
     "data": {
      "text/html": [
       "<div><div style = \"float: left;\"><span>1000×10 DataFrame</span></div><div style = \"float: right;\"><span style = \"font-style: italic;\">975 rows omitted</span></div><div style = \"clear: both;\"></div></div><div class = \"data-frame\" style = \"overflow-x: scroll;\"><table class = \"data-frame\" style = \"margin-bottom: 6px;\"><thead><tr class = \"header\"><th class = \"rowNumber\" style = \"font-weight: bold; text-align: right;\">Row</th><th style = \"text-align: left;\">id</th><th style = \"text-align: left;\">Age</th><th style = \"text-align: left;\">Sex</th><th style = \"text-align: left;\">Job</th><th style = \"text-align: left;\">Housing</th><th style = \"text-align: left;\">Saving accounts</th><th style = \"text-align: left;\">Checking account</th><th style = \"text-align: left;\">Credit amount</th><th style = \"text-align: left;\">Duration</th><th style = \"text-align: left;\">Purpose</th></tr><tr class = \"subheader headerLastRow\"><th class = \"rowNumber\" style = \"font-weight: bold; text-align: right;\"></th><th title = \"Int64\" style = \"text-align: left;\">Int64</th><th title = \"Int64\" style = \"text-align: left;\">Int64</th><th title = \"String\" style = \"text-align: left;\">String</th><th title = \"Int64\" style = \"text-align: left;\">Int64</th><th title = \"String\" style = \"text-align: left;\">String</th><th title = \"String\" style = \"text-align: left;\">String</th><th title = \"String\" style = \"text-align: left;\">String</th><th title = \"Int64\" style = \"text-align: left;\">Int64</th><th title = \"Int64\" style = \"text-align: left;\">Int64</th><th title = \"String\" style = \"text-align: left;\">String</th></tr></thead><tbody><tr><td class = \"rowNumber\" style = \"font-weight: bold; text-align: right;\">1</td><td style = \"text-align: right;\">0</td><td style = \"text-align: right;\">4489</td><td style = \"text-align: left;\">malemale</td><td style = \"text-align: right;\">4</td><td style = \"text-align: left;\">ownown</td><td style = \"text-align: left;\">NANA</td><td style = \"text-align: left;\">littlelittle</td><td style = \"text-align: right;\">1366561</td><td style = \"text-align: right;\">36</td><td style = \"text-align: left;\">radio/TVradio/TV</td></tr><tr><td class = \"rowNumber\" style = \"font-weight: bold; text-align: right;\">2</td><td style = \"text-align: right;\">1</td><td style = \"text-align: right;\">484</td><td style = \"text-align: left;\">femalefemale</td><td style = \"text-align: right;\">4</td><td style = \"text-align: left;\">ownown</td><td style = \"text-align: left;\">littlelittle</td><td style = \"text-align: left;\">moderatemoderate</td><td style = \"text-align: right;\">35414401</td><td style = \"text-align: right;\">2304</td><td style = \"text-align: left;\">radio/TVradio/TV</td></tr><tr><td class = \"rowNumber\" style = \"font-weight: bold; text-align: right;\">3</td><td style = \"text-align: right;\">4</td><td style = \"text-align: right;\">2401</td><td style = \"text-align: left;\">malemale</td><td style = \"text-align: right;\">1</td><td style = \"text-align: left;\">ownown</td><td style = \"text-align: left;\">littlelittle</td><td style = \"text-align: left;\">NANA</td><td style = \"text-align: right;\">4393216</td><td style = \"text-align: right;\">144</td><td style = \"text-align: left;\">educationeducation</td></tr><tr><td class = \"rowNumber\" style = \"font-weight: bold; text-align: right;\">4</td><td style = \"text-align: right;\">9</td><td style = \"text-align: right;\">2025</td><td style = \"text-align: left;\">malemale</td><td style = \"text-align: right;\">4</td><td style = \"text-align: left;\">freefree</td><td style = \"text-align: left;\">littlelittle</td><td style = \"text-align: left;\">littlelittle</td><td style = \"text-align: right;\">62125924</td><td style = \"text-align: right;\">1764</td><td style = \"text-align: left;\">furniture/equipmentfurniture/equipment</td></tr><tr><td class = \"rowNumber\" style = \"font-weight: bold; text-align: right;\">5</td><td style = \"text-align: right;\">16</td><td style = \"text-align: right;\">2809</td><td style = \"text-align: left;\">malemale</td><td style = \"text-align: right;\">4</td><td style = \"text-align: left;\">freefree</td><td style = \"text-align: left;\">littlelittle</td><td style = \"text-align: left;\">littlelittle</td><td style = \"text-align: right;\">23716900</td><td style = \"text-align: right;\">576</td><td style = \"text-align: left;\">carcar</td></tr><tr><td class = \"rowNumber\" style = \"font-weight: bold; text-align: right;\">6</td><td style = \"text-align: right;\">25</td><td style = \"text-align: right;\">1225</td><td style = \"text-align: left;\">malemale</td><td style = \"text-align: right;\">1</td><td style = \"text-align: left;\">freefree</td><td style = \"text-align: left;\">NANA</td><td style = \"text-align: left;\">NANA</td><td style = \"text-align: right;\">81993025</td><td style = \"text-align: right;\">1296</td><td style = \"text-align: left;\">educationeducation</td></tr><tr><td class = \"rowNumber\" style = \"font-weight: bold; text-align: right;\">7</td><td style = \"text-align: right;\">36</td><td style = \"text-align: right;\">2809</td><td style = \"text-align: left;\">malemale</td><td style = \"text-align: right;\">4</td><td style = \"text-align: left;\">ownown</td><td style = \"text-align: left;\">quite richquite rich</td><td style = \"text-align: left;\">NANA</td><td style = \"text-align: right;\">8037225</td><td style = \"text-align: right;\">576</td><td style = \"text-align: left;\">furniture/equipmentfurniture/equipment</td></tr><tr><td class = \"rowNumber\" style = \"font-weight: bold; text-align: right;\">8</td><td style = \"text-align: right;\">49</td><td style = \"text-align: right;\">1225</td><td style = \"text-align: left;\">malemale</td><td style = \"text-align: right;\">9</td><td style = \"text-align: left;\">rentrent</td><td style = \"text-align: left;\">littlelittle</td><td style = \"text-align: left;\">moderatemoderate</td><td style = \"text-align: right;\">48274704</td><td style = \"text-align: right;\">1296</td><td style = \"text-align: left;\">carcar</td></tr><tr><td class = \"rowNumber\" style = \"font-weight: bold; text-align: right;\">9</td><td style = \"text-align: right;\">64</td><td style = \"text-align: right;\">3721</td><td style = \"text-align: left;\">malemale</td><td style = \"text-align: right;\">1</td><td style = \"text-align: left;\">ownown</td><td style = \"text-align: left;\">richrich</td><td style = \"text-align: left;\">NANA</td><td style = \"text-align: right;\">9357481</td><td style = \"text-align: right;\">144</td><td style = \"text-align: left;\">radio/TVradio/TV</td></tr><tr><td class = \"rowNumber\" style = \"font-weight: bold; text-align: right;\">10</td><td style = \"text-align: right;\">81</td><td style = \"text-align: right;\">784</td><td style = \"text-align: left;\">malemale</td><td style = \"text-align: right;\">9</td><td style = \"text-align: left;\">ownown</td><td style = \"text-align: left;\">littlelittle</td><td style = \"text-align: left;\">moderatemoderate</td><td style = \"text-align: right;\">27394756</td><td style = \"text-align: right;\">900</td><td style = \"text-align: left;\">carcar</td></tr><tr><td class = \"rowNumber\" style = \"font-weight: bold; text-align: right;\">11</td><td style = \"text-align: right;\">100</td><td style = \"text-align: right;\">625</td><td style = \"text-align: left;\">femalefemale</td><td style = \"text-align: right;\">4</td><td style = \"text-align: left;\">rentrent</td><td style = \"text-align: left;\">littlelittle</td><td style = \"text-align: left;\">moderatemoderate</td><td style = \"text-align: right;\">1677025</td><td style = \"text-align: right;\">144</td><td style = \"text-align: left;\">carcar</td></tr><tr><td class = \"rowNumber\" style = \"font-weight: bold; text-align: right;\">12</td><td style = \"text-align: right;\">121</td><td style = \"text-align: right;\">576</td><td style = \"text-align: left;\">femalefemale</td><td style = \"text-align: right;\">4</td><td style = \"text-align: left;\">rentrent</td><td style = \"text-align: left;\">littlelittle</td><td style = \"text-align: left;\">littlelittle</td><td style = \"text-align: right;\">18558864</td><td style = \"text-align: right;\">2304</td><td style = \"text-align: left;\">businessbusiness</td></tr><tr><td class = \"rowNumber\" style = \"font-weight: bold; text-align: right;\">13</td><td style = \"text-align: right;\">144</td><td style = \"text-align: right;\">484</td><td style = \"text-align: left;\">femalefemale</td><td style = \"text-align: right;\">4</td><td style = \"text-align: left;\">ownown</td><td style = \"text-align: left;\">littlelittle</td><td style = \"text-align: left;\">moderatemoderate</td><td style = \"text-align: right;\">2455489</td><td style = \"text-align: right;\">144</td><td style = \"text-align: left;\">radio/TVradio/TV</td></tr><tr><td style = \"text-align: right;\">&vellip;</td><td style = \"text-align: right;\">&vellip;</td><td style = \"text-align: right;\">&vellip;</td><td style = \"text-align: right;\">&vellip;</td><td style = \"text-align: right;\">&vellip;</td><td style = \"text-align: right;\">&vellip;</td><td style = \"text-align: right;\">&vellip;</td><td style = \"text-align: right;\">&vellip;</td><td style = \"text-align: right;\">&vellip;</td><td style = \"text-align: right;\">&vellip;</td><td style = \"text-align: right;\">&vellip;</td></tr><tr><td class = \"rowNumber\" style = \"font-weight: bold; text-align: right;\">989</td><td style = \"text-align: right;\">976144</td><td style = \"text-align: right;\">841</td><td style = \"text-align: left;\">malemale</td><td style = \"text-align: right;\">9</td><td style = \"text-align: left;\">freefree</td><td style = \"text-align: left;\">littlelittle</td><td style = \"text-align: left;\">littlelittle</td><td style = \"text-align: right;\">43283241</td><td style = \"text-align: right;\">576</td><td style = \"text-align: left;\">carcar</td></tr><tr><td class = \"rowNumber\" style = \"font-weight: bold; text-align: right;\">990</td><td style = \"text-align: right;\">978121</td><td style = \"text-align: right;\">2304</td><td style = \"text-align: left;\">malemale</td><td style = \"text-align: right;\">1</td><td style = \"text-align: left;\">ownown</td><td style = \"text-align: left;\">littlelittle</td><td style = \"text-align: left;\">moderatemoderate</td><td style = \"text-align: right;\">3038049</td><td style = \"text-align: right;\">576</td><td style = \"text-align: left;\">radio/TVradio/TV</td></tr><tr><td class = \"rowNumber\" style = \"font-weight: bold; text-align: right;\">991</td><td style = \"text-align: right;\">980100</td><td style = \"text-align: right;\">1369</td><td style = \"text-align: left;\">malemale</td><td style = \"text-align: right;\">1</td><td style = \"text-align: left;\">ownown</td><td style = \"text-align: left;\">NANA</td><td style = \"text-align: left;\">NANA</td><td style = \"text-align: right;\">12709225</td><td style = \"text-align: right;\">144</td><td style = \"text-align: left;\">educationeducation</td></tr><tr><td class = \"rowNumber\" style = \"font-weight: bold; text-align: right;\">992</td><td style = \"text-align: right;\">982081</td><td style = \"text-align: right;\">1156</td><td style = \"text-align: left;\">malemale</td><td style = \"text-align: right;\">1</td><td style = \"text-align: left;\">ownown</td><td style = \"text-align: left;\">moderatemoderate</td><td style = \"text-align: left;\">NANA</td><td style = \"text-align: right;\">2461761</td><td style = \"text-align: right;\">225</td><td style = \"text-align: left;\">radio/TVradio/TV</td></tr><tr><td class = \"rowNumber\" style = \"font-weight: bold; text-align: right;\">993</td><td style = \"text-align: right;\">984064</td><td style = \"text-align: right;\">529</td><td style = \"text-align: left;\">malemale</td><td style = \"text-align: right;\">1</td><td style = \"text-align: left;\">rentrent</td><td style = \"text-align: left;\">NANA</td><td style = \"text-align: left;\">littlelittle</td><td style = \"text-align: right;\">3748096</td><td style = \"text-align: right;\">324</td><td style = \"text-align: left;\">radio/TVradio/TV</td></tr><tr><td class = \"rowNumber\" style = \"font-weight: bold; text-align: right;\">994</td><td style = \"text-align: right;\">986049</td><td style = \"text-align: right;\">900</td><td style = \"text-align: left;\">malemale</td><td style = \"text-align: right;\">9</td><td style = \"text-align: left;\">ownown</td><td style = \"text-align: left;\">littlelittle</td><td style = \"text-align: left;\">littlelittle</td><td style = \"text-align: right;\">15673681</td><td style = \"text-align: right;\">1296</td><td style = \"text-align: left;\">furniture/equipmentfurniture/equipment</td></tr><tr><td class = \"rowNumber\" style = \"font-weight: bold; text-align: right;\">995</td><td style = \"text-align: right;\">988036</td><td style = \"text-align: right;\">2500</td><td style = \"text-align: left;\">malemale</td><td style = \"text-align: right;\">4</td><td style = \"text-align: left;\">ownown</td><td style = \"text-align: left;\">NANA</td><td style = \"text-align: left;\">NANA</td><td style = \"text-align: right;\">5712100</td><td style = \"text-align: right;\">144</td><td style = \"text-align: left;\">carcar</td></tr><tr><td class = \"rowNumber\" style = \"font-weight: bold; text-align: right;\">996</td><td style = \"text-align: right;\">990025</td><td style = \"text-align: right;\">961</td><td style = \"text-align: left;\">femalefemale</td><td style = \"text-align: right;\">1</td><td style = \"text-align: left;\">ownown</td><td style = \"text-align: left;\">littlelittle</td><td style = \"text-align: left;\">NANA</td><td style = \"text-align: right;\">3013696</td><td style = \"text-align: right;\">144</td><td style = \"text-align: left;\">furniture/equipmentfurniture/equipment</td></tr><tr><td class = \"rowNumber\" style = \"font-weight: bold; text-align: right;\">997</td><td style = \"text-align: right;\">992016</td><td style = \"text-align: right;\">1600</td><td style = \"text-align: left;\">malemale</td><td style = \"text-align: right;\">9</td><td style = \"text-align: left;\">ownown</td><td style = \"text-align: left;\">littlelittle</td><td style = \"text-align: left;\">littlelittle</td><td style = \"text-align: right;\">14876449</td><td style = \"text-align: right;\">900</td><td style = \"text-align: left;\">carcar</td></tr><tr><td class = \"rowNumber\" style = \"font-weight: bold; text-align: right;\">998</td><td style = \"text-align: right;\">994009</td><td style = \"text-align: right;\">1444</td><td style = \"text-align: left;\">malemale</td><td style = \"text-align: right;\">4</td><td style = \"text-align: left;\">ownown</td><td style = \"text-align: left;\">littlelittle</td><td style = \"text-align: left;\">NANA</td><td style = \"text-align: right;\">646416</td><td style = \"text-align: right;\">144</td><td style = \"text-align: left;\">radio/TVradio/TV</td></tr><tr><td class = \"rowNumber\" style = \"font-weight: bold; text-align: right;\">999</td><td style = \"text-align: right;\">996004</td><td style = \"text-align: right;\">529</td><td style = \"text-align: left;\">malemale</td><td style = \"text-align: right;\">4</td><td style = \"text-align: left;\">freefree</td><td style = \"text-align: left;\">littlelittle</td><td style = \"text-align: left;\">littlelittle</td><td style = \"text-align: right;\">3404025</td><td style = \"text-align: right;\">2025</td><td style = \"text-align: left;\">radio/TVradio/TV</td></tr><tr><td class = \"rowNumber\" style = \"font-weight: bold; text-align: right;\">1000</td><td style = \"text-align: right;\">998001</td><td style = \"text-align: right;\">729</td><td style = \"text-align: left;\">malemale</td><td style = \"text-align: right;\">4</td><td style = \"text-align: left;\">ownown</td><td style = \"text-align: left;\">moderatemoderate</td><td style = \"text-align: left;\">moderatemoderate</td><td style = \"text-align: right;\">20939776</td><td style = \"text-align: right;\">2025</td><td style = \"text-align: left;\">carcar</td></tr></tbody></table></div>"
      ],
      "text/latex": [
       "\\begin{tabular}{r|cccccccc}\n",
       "\t& id & Age & Sex & Job & Housing & Saving accounts & Checking account & \\\\\n",
       "\t\\hline\n",
       "\t& Int64 & Int64 & String & Int64 & String & String & String & \\\\\n",
       "\t\\hline\n",
       "\t1 & 0 & 4489 & malemale & 4 & ownown & NANA & littlelittle & $\\dots$ \\\\\n",
       "\t2 & 1 & 484 & femalefemale & 4 & ownown & littlelittle & moderatemoderate & $\\dots$ \\\\\n",
       "\t3 & 4 & 2401 & malemale & 1 & ownown & littlelittle & NANA & $\\dots$ \\\\\n",
       "\t4 & 9 & 2025 & malemale & 4 & freefree & littlelittle & littlelittle & $\\dots$ \\\\\n",
       "\t5 & 16 & 2809 & malemale & 4 & freefree & littlelittle & littlelittle & $\\dots$ \\\\\n",
       "\t6 & 25 & 1225 & malemale & 1 & freefree & NANA & NANA & $\\dots$ \\\\\n",
       "\t7 & 36 & 2809 & malemale & 4 & ownown & quite richquite rich & NANA & $\\dots$ \\\\\n",
       "\t8 & 49 & 1225 & malemale & 9 & rentrent & littlelittle & moderatemoderate & $\\dots$ \\\\\n",
       "\t9 & 64 & 3721 & malemale & 1 & ownown & richrich & NANA & $\\dots$ \\\\\n",
       "\t10 & 81 & 784 & malemale & 9 & ownown & littlelittle & moderatemoderate & $\\dots$ \\\\\n",
       "\t11 & 100 & 625 & femalefemale & 4 & rentrent & littlelittle & moderatemoderate & $\\dots$ \\\\\n",
       "\t12 & 121 & 576 & femalefemale & 4 & rentrent & littlelittle & littlelittle & $\\dots$ \\\\\n",
       "\t13 & 144 & 484 & femalefemale & 4 & ownown & littlelittle & moderatemoderate & $\\dots$ \\\\\n",
       "\t14 & 169 & 3600 & malemale & 1 & ownown & littlelittle & littlelittle & $\\dots$ \\\\\n",
       "\t15 & 196 & 784 & femalefemale & 4 & rentrent & littlelittle & littlelittle & $\\dots$ \\\\\n",
       "\t16 & 225 & 1024 & femalefemale & 1 & ownown & moderatemoderate & littlelittle & $\\dots$ \\\\\n",
       "\t17 & 256 & 2809 & malemale & 4 & ownown & NANA & NANA & $\\dots$ \\\\\n",
       "\t18 & 289 & 625 & malemale & 4 & ownown & NANA & littlelittle & $\\dots$ \\\\\n",
       "\t19 & 324 & 1936 & femalefemale & 9 & freefree & littlelittle & moderatemoderate & $\\dots$ \\\\\n",
       "\t20 & 361 & 961 & malemale & 4 & ownown & quite richquite rich & NANA & $\\dots$ \\\\\n",
       "\t21 & 400 & 2304 & malemale & 4 & ownown & littlelittle & NANA & $\\dots$ \\\\\n",
       "\t22 & 441 & 1936 & malemale & 4 & rentrent & quite richquite rich & littlelittle & $\\dots$ \\\\\n",
       "\t23 & 484 & 2304 & malemale & 1 & rentrent & littlelittle & littlelittle & $\\dots$ \\\\\n",
       "\t24 & 529 & 1936 & malemale & 4 & ownown & moderatemoderate & moderatemoderate & $\\dots$ \\\\\n",
       "\t$\\dots$ & $\\dots$ & $\\dots$ & $\\dots$ & $\\dots$ & $\\dots$ & $\\dots$ & $\\dots$ &  \\\\\n",
       "\\end{tabular}\n"
      ],
      "text/plain": [
       "\u001b[1m1000×10 DataFrame\u001b[0m\n",
       "\u001b[1m  Row \u001b[0m│\u001b[1m id     \u001b[0m\u001b[1m Age   \u001b[0m\u001b[1m Sex          \u001b[0m\u001b[1m Job   \u001b[0m\u001b[1m Housing  \u001b[0m\u001b[1m Saving accounts      \u001b[0m\u001b[1m Ch\u001b[0m ⋯\n",
       "      │\u001b[90m Int64  \u001b[0m\u001b[90m Int64 \u001b[0m\u001b[90m String       \u001b[0m\u001b[90m Int64 \u001b[0m\u001b[90m String   \u001b[0m\u001b[90m String               \u001b[0m\u001b[90m St\u001b[0m ⋯\n",
       "──────┼─────────────────────────────────────────────────────────────────────────\n",
       "    1 │      0   4489  malemale          4  ownown    NANA                  li ⋯\n",
       "    2 │      1    484  femalefemale      4  ownown    littlelittle          mo\n",
       "    3 │      4   2401  malemale          1  ownown    littlelittle          NA\n",
       "    4 │      9   2025  malemale          4  freefree  littlelittle          li\n",
       "    5 │     16   2809  malemale          4  freefree  littlelittle          li ⋯\n",
       "    6 │     25   1225  malemale          1  freefree  NANA                  NA\n",
       "    7 │     36   2809  malemale          4  ownown    quite richquite rich  NA\n",
       "    8 │     49   1225  malemale          9  rentrent  littlelittle          mo\n",
       "  ⋮   │   ⋮       ⋮         ⋮          ⋮       ⋮               ⋮               ⋱\n",
       "  994 │ 986049    900  malemale          9  ownown    littlelittle          li ⋯\n",
       "  995 │ 988036   2500  malemale          4  ownown    NANA                  NA\n",
       "  996 │ 990025    961  femalefemale      1  ownown    littlelittle          NA\n",
       "  997 │ 992016   1600  malemale          9  ownown    littlelittle          li\n",
       "  998 │ 994009   1444  malemale          4  ownown    littlelittle          NA ⋯\n",
       "  999 │ 996004    529  malemale          4  freefree  littlelittle          li\n",
       " 1000 │ 998001    729  malemale          4  ownown    moderatemoderate      mo\n",
       "\u001b[36m                                                  4 columns and 985 rows omitted\u001b[0m"
      ]
     },
     "metadata": {},
     "output_type": "display_data"
    }
   ],
   "source": [
    "# If instead we want to apply some function to all columns of a data frame we can use the mapcols function. It returns a DataFrame where each column of the source data frame is transformed using a function passed as a first argument. Note that mapcols guarantees not to reuse the columns from german in the returned DataFrame. If the transformation returns its argument then it gets copied before being stored.\n",
    "mapcols(id -> id .^ 2, german)"
   ]
  },
  {
   "cell_type": "code",
   "execution_count": 33,
   "metadata": {},
   "outputs": [
    {
     "data": {
      "text/html": [
       "<div><div style = \"float: left;\"><span>6×10 DataFrame</span></div><div style = \"clear: both;\"></div></div><div class = \"data-frame\" style = \"overflow-x: scroll;\"><table class = \"data-frame\" style = \"margin-bottom: 6px;\"><thead><tr class = \"header\"><th class = \"rowNumber\" style = \"font-weight: bold; text-align: right;\">Row</th><th style = \"text-align: left;\">id</th><th style = \"text-align: left;\">Age</th><th style = \"text-align: left;\">Sex</th><th style = \"text-align: left;\">Job</th><th style = \"text-align: left;\">Housing</th><th style = \"text-align: left;\">Saving accounts</th><th style = \"text-align: left;\">Checking account</th><th style = \"text-align: left;\">Credit amount</th><th style = \"text-align: left;\">Duration</th><th style = \"text-align: left;\">Purpose</th></tr><tr class = \"subheader headerLastRow\"><th class = \"rowNumber\" style = \"font-weight: bold; text-align: right;\"></th><th title = \"Int64\" style = \"text-align: left;\">Int64</th><th title = \"Int64\" style = \"text-align: left;\">Int64</th><th title = \"String7\" style = \"text-align: left;\">String7</th><th title = \"Int64\" style = \"text-align: left;\">Int64</th><th title = \"String7\" style = \"text-align: left;\">String7</th><th title = \"String15\" style = \"text-align: left;\">String15</th><th title = \"String15\" style = \"text-align: left;\">String15</th><th title = \"Int64\" style = \"text-align: left;\">Int64</th><th title = \"Int64\" style = \"text-align: left;\">Int64</th><th title = \"String31\" style = \"text-align: left;\">String31</th></tr></thead><tbody><tr><td class = \"rowNumber\" style = \"font-weight: bold; text-align: right;\">1</td><td style = \"text-align: right;\">0</td><td style = \"text-align: right;\">67</td><td style = \"text-align: left;\">male</td><td style = \"text-align: right;\">2</td><td style = \"text-align: left;\">own</td><td style = \"text-align: left;\">NA</td><td style = \"text-align: left;\">little</td><td style = \"text-align: right;\">1169</td><td style = \"text-align: right;\">6</td><td style = \"text-align: left;\">radio/TV</td></tr><tr><td class = \"rowNumber\" style = \"font-weight: bold; text-align: right;\">2</td><td style = \"text-align: right;\">1</td><td style = \"text-align: right;\">22</td><td style = \"text-align: left;\">female</td><td style = \"text-align: right;\">2</td><td style = \"text-align: left;\">own</td><td style = \"text-align: left;\">little</td><td style = \"text-align: left;\">moderate</td><td style = \"text-align: right;\">5951</td><td style = \"text-align: right;\">48</td><td style = \"text-align: left;\">radio/TV</td></tr><tr><td class = \"rowNumber\" style = \"font-weight: bold; text-align: right;\">3</td><td style = \"text-align: right;\">2</td><td style = \"text-align: right;\">49</td><td style = \"text-align: left;\">male</td><td style = \"text-align: right;\">1</td><td style = \"text-align: left;\">own</td><td style = \"text-align: left;\">little</td><td style = \"text-align: left;\">NA</td><td style = \"text-align: right;\">2096</td><td style = \"text-align: right;\">12</td><td style = \"text-align: left;\">education</td></tr><tr><td class = \"rowNumber\" style = \"font-weight: bold; text-align: right;\">4</td><td style = \"text-align: right;\">3</td><td style = \"text-align: right;\">45</td><td style = \"text-align: left;\">male</td><td style = \"text-align: right;\">2</td><td style = \"text-align: left;\">free</td><td style = \"text-align: left;\">little</td><td style = \"text-align: left;\">little</td><td style = \"text-align: right;\">7882</td><td style = \"text-align: right;\">42</td><td style = \"text-align: left;\">furniture/equipment</td></tr><tr><td class = \"rowNumber\" style = \"font-weight: bold; text-align: right;\">5</td><td style = \"text-align: right;\">4</td><td style = \"text-align: right;\">53</td><td style = \"text-align: left;\">male</td><td style = \"text-align: right;\">2</td><td style = \"text-align: left;\">free</td><td style = \"text-align: left;\">little</td><td style = \"text-align: left;\">little</td><td style = \"text-align: right;\">4870</td><td style = \"text-align: right;\">24</td><td style = \"text-align: left;\">car</td></tr><tr><td class = \"rowNumber\" style = \"font-weight: bold; text-align: right;\">6</td><td style = \"text-align: right;\">5</td><td style = \"text-align: right;\">35</td><td style = \"text-align: left;\">male</td><td style = \"text-align: right;\">1</td><td style = \"text-align: left;\">free</td><td style = \"text-align: left;\">NA</td><td style = \"text-align: left;\">NA</td><td style = \"text-align: right;\">9055</td><td style = \"text-align: right;\">36</td><td style = \"text-align: left;\">education</td></tr></tbody></table></div>"
      ],
      "text/latex": [
       "\\begin{tabular}{r|ccccccccc}\n",
       "\t& id & Age & Sex & Job & Housing & Saving accounts & Checking account & Credit amount & \\\\\n",
       "\t\\hline\n",
       "\t& Int64 & Int64 & String7 & Int64 & String7 & String15 & String15 & Int64 & \\\\\n",
       "\t\\hline\n",
       "\t1 & 0 & 67 & male & 2 & own & NA & little & 1169 & $\\dots$ \\\\\n",
       "\t2 & 1 & 22 & female & 2 & own & little & moderate & 5951 & $\\dots$ \\\\\n",
       "\t3 & 2 & 49 & male & 1 & own & little & NA & 2096 & $\\dots$ \\\\\n",
       "\t4 & 3 & 45 & male & 2 & free & little & little & 7882 & $\\dots$ \\\\\n",
       "\t5 & 4 & 53 & male & 2 & free & little & little & 4870 & $\\dots$ \\\\\n",
       "\t6 & 5 & 35 & male & 1 & free & NA & NA & 9055 & $\\dots$ \\\\\n",
       "\\end{tabular}\n"
      ],
      "text/plain": [
       "\u001b[1m6×10 DataFrame\u001b[0m\n",
       "\u001b[1m Row \u001b[0m│\u001b[1m id    \u001b[0m\u001b[1m Age   \u001b[0m\u001b[1m Sex     \u001b[0m\u001b[1m Job   \u001b[0m\u001b[1m Housing \u001b[0m\u001b[1m Saving accounts \u001b[0m\u001b[1m Checking accoun\u001b[0m ⋯\n",
       "     │\u001b[90m Int64 \u001b[0m\u001b[90m Int64 \u001b[0m\u001b[90m String7 \u001b[0m\u001b[90m Int64 \u001b[0m\u001b[90m String7 \u001b[0m\u001b[90m String15        \u001b[0m\u001b[90m String15       \u001b[0m ⋯\n",
       "─────┼──────────────────────────────────────────────────────────────────────────\n",
       "   1 │     0     67  male         2  own      NA               little          ⋯\n",
       "   2 │     1     22  female       2  own      little           moderate\n",
       "   3 │     2     49  male         1  own      little           NA\n",
       "   4 │     3     45  male         2  free     little           little\n",
       "   5 │     4     53  male         2  free     little           little          ⋯\n",
       "   6 │     5     35  male         1  free     NA               NA\n",
       "\u001b[36m                                                               4 columns omitted\u001b[0m"
      ]
     },
     "metadata": {},
     "output_type": "display_data"
    }
   ],
   "source": [
    "# If you want to look at first and last rows of a data frame then you can do this using the first and last functions respectively:\n",
    "first(german, 6)\n",
    "# last(german, 5)"
   ]
  },
  {
   "attachments": {},
   "cell_type": "markdown",
   "metadata": {},
   "source": [
    "## Getting and Setting Data in a Data Frame"
   ]
  },
  {
   "attachments": {},
   "cell_type": "markdown",
   "metadata": {},
   "source": [
    "### Indexing Syntax"
   ]
  },
  {
   "cell_type": "code",
   "execution_count": 34,
   "metadata": {},
   "outputs": [
    {
     "data": {
      "text/html": [
       "<div><div style = \"float: left;\"><span>5×2 DataFrame</span></div><div style = \"clear: both;\"></div></div><div class = \"data-frame\" style = \"overflow-x: scroll;\"><table class = \"data-frame\" style = \"margin-bottom: 6px;\"><thead><tr class = \"header\"><th class = \"rowNumber\" style = \"font-weight: bold; text-align: right;\">Row</th><th style = \"text-align: left;\">Sex</th><th style = \"text-align: left;\">Age</th></tr><tr class = \"subheader headerLastRow\"><th class = \"rowNumber\" style = \"font-weight: bold; text-align: right;\"></th><th title = \"String7\" style = \"text-align: left;\">String7</th><th title = \"Int64\" style = \"text-align: left;\">Int64</th></tr></thead><tbody><tr><td class = \"rowNumber\" style = \"font-weight: bold; text-align: right;\">1</td><td style = \"text-align: left;\">male</td><td style = \"text-align: right;\">67</td></tr><tr><td class = \"rowNumber\" style = \"font-weight: bold; text-align: right;\">2</td><td style = \"text-align: left;\">female</td><td style = \"text-align: right;\">22</td></tr><tr><td class = \"rowNumber\" style = \"font-weight: bold; text-align: right;\">3</td><td style = \"text-align: left;\">male</td><td style = \"text-align: right;\">49</td></tr><tr><td class = \"rowNumber\" style = \"font-weight: bold; text-align: right;\">4</td><td style = \"text-align: left;\">male</td><td style = \"text-align: right;\">45</td></tr><tr><td class = \"rowNumber\" style = \"font-weight: bold; text-align: right;\">5</td><td style = \"text-align: left;\">male</td><td style = \"text-align: right;\">53</td></tr></tbody></table></div>"
      ],
      "text/latex": [
       "\\begin{tabular}{r|cc}\n",
       "\t& Sex & Age\\\\\n",
       "\t\\hline\n",
       "\t& String7 & Int64\\\\\n",
       "\t\\hline\n",
       "\t1 & male & 67 \\\\\n",
       "\t2 & female & 22 \\\\\n",
       "\t3 & male & 49 \\\\\n",
       "\t4 & male & 45 \\\\\n",
       "\t5 & male & 53 \\\\\n",
       "\\end{tabular}\n"
      ],
      "text/plain": [
       "\u001b[1m5×2 DataFrame\u001b[0m\n",
       "\u001b[1m Row \u001b[0m│\u001b[1m Sex     \u001b[0m\u001b[1m Age   \u001b[0m\n",
       "     │\u001b[90m String7 \u001b[0m\u001b[90m Int64 \u001b[0m\n",
       "─────┼────────────────\n",
       "   1 │ male        67\n",
       "   2 │ female      22\n",
       "   3 │ male        49\n",
       "   4 │ male        45\n",
       "   5 │ male        53"
      ]
     },
     "metadata": {},
     "output_type": "display_data"
    }
   ],
   "source": [
    "# The general syntax for indexing is data_frame[selected_rows, selected_columns]. Observe that, as opposed to matrices in Julia Base, it is required to always pass both row and column selector. The colon : indicates that all items (rows or columns depending on its position) should be retained. Here are a few examples:\n",
    "german[1:5, [:Sex, :Age]]\n",
    "german[1:5, :]\n"
   ]
  },
  {
   "attachments": {},
   "cell_type": "markdown",
   "metadata": {},
   "source": [
    "# testing"
   ]
  },
  {
   "cell_type": "code",
   "execution_count": 1,
   "metadata": {},
   "outputs": [
    {
     "data": {
      "text/plain": [
       "fizzbuzz (generic function with 1 method)"
      ]
     },
     "metadata": {},
     "output_type": "display_data"
    }
   ],
   "source": [
    "function fizzbuzz(n)\n",
    "    for i in 1:n\n",
    "        if rem(i,15) ==0\n",
    "            println(\"fizzbuzz\")\n",
    "        elseif rem(i,3) ==0\n",
    "            println(\"fizz\")\n",
    "        elseif rem(i,5) ==0\n",
    "            println(\"buzz\")\n",
    "        else\n",
    "            println(i)\n",
    "        end\n",
    "    end    \n",
    "end"
   ]
  },
  {
   "cell_type": "code",
   "execution_count": 2,
   "metadata": {},
   "outputs": [
    {
     "name": "stdout",
     "output_type": "stream",
     "text": [
      "1\n",
      "2\n",
      "fizz\n",
      "4\n",
      "buzz\n",
      "fizz\n",
      "7\n",
      "8\n",
      "fizz\n",
      "buzz\n",
      "11\n",
      "fizz\n",
      "13\n",
      "14\n",
      "fizzbuzz\n",
      "16\n",
      "17\n",
      "fizz\n",
      "19\n",
      "buzz\n"
     ]
    }
   ],
   "source": [
    "fizzbuzz(20)"
   ]
  },
  {
   "cell_type": "code",
   "execution_count": 7,
   "metadata": {},
   "outputs": [
    {
     "name": "stdout",
     "output_type": "stream",
     "text": [
      "Hello, human\n"
     ]
    }
   ],
   "source": [
    "macro sayhello(name)\n",
    "    return :( println(\"Hello, \", $name) )\n",
    "end\n",
    "@sayhello(\"human\")"
   ]
  },
  {
   "cell_type": "code",
   "execution_count": 6,
   "metadata": {},
   "outputs": [
    {
     "ename": "LoadError",
     "evalue": "LoadError: UndefVarError: @transform not defined\nin expression starting at d:\\Software\\Portableapp\\Git\\GitRepos\\Julia_code\\the simple of beginning.ipynb:7",
     "output_type": "error",
     "traceback": [
      "LoadError: UndefVarError: @transform not defined\n",
      "in expression starting at d:\\Software\\Portableapp\\Git\\GitRepos\\Julia_code\\the simple of beginning.ipynb:7\n"
     ]
    }
   ],
   "source": [
    "df = DataFrame(a = [1, 2], b = [3, 4]);\n",
    "\n",
    "# With DataFrames\n",
    "transform(df, [:a, :b] => ((a, b) -> a .* b .+ first(a) .- sum(b)) => :c);\n",
    "\n",
    "# With DataFramesMeta\n",
    "@transform(df, :c = :a .* :b .+ first(:a) .- sum(:b))"
   ]
  },
  {
   "cell_type": "code",
   "execution_count": 21,
   "metadata": {},
   "outputs": [
    {
     "data": {
      "text/html": [
       "<div><div style = \"float: left;\"><span>5×3 DataFrame</span></div><div style = \"clear: both;\"></div></div><div class = \"data-frame\" style = \"overflow-x: scroll;\"><table class = \"data-frame\" style = \"margin-bottom: 6px;\"><thead><tr class = \"header\"><th class = \"rowNumber\" style = \"font-weight: bold; text-align: right;\">Row</th><th style = \"text-align: left;\">A</th><th style = \"text-align: left;\">B</th><th style = \"text-align: left;\">C</th></tr><tr class = \"subheader headerLastRow\"><th class = \"rowNumber\" style = \"font-weight: bold; text-align: right;\"></th><th title = \"Int64\" style = \"text-align: left;\">Int64</th><th title = \"Int64\" style = \"text-align: left;\">Int64</th><th title = \"Int64\" style = \"text-align: left;\">Int64</th></tr></thead><tbody><tr><td class = \"rowNumber\" style = \"font-weight: bold; text-align: right;\">1</td><td style = \"text-align: right;\">1</td><td style = \"text-align: right;\">6</td><td style = \"text-align: right;\">11</td></tr><tr><td class = \"rowNumber\" style = \"font-weight: bold; text-align: right;\">2</td><td style = \"text-align: right;\">2</td><td style = \"text-align: right;\">7</td><td style = \"text-align: right;\">12</td></tr><tr><td class = \"rowNumber\" style = \"font-weight: bold; text-align: right;\">3</td><td style = \"text-align: right;\">3</td><td style = \"text-align: right;\">8</td><td style = \"text-align: right;\">13</td></tr><tr><td class = \"rowNumber\" style = \"font-weight: bold; text-align: right;\">4</td><td style = \"text-align: right;\">4</td><td style = \"text-align: right;\">9</td><td style = \"text-align: right;\">14</td></tr><tr><td class = \"rowNumber\" style = \"font-weight: bold; text-align: right;\">5</td><td style = \"text-align: right;\">5</td><td style = \"text-align: right;\">10</td><td style = \"text-align: right;\">15</td></tr></tbody></table></div>"
      ],
      "text/latex": [
       "\\begin{tabular}{r|ccc}\n",
       "\t& A & B & C\\\\\n",
       "\t\\hline\n",
       "\t& Int64 & Int64 & Int64\\\\\n",
       "\t\\hline\n",
       "\t1 & 1 & 6 & 11 \\\\\n",
       "\t2 & 2 & 7 & 12 \\\\\n",
       "\t3 & 3 & 8 & 13 \\\\\n",
       "\t4 & 4 & 9 & 14 \\\\\n",
       "\t5 & 5 & 10 & 15 \\\\\n",
       "\\end{tabular}\n"
      ],
      "text/plain": [
       "\u001b[1m5×3 DataFrame\u001b[0m\n",
       "\u001b[1m Row \u001b[0m│\u001b[1m A     \u001b[0m\u001b[1m B     \u001b[0m\u001b[1m C     \u001b[0m\n",
       "     │\u001b[90m Int64 \u001b[0m\u001b[90m Int64 \u001b[0m\u001b[90m Int64 \u001b[0m\n",
       "─────┼─────────────────────\n",
       "   1 │     1      6     11\n",
       "   2 │     2      7     12\n",
       "   3 │     3      8     13\n",
       "   4 │     4      9     14\n",
       "   5 │     5     10     15"
      ]
     },
     "metadata": {},
     "output_type": "display_data"
    }
   ],
   "source": [
    "using DataFrames\n",
    "df = DataFrame(A = 1:5, B = 6:10, C= 11:15)"
   ]
  },
  {
   "cell_type": "code",
   "execution_count": 22,
   "metadata": {},
   "outputs": [
    {
     "data": {
      "text/html": [
       "<div><div style = \"float: left;\"><span>5×4 DataFrame</span></div><div style = \"clear: both;\"></div></div><div class = \"data-frame\" style = \"overflow-x: scroll;\"><table class = \"data-frame\" style = \"margin-bottom: 6px;\"><thead><tr class = \"header\"><th class = \"rowNumber\" style = \"font-weight: bold; text-align: right;\">Row</th><th style = \"text-align: left;\">A</th><th style = \"text-align: left;\">B</th><th style = \"text-align: left;\">C</th><th style = \"text-align: left;\">A_B_function</th></tr><tr class = \"subheader headerLastRow\"><th class = \"rowNumber\" style = \"font-weight: bold; text-align: right;\"></th><th title = \"Int64\" style = \"text-align: left;\">Int64</th><th title = \"Int64\" style = \"text-align: left;\">Int64</th><th title = \"Int64\" style = \"text-align: left;\">Int64</th><th title = \"Int64\" style = \"text-align: left;\">Int64</th></tr></thead><tbody><tr><td class = \"rowNumber\" style = \"font-weight: bold; text-align: right;\">1</td><td style = \"text-align: right;\">1</td><td style = \"text-align: right;\">6</td><td style = \"text-align: right;\">11</td><td style = \"text-align: right;\">12</td></tr><tr><td class = \"rowNumber\" style = \"font-weight: bold; text-align: right;\">2</td><td style = \"text-align: right;\">2</td><td style = \"text-align: right;\">7</td><td style = \"text-align: right;\">12</td><td style = \"text-align: right;\">14</td></tr><tr><td class = \"rowNumber\" style = \"font-weight: bold; text-align: right;\">3</td><td style = \"text-align: right;\">3</td><td style = \"text-align: right;\">8</td><td style = \"text-align: right;\">13</td><td style = \"text-align: right;\">3</td></tr><tr><td class = \"rowNumber\" style = \"font-weight: bold; text-align: right;\">4</td><td style = \"text-align: right;\">4</td><td style = \"text-align: right;\">9</td><td style = \"text-align: right;\">14</td><td style = \"text-align: right;\">4</td></tr><tr><td class = \"rowNumber\" style = \"font-weight: bold; text-align: right;\">5</td><td style = \"text-align: right;\">5</td><td style = \"text-align: right;\">10</td><td style = \"text-align: right;\">15</td><td style = \"text-align: right;\">5</td></tr></tbody></table></div>"
      ],
      "text/latex": [
       "\\begin{tabular}{r|cccc}\n",
       "\t& A & B & C & A\\_B\\_function\\\\\n",
       "\t\\hline\n",
       "\t& Int64 & Int64 & Int64 & Int64\\\\\n",
       "\t\\hline\n",
       "\t1 & 1 & 6 & 11 & 12 \\\\\n",
       "\t2 & 2 & 7 & 12 & 14 \\\\\n",
       "\t3 & 3 & 8 & 13 & 3 \\\\\n",
       "\t4 & 4 & 9 & 14 & 4 \\\\\n",
       "\t5 & 5 & 10 & 15 & 5 \\\\\n",
       "\\end{tabular}\n"
      ],
      "text/plain": [
       "\u001b[1m5×4 DataFrame\u001b[0m\n",
       "\u001b[1m Row \u001b[0m│\u001b[1m A     \u001b[0m\u001b[1m B     \u001b[0m\u001b[1m C     \u001b[0m\u001b[1m A_B_function \u001b[0m\n",
       "     │\u001b[90m Int64 \u001b[0m\u001b[90m Int64 \u001b[0m\u001b[90m Int64 \u001b[0m\u001b[90m Int64        \u001b[0m\n",
       "─────┼───────────────────────────────────\n",
       "   1 │     1      6     11            12\n",
       "   2 │     2      7     12            14\n",
       "   3 │     3      8     13             3\n",
       "   4 │     4      9     14             4\n",
       "   5 │     5     10     15             5"
      ]
     },
     "metadata": {},
     "output_type": "display_data"
    }
   ],
   "source": [
    "transform!(df, [:A, :B] => ByRow((a, b) -> a < 3 ? b * 2 : a))"
   ]
  }
 ],
 "metadata": {
  "kernelspec": {
   "display_name": "Julia 1.8.1",
   "language": "julia",
   "name": "julia-1.8"
  },
  "language_info": {
   "file_extension": ".jl",
   "mimetype": "application/julia",
   "name": "julia",
   "version": "1.8.1"
  },
  "orig_nbformat": 4
 },
 "nbformat": 4,
 "nbformat_minor": 2
}
