{
 "cells": [
  {
   "cell_type": "code",
   "execution_count": null,
   "metadata": {},
   "outputs": [
    {
     "ename": "",
     "evalue": "",
     "output_type": "error",
     "traceback": [
      "\u001b[1;31mFailed to start the Kernel. \n",
      "\u001b[1;31mUnable to start Kernel 'Julia 1.8.1' due to connection timeout. \n",
      "\u001b[1;31mView Jupyter <a href='command:jupyter.viewOutput'>log</a> for further details."
     ]
    }
   ],
   "source": [
    "function fizzbuzz(n)\n",
    "    for i in 1:n\n",
    "        if rem(i,15) ==0\n",
    "            println(\"fizzbuzz\")\n",
    "        elseif rem(i,3) ==0\n",
    "            println(\"fizz\")\n",
    "        elseif rem(i,5) ==0\n",
    "            println(\"buzz\")\n",
    "        else\n",
    "            println(i)\n",
    "        end\n",
    "    end    \n",
    "end"
   ]
  },
  {
   "cell_type": "code",
   "execution_count": 7,
   "metadata": {},
   "outputs": [
    {
     "name": "stdout",
     "output_type": "stream",
     "text": [
      "1\n",
      "2\n",
      "fizz\n",
      "4\n",
      "buzz\n",
      "fizz\n",
      "7\n",
      "8\n",
      "fizz\n",
      "buzz\n",
      "11\n",
      "fizz\n",
      "13\n",
      "14\n",
      "fizzbuzz\n",
      "16\n",
      "17\n",
      "fizz\n",
      "19\n",
      "buzz\n"
     ]
    }
   ],
   "source": [
    "fizzbuzz(20)"
   ]
  },
  {
   "cell_type": "code",
   "execution_count": 9,
   "metadata": {},
   "outputs": [
    {
     "ename": "UndefVarError",
     "evalue": "UndefVarError: Servable not defined",
     "output_type": "error",
     "traceback": [
      "UndefVarError: Servable not defined\n",
      "\n",
      "Stacktrace:\n",
      " [1] top-level scope\n",
      "   @ d:\\Software\\Portableapp\\Git\\GitRepos\\Julia_code\\the simple of beginning.ipynb:3"
     ]
    }
   ],
   "source": [
    "import Base: show\n",
    "\n",
    "show(io::IO, m::MIME\"text/html\", s::Servable) = begin\n",
    "    sc = Toolips.SpoofConnection()\n",
    "    write!(sc, s)\n",
    "    show(io, sc.http.text)\n",
    "end"
   ]
  }
 ],
 "metadata": {
  "kernelspec": {
   "display_name": "Julia 1.8.1",
   "language": "julia",
   "name": "julia-1.8"
  },
  "language_info": {
   "file_extension": ".jl",
   "mimetype": "application/julia",
   "name": "julia",
   "version": "1.8.1"
  },
  "orig_nbformat": 4
 },
 "nbformat": 4,
 "nbformat_minor": 2
}
