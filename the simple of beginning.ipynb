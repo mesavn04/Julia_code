{
 "cells": [
  {
   "attachments": {},
   "cell_type": "markdown",
   "metadata": {},
   "source": [
    "# first steps with dataframes"
   ]
  },
  {
   "cell_type": "code",
   "execution_count": null,
   "metadata": {},
   "outputs": [],
   "source": []
  },
  {
   "attachments": {},
   "cell_type": "markdown",
   "metadata": {},
   "source": [
    "# testing"
   ]
  },
  {
   "cell_type": "code",
   "execution_count": 1,
   "metadata": {},
   "outputs": [
    {
     "data": {
      "text/plain": [
       "fizzbuzz (generic function with 1 method)"
      ]
     },
     "metadata": {},
     "output_type": "display_data"
    }
   ],
   "source": [
    "function fizzbuzz(n)\n",
    "    for i in 1:n\n",
    "        if rem(i,15) ==0\n",
    "            println(\"fizzbuzz\")\n",
    "        elseif rem(i,3) ==0\n",
    "            println(\"fizz\")\n",
    "        elseif rem(i,5) ==0\n",
    "            println(\"buzz\")\n",
    "        else\n",
    "            println(i)\n",
    "        end\n",
    "    end    \n",
    "end"
   ]
  },
  {
   "cell_type": "code",
   "execution_count": 2,
   "metadata": {},
   "outputs": [
    {
     "name": "stdout",
     "output_type": "stream",
     "text": [
      "1\n",
      "2\n",
      "fizz\n",
      "4\n",
      "buzz\n",
      "fizz\n",
      "7\n",
      "8\n",
      "fizz\n",
      "buzz\n",
      "11\n",
      "fizz\n",
      "13\n",
      "14\n",
      "fizzbuzz\n",
      "16\n",
      "17\n",
      "fizz\n",
      "19\n",
      "buzz\n"
     ]
    }
   ],
   "source": [
    "fizzbuzz(20)"
   ]
  },
  {
   "cell_type": "code",
   "execution_count": 7,
   "metadata": {},
   "outputs": [
    {
     "name": "stdout",
     "output_type": "stream",
     "text": [
      "Hello, human\n"
     ]
    }
   ],
   "source": [
    "macro sayhello(name)\n",
    "    return :( println(\"Hello, \", $name) )\n",
    "end\n",
    "@sayhello(\"human\")"
   ]
  },
  {
   "cell_type": "code",
   "execution_count": 6,
   "metadata": {},
   "outputs": [
    {
     "ename": "LoadError",
     "evalue": "LoadError: UndefVarError: @transform not defined\nin expression starting at d:\\Software\\Portableapp\\Git\\GitRepos\\Julia_code\\the simple of beginning.ipynb:7",
     "output_type": "error",
     "traceback": [
      "LoadError: UndefVarError: @transform not defined\n",
      "in expression starting at d:\\Software\\Portableapp\\Git\\GitRepos\\Julia_code\\the simple of beginning.ipynb:7\n"
     ]
    }
   ],
   "source": [
    "df = DataFrame(a = [1, 2], b = [3, 4]);\n",
    "\n",
    "# With DataFrames\n",
    "transform(df, [:a, :b] => ((a, b) -> a .* b .+ first(a) .- sum(b)) => :c);\n",
    "\n",
    "# With DataFramesMeta\n",
    "@transform(df, :c = :a .* :b .+ first(:a) .- sum(:b))"
   ]
  }
 ],
 "metadata": {
  "kernelspec": {
   "display_name": "Julia 1.8.1",
   "language": "julia",
   "name": "julia-1.8"
  },
  "language_info": {
   "file_extension": ".jl",
   "mimetype": "application/julia",
   "name": "julia",
   "version": "1.8.1"
  },
  "orig_nbformat": 4
 },
 "nbformat": 4,
 "nbformat_minor": 2
}
