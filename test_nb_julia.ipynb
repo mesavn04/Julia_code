{
 "cells": [
  {
   "attachments": {},
   "cell_type": "markdown",
   "metadata": {},
   "source": [
    "# setup"
   ]
  },
  {
   "cell_type": "code",
   "execution_count": 6,
   "metadata": {},
   "outputs": [
    {
     "name": "stderr",
     "output_type": "stream",
     "text": [
      "\u001b[32m\u001b[1m   Resolving\u001b[22m\u001b[39m package versions...\n",
      "\u001b[32m\u001b[1m  No Changes\u001b[22m\u001b[39m to `D:\\Software\\Portableapp\\JuliaPort\\userdata\\.julia\\environments\\v1.8\\Project.toml`\n"
     ]
    },
    {
     "name": "stderr",
     "output_type": "stream",
     "text": [
      "\u001b[32m\u001b[1m  No Changes\u001b[22m\u001b[39m to `D:\\Software\\Portableapp\\JuliaPort\\userdata\\.julia\\environments\\v1.8\\Manifest.toml`"
     ]
    },
    {
     "name": "stderr",
     "output_type": "stream",
     "text": [
      "\n"
     ]
    }
   ],
   "source": [
    "using Pkg\n",
    "Pkg.add(\"Pandas\")"
   ]
  },
  {
   "attachments": {},
   "cell_type": "markdown",
   "metadata": {},
   "source": [
    "# read csv file"
   ]
  },
  {
   "cell_type": "code",
   "execution_count": 11,
   "metadata": {},
   "outputs": [
    {
     "name": "stdout",
     "output_type": "stream",
     "text": [
      "          Age  Salary RESIDENCE\n",
      "Name                           \n",
      "AKANKSHA   42  540000     DELHI\n",
      "TANYA      44  650000     DELHI\n",
      "PREETIKA   22  900000        UP\n",
      "VRINDA     81  770000   HARYANA\n",
      "JAHNVI     93  850000        UP\n"
     ]
    }
   ],
   "source": [
    "# read myfile.csv file\n",
    "using Pandas\n",
    "import Pandas as pd\n",
    "df = pd.read_csv(\"D:/Software/Portableapp/Git/GitRepos/Julia_code/myfile.csv\", index_col=0)\n",
    "print(df)"
   ]
  },
  {
   "cell_type": "code",
   "execution_count": 14,
   "metadata": {},
   "outputs": [
    {
     "ename": "PyCall.PyError",
     "evalue": "PyError ($(Expr(:escape, :(ccall(#= C:\\Users\\vuongns\\.julia\\packages\\PyCall\\ygXW2\\src\\pyfncall.jl:43 =# @pysym(:PyObject_Call), PyPtr, (PyPtr, PyPtr, PyPtr), o, pyargsptr, kw))))) <class 'TypeError'>\nTypeError(\"DataFrame.__init__() got an unexpected keyword argument 'RESIDENCE'\")\n",
     "output_type": "error",
     "traceback": [
      "PyError ($(Expr(:escape, :(ccall(#= C:\\Users\\vuongns\\.julia\\packages\\PyCall\\ygXW2\\src\\pyfncall.jl:43 =# @pysym(:PyObject_Call), PyPtr, (PyPtr, PyPtr, PyPtr), o, pyargsptr, kw))))) <class 'TypeError'>\n",
      "TypeError(\"DataFrame.__init__() got an unexpected keyword argument 'RESIDENCE'\")\n",
      "\n",
      "\n",
      "Stacktrace:\n",
      "  [1] pyerr_check\n",
      "    @ C:\\Users\\vuongns\\.julia\\packages\\PyCall\\ygXW2\\src\\exception.jl:62 [inlined]\n",
      "  [2] pyerr_check\n",
      "    @ C:\\Users\\vuongns\\.julia\\packages\\PyCall\\ygXW2\\src\\exception.jl:66 [inlined]\n",
      "  [3] _handle_error(msg::String)\n",
      "    @ PyCall C:\\Users\\vuongns\\.julia\\packages\\PyCall\\ygXW2\\src\\exception.jl:83\n",
      "  [4] macro expansion\n",
      "    @ C:\\Users\\vuongns\\.julia\\packages\\PyCall\\ygXW2\\src\\exception.jl:97 [inlined]\n",
      "  [5] #107\n",
      "    @ C:\\Users\\vuongns\\.julia\\packages\\PyCall\\ygXW2\\src\\pyfncall.jl:43 [inlined]\n",
      "  [6] disable_sigint\n",
      "    @ .\\c.jl:473 [inlined]\n",
      "  [7] __pycall!\n",
      "    @ C:\\Users\\vuongns\\.julia\\packages\\PyCall\\ygXW2\\src\\pyfncall.jl:42 [inlined]\n",
      "  [8] _pycall!(ret::PyCall.PyObject, o::PyCall.PyObject, args::Tuple{}, nargs::Int64, kw::PyCall.PyObject)\n",
      "    @ PyCall C:\\Users\\vuongns\\.julia\\packages\\PyCall\\ygXW2\\src\\pyfncall.jl:29\n",
      "  [9] _pycall!(ret::PyCall.PyObject, o::PyCall.PyObject, args::Tuple{}, kwargs::Base.Pairs{Symbol, Vector, NTuple{4, Symbol}, NamedTuple{(:Name, :Age, :Salary, :RESIDENCE), Tuple{Vector{String}, Vector{Int64}, Vector{Int64}, Vector{String}}}})\n",
      "    @ PyCall C:\\Users\\vuongns\\.julia\\packages\\PyCall\\ygXW2\\src\\pyfncall.jl:11\n",
      " [10] #pycall#112\n",
      "    @ C:\\Users\\vuongns\\.julia\\packages\\PyCall\\ygXW2\\src\\pyfncall.jl:80 [inlined]\n",
      " [11] DataFrame(; kwargs::Base.Pairs{Symbol, Vector, NTuple{4, Symbol}, NamedTuple{(:Name, :Age, :Salary, :RESIDENCE), Tuple{Vector{String}, Vector{Int64}, Vector{Int64}, Vector{String}}}})\n",
      "    @ Pandas C:\\Users\\vuongns\\.julia\\packages\\Pandas\\R43yt\\src\\Pandas.jl:58\n",
      " [12] top-level scope\n",
      "    @ d:\\Software\\Portableapp\\Git\\GitRepos\\Julia_code\\test_nb_julia.ipynb:5"
     ]
    }
   ],
   "source": [
    "# using dataframes package to create a dataframe\n",
    "using DataFrames\n",
    " \n",
    "# Creating DataFrame\n",
    "ab = DataFrame(Name = [\"AKANKSHA\", \"TANYA\", \"PREETIKA\", \"VRINDA\", \"JAHNVI\"],\n",
    "               Age = [42, 44, 22, 81, 93],\n",
    "               Salary = [540000, 650000, 900000, 770000, 850000],\n",
    "         RESIDENCE=[\"DELHI\", \"DELHI\", \"UP\", \"HARYANA\", \"UP\"]\n",
    "               ) \n",
    " \n",
    "# modifying the content of myfile.csv using write method\n",
    "CSV.write(\"D:/Software/Portableapp/Git/GitRepos/Julia_code/myfile1.csv\", ab)"
   ]
  },
  {
   "attachments": {},
   "cell_type": "markdown",
   "metadata": {},
   "source": [
    "# read excel file"
   ]
  },
  {
   "cell_type": "code",
   "execution_count": 7,
   "metadata": {},
   "outputs": [
    {
     "name": "stderr",
     "output_type": "stream",
     "text": [
      "\u001b[32m\u001b[1m   Resolving\u001b[22m\u001b[39m package versions...\n"
     ]
    },
    {
     "name": "stderr",
     "output_type": "stream",
     "text": [
      "\u001b[32m\u001b[1m  No Changes\u001b[22m\u001b[39m to `D:\\Software\\Portableapp\\JuliaPort\\userdata\\.julia\\environments\\v1.8\\Project.toml`\n",
      "\u001b[32m\u001b[1m  No Changes\u001b[22m\u001b[39m to `D:\\Software\\Portableapp\\JuliaPort\\userdata\\.julia\\environments\\v1.8\\Manifest.toml`"
     ]
    },
    {
     "name": "stderr",
     "output_type": "stream",
     "text": [
      "\n"
     ]
    }
   ],
   "source": [
    "using Pkg\n",
    "Pkg.add(\"XLSX\")"
   ]
  },
  {
   "cell_type": "code",
   "execution_count": 10,
   "metadata": {},
   "outputs": [
    {
     "data": {
      "text/html": [
       "<div><div style = \"float: left;\"><span>69581×19 DataFrame</span></div><div style = \"float: right;\"><span style = \"font-style: italic;\">69556 rows omitted</span></div><div style = \"clear: both;\"></div></div><div class = \"data-frame\" style = \"overflow-x: scroll;\"><table class = \"data-frame\" style = \"margin-bottom: 6px;\"><thead><tr class = \"header\"><th class = \"rowNumber\" style = \"font-weight: bold; text-align: right;\">Row</th><th style = \"text-align: left;\">Month</th><th style = \"text-align: left;\">No.</th><th style = \"text-align: left;\">ItemCode</th><th style = \"text-align: left;\">ItemName</th><th style = \"text-align: left;\">UnitMsr</th><th style = \"text-align: left;\">Quantity</th><th style = \"text-align: left;\">Value</th><th style = \"text-align: left;\">Account</th><th style = \"text-align: left;\">Whscode</th><th style = \"text-align: left;\">WhsName</th><th style = \"text-align: left;\">Khối lượng (kg)</th><th style = \"text-align: left;\">Thể tích (cm3)</th><th style = \"text-align: left;\">Hãng</th><th style = \"text-align: left;\">Tên hãng</th><th style = \"text-align: left;\">CategoryName</th><th style = \"text-align: left;\">Khối lượng (kg) CK</th><th style = \"text-align: left;\">Thể tích (cm3) CK</th><th style = \"text-align: left;\">BU</th><th style = \"text-align: left;\">Storage</th></tr><tr class = \"subheader headerLastRow\"><th class = \"rowNumber\" style = \"font-weight: bold; text-align: right;\"></th><th title = \"Any\" style = \"text-align: left;\">Any</th><th title = \"Any\" style = \"text-align: left;\">Any</th><th title = \"Any\" style = \"text-align: left;\">Any</th><th title = \"Any\" style = \"text-align: left;\">Any</th><th title = \"Any\" style = \"text-align: left;\">Any</th><th title = \"Any\" style = \"text-align: left;\">Any</th><th title = \"Any\" style = \"text-align: left;\">Any</th><th title = \"Any\" style = \"text-align: left;\">Any</th><th title = \"Any\" style = \"text-align: left;\">Any</th><th title = \"Any\" style = \"text-align: left;\">Any</th><th title = \"Any\" style = \"text-align: left;\">Any</th><th title = \"Any\" style = \"text-align: left;\">Any</th><th title = \"Any\" style = \"text-align: left;\">Any</th><th title = \"Any\" style = \"text-align: left;\">Any</th><th title = \"Any\" style = \"text-align: left;\">Any</th><th title = \"Any\" style = \"text-align: left;\">Any</th><th title = \"Any\" style = \"text-align: left;\">Any</th><th title = \"Any\" style = \"text-align: left;\">Any</th><th title = \"Any\" style = \"text-align: left;\">Any</th></tr></thead><tbody><tr><td class = \"rowNumber\" style = \"font-weight: bold; text-align: right;\">1</td><td style = \"text-align: left;\">1</td><td style = \"text-align: left;\">1</td><td style = \"text-align: left;\">GZ1103025</td><td style = \"text-align: left;\">ALENTA 70MG TAB 4&apos;S</td><td style = \"text-align: left;\">Hộp</td><td style = \"text-align: left;\">1017</td><td style = \"text-align: left;\">1.11448e8</td><td style = \"text-align: left;\">15610100</td><td style = \"text-align: left;\">WD002</td><td style = \"text-align: left;\">ĐN - KHO LẺ</td><td style = \"text-align: left;\">0.01</td><td style = \"text-align: left;\">116.4</td><td style = \"text-align: left;\">M00017</td><td style = \"text-align: left;\">M00017 - GETZ</td><td style = \"text-align: left;\">Dược phẩm</td><td style = \"text-align: left;\">10.17</td><td style = \"text-align: left;\">1.18379e5</td><td style = \"text-align: left;\">Dược phân phối</td><td style = \"text-align: left;\">Normal</td></tr><tr><td class = \"rowNumber\" style = \"font-weight: bold; text-align: right;\">2</td><td style = \"text-align: left;\">1</td><td style = \"text-align: left;\">2</td><td style = \"text-align: left;\">SK542204</td><td style = \"text-align: left;\">TARGET 360 ULTRA 2MM X 4CM</td><td style = \"text-align: left;\">Cái</td><td style = \"text-align: left;\">2</td><td style = \"text-align: left;\">1.60147e7</td><td style = \"text-align: left;\">15610200</td><td style = \"text-align: left;\">WD200</td><td style = \"text-align: left;\">ĐN - KHO KÝ GỬI KHÁCH HÀNG</td><td style = \"text-align: left;\">0.214</td><td style = \"text-align: left;\">1162.8</td><td style = \"text-align: left;\">M00037</td><td style = \"text-align: left;\">M00037 - STRYKER</td><td style = \"text-align: left;\">Trang TBYT</td><td style = \"text-align: left;\">0.428</td><td style = \"text-align: left;\">2325.6</td><td style = \"text-align: left;\">Medical Device</td><td style = \"text-align: left;\">Normal</td></tr><tr><td class = \"rowNumber\" style = \"font-weight: bold; text-align: right;\">3</td><td style = \"text-align: left;\">1</td><td style = \"text-align: left;\">3</td><td style = \"text-align: left;\">HY1200011</td><td style = \"text-align: left;\">LOCTOSPAN 2ML</td><td style = \"text-align: left;\">Hộp</td><td style = \"text-align: left;\">252</td><td style = \"text-align: left;\">1.44946e8</td><td style = \"text-align: left;\">15610200</td><td style = \"text-align: left;\">WH002</td><td style = \"text-align: left;\">HÀ NỘI - KHO LẺ (DP)</td><td style = \"text-align: left;\">0.042</td><td style = \"text-align: left;\">427.5</td><td style = \"text-align: left;\">M00021</td><td style = \"text-align: left;\">M00021 - HYPHENS</td><td style = \"text-align: left;\">Dược phẩm</td><td style = \"text-align: left;\">10.584</td><td style = \"text-align: left;\">107730</td><td style = \"text-align: left;\">Dược phân phối</td><td style = \"text-align: left;\">Normal</td></tr><tr><td class = \"rowNumber\" style = \"font-weight: bold; text-align: right;\">4</td><td style = \"text-align: left;\">1</td><td style = \"text-align: left;\">4</td><td style = \"text-align: left;\">RH1300324</td><td style = \"text-align: left;\">SAN PHAM VE SINH MUI VA DUNG CU ROHTO NOSEWASH 400ML KM ROHTO NOSEWASH 150ML</td><td style = \"text-align: left;\">Hộp</td><td style = \"text-align: left;\">29</td><td style = \"text-align: left;\">2049169</td><td style = \"text-align: left;\">15610200</td><td style = \"text-align: left;\">WD002</td><td style = \"text-align: left;\">ĐN - KHO LẺ</td><td style = \"text-align: left;\">0.0674</td><td style = \"text-align: left;\">2037</td><td style = \"text-align: left;\">M00031</td><td style = \"text-align: left;\">M00031 - ROHTO</td><td style = \"text-align: left;\">Trang TBYT</td><td style = \"text-align: left;\">1.9546</td><td style = \"text-align: left;\">59073</td><td style = \"text-align: left;\">Dược phân phối</td><td style = \"text-align: left;\">Normal</td></tr><tr><td class = \"rowNumber\" style = \"font-weight: bold; text-align: right;\">5</td><td style = \"text-align: left;\">1</td><td style = \"text-align: left;\">5</td><td style = \"text-align: left;\">HY1300022</td><td style = \"text-align: left;\">CETRAXAL (H/15 ONG)</td><td style = \"text-align: left;\">Hộp</td><td style = \"text-align: left;\">1800</td><td style = \"text-align: left;\">2.12107e8</td><td style = \"text-align: left;\">15610100</td><td style = \"text-align: left;\">WH100</td><td style = \"text-align: left;\">KHO CHÍNH (KHO E - CPC 1)</td><td style = \"text-align: left;\">0.048</td><td style = \"text-align: left;\">437.5</td><td style = \"text-align: left;\">M00021</td><td style = \"text-align: left;\">M00021 - HYPHENS</td><td style = \"text-align: left;\">Dược phẩm</td><td style = \"text-align: left;\">86.4</td><td style = \"text-align: left;\">787500</td><td style = \"text-align: left;\">Dược phân phối</td><td style = \"text-align: left;\">Normal</td></tr><tr><td class = \"rowNumber\" style = \"font-weight: bold; text-align: right;\">6</td><td style = \"text-align: left;\">1</td><td style = \"text-align: left;\">6</td><td style = \"text-align: left;\">BT39032-20221</td><td style = \"text-align: left;\">FG STERLING OTW, 2.0X220X150 (4F)</td><td style = \"text-align: left;\">Cái</td><td style = \"text-align: left;\">1</td><td style = \"text-align: left;\">3.38248e6</td><td style = \"text-align: left;\">15610200</td><td style = \"text-align: left;\">WS015</td><td style = \"text-align: left;\">HCM - KHO TTBYT VĂN PHÒNG</td><td style = \"text-align: left;\">0.174</td><td style = \"text-align: left;\">915.14</td><td style = \"text-align: left;\">M00011</td><td style = \"text-align: left;\">M00011 - BOSTON</td><td style = \"text-align: left;\">Trang TBYT</td><td style = \"text-align: left;\">0.174</td><td style = \"text-align: left;\">915.14</td><td style = \"text-align: left;\">Medical Device</td><td style = \"text-align: left;\">Normal</td></tr><tr><td class = \"rowNumber\" style = \"font-weight: bold; text-align: right;\">7</td><td style = \"text-align: left;\">1</td><td style = \"text-align: left;\">7</td><td style = \"text-align: left;\">GM1200001</td><td style = \"text-align: left;\">PLURYAL® CLASSIC 1x1ML</td><td style = \"text-align: left;\">Hộp</td><td style = \"text-align: left;\">7</td><td style = \"text-align: left;\">8.72439e6</td><td style = \"text-align: left;\">15610200</td><td style = \"text-align: left;\">WH200</td><td style = \"text-align: left;\">HÀ NỘI - KHO KÝ GỬI KHÁCH HÀNG</td><td style = \"text-align: left;\">0.054</td><td style = \"text-align: left;\">456.3</td><td style = \"text-align: left;\">M00072</td><td style = \"text-align: left;\">M00072 - GERMANOS GROUP FZC</td><td style = \"text-align: left;\">Trang TBYT</td><td style = \"text-align: left;\">0.378</td><td style = \"text-align: left;\">3194.1</td><td style = \"text-align: left;\">THẨM MỸ</td><td style = \"text-align: left;\">Normal</td></tr><tr><td class = \"rowNumber\" style = \"font-weight: bold; text-align: right;\">8</td><td style = \"text-align: left;\">1</td><td style = \"text-align: left;\">8</td><td style = \"text-align: left;\">JJ401.770</td><td style = \"text-align: left;\">VIT VO 2.4 TU TARO TITANIUM DAI 20</td><td style = \"text-align: left;\">Cái</td><td style = \"text-align: left;\">10</td><td style = \"text-align: left;\">3152240</td><td style = \"text-align: left;\">15610200</td><td style = \"text-align: left;\">WS025</td><td style = \"text-align: left;\">HCM - KHO MOBISTOCK (JOHNSON &amp; JOHNSON)</td><td style = \"text-align: left;\">0.01</td><td style = \"text-align: left;\">0</td><td style = \"text-align: left;\">M00132</td><td style = \"text-align: left;\">M00132 - JOHNSON &amp; JOHNSON</td><td style = \"text-align: left;\">Trang TBYT</td><td style = \"text-align: left;\">0.1</td><td style = \"text-align: left;\">0</td><td style = \"text-align: left;\">VTTH</td><td style = \"text-align: left;\">Normal</td></tr><tr><td class = \"rowNumber\" style = \"font-weight: bold; text-align: right;\">9</td><td style = \"text-align: left;\">1</td><td style = \"text-align: left;\">9</td><td style = \"text-align: left;\">BT39251-3225</td><td style = \"text-align: left;\">PROMUS PREMIER OUS MR 32 X 2.50</td><td style = \"text-align: left;\">Cái</td><td style = \"text-align: left;\">14</td><td style = \"text-align: left;\">3.10207e8</td><td style = \"text-align: left;\">15610200</td><td style = \"text-align: left;\">WS200</td><td style = \"text-align: left;\">HCM - KHO KÝ GỬI KHÁCH HÀNG</td><td style = \"text-align: left;\">0.225</td><td style = \"text-align: left;\">1680</td><td style = \"text-align: left;\">M00011</td><td style = \"text-align: left;\">M00011 - BOSTON</td><td style = \"text-align: left;\">Trang TBYT</td><td style = \"text-align: left;\">3.15</td><td style = \"text-align: left;\">23520</td><td style = \"text-align: left;\">Medical Device</td><td style = \"text-align: left;\">Normal</td></tr><tr><td class = \"rowNumber\" style = \"font-weight: bold; text-align: right;\">10</td><td style = \"text-align: left;\">1</td><td style = \"text-align: left;\">10</td><td style = \"text-align: left;\">BT39262-2827</td><td style = \"text-align: left;\">SYNERGY OUS MR 2.75 X 28MM</td><td style = \"text-align: left;\">Cái</td><td style = \"text-align: left;\">12</td><td style = \"text-align: left;\">3.215e8</td><td style = \"text-align: left;\">15610200</td><td style = \"text-align: left;\">WS200</td><td style = \"text-align: left;\">HCM - KHO KÝ GỬI KHÁCH HÀNG</td><td style = \"text-align: left;\">0.209</td><td style = \"text-align: left;\">1200</td><td style = \"text-align: left;\">M00011</td><td style = \"text-align: left;\">M00011 - BOSTON</td><td style = \"text-align: left;\">Trang TBYT</td><td style = \"text-align: left;\">2.508</td><td style = \"text-align: left;\">14400</td><td style = \"text-align: left;\">Medical Device</td><td style = \"text-align: left;\">Normal</td></tr><tr><td class = \"rowNumber\" style = \"font-weight: bold; text-align: right;\">11</td><td style = \"text-align: left;\">1</td><td style = \"text-align: left;\">11</td><td style = \"text-align: left;\">BT39262-3840</td><td style = \"text-align: left;\">SYNERGY OUS MR 4.00 X 38MM</td><td style = \"text-align: left;\">Cái</td><td style = \"text-align: left;\">10</td><td style = \"text-align: left;\">2.67684e8</td><td style = \"text-align: left;\">15610200</td><td style = \"text-align: left;\">WS200</td><td style = \"text-align: left;\">HCM - KHO KÝ GỬI KHÁCH HÀNG</td><td style = \"text-align: left;\">0.209</td><td style = \"text-align: left;\">1200</td><td style = \"text-align: left;\">M00011</td><td style = \"text-align: left;\">M00011 - BOSTON</td><td style = \"text-align: left;\">Trang TBYT</td><td style = \"text-align: left;\">2.09</td><td style = \"text-align: left;\">12000</td><td style = \"text-align: left;\">Medical Device</td><td style = \"text-align: left;\">Normal</td></tr><tr><td class = \"rowNumber\" style = \"font-weight: bold; text-align: right;\">12</td><td style = \"text-align: left;\">1</td><td style = \"text-align: left;\">12</td><td style = \"text-align: left;\">JJ213.026</td><td style = \"text-align: left;\">VIT KHOA 3.5 TU TARO DAI 26</td><td style = \"text-align: left;\">Cái</td><td style = \"text-align: left;\">9</td><td style = \"text-align: left;\">2199240</td><td style = \"text-align: left;\">15610200</td><td style = \"text-align: left;\">WS023</td><td style = \"text-align: left;\">HCM - KHO TTBYT VĂN PHÒNG (JOHNSON &amp; JOHNSON)</td><td style = \"text-align: left;\">0.01</td><td style = \"text-align: left;\">0.32</td><td style = \"text-align: left;\">M00132</td><td style = \"text-align: left;\">M00132 - JOHNSON &amp; JOHNSON</td><td style = \"text-align: left;\">Trang TBYT</td><td style = \"text-align: left;\">0.09</td><td style = \"text-align: left;\">2.88</td><td style = \"text-align: left;\">VTTH</td><td style = \"text-align: left;\">Normal</td></tr><tr><td class = \"rowNumber\" style = \"font-weight: bold; text-align: right;\">13</td><td style = \"text-align: left;\">1</td><td style = \"text-align: left;\">13</td><td style = \"text-align: left;\">JJ962132</td><td style = \"text-align: left;\">MIENG DEM MAM CHAY DI DONG PFC SIGMA</td><td style = \"text-align: left;\">Cái</td><td style = \"text-align: left;\">1</td><td style = \"text-align: left;\">6273911</td><td style = \"text-align: left;\">15610200</td><td style = \"text-align: left;\">WS023</td><td style = \"text-align: left;\">HCM - KHO TTBYT VĂN PHÒNG (JOHNSON &amp; JOHNSON)</td><td style = \"text-align: left;\">0</td><td style = \"text-align: left;\">0</td><td style = \"text-align: left;\">M00132</td><td style = \"text-align: left;\">M00132 - JOHNSON &amp; JOHNSON</td><td style = \"text-align: left;\">Trang TBYT</td><td style = \"text-align: left;\">0</td><td style = \"text-align: left;\">0</td><td style = \"text-align: left;\">VTTH</td><td style = \"text-align: left;\">Normal</td></tr><tr><td style = \"text-align: right;\">&vellip;</td><td style = \"text-align: right;\">&vellip;</td><td style = \"text-align: right;\">&vellip;</td><td style = \"text-align: right;\">&vellip;</td><td style = \"text-align: right;\">&vellip;</td><td style = \"text-align: right;\">&vellip;</td><td style = \"text-align: right;\">&vellip;</td><td style = \"text-align: right;\">&vellip;</td><td style = \"text-align: right;\">&vellip;</td><td style = \"text-align: right;\">&vellip;</td><td style = \"text-align: right;\">&vellip;</td><td style = \"text-align: right;\">&vellip;</td><td style = \"text-align: right;\">&vellip;</td><td style = \"text-align: right;\">&vellip;</td><td style = \"text-align: right;\">&vellip;</td><td style = \"text-align: right;\">&vellip;</td><td style = \"text-align: right;\">&vellip;</td><td style = \"text-align: right;\">&vellip;</td><td style = \"text-align: right;\">&vellip;</td><td style = \"text-align: right;\">&vellip;</td></tr><tr><td class = \"rowNumber\" style = \"font-weight: bold; text-align: right;\">69570</td><td style = \"text-align: left;\">11</td><td style = \"text-align: left;\">2792</td><td style = \"text-align: left;\">SS1100024</td><td style = \"text-align: left;\">DROSPERIN COATED TABS 28&apos;S</td><td style = \"text-align: left;\">Hộp</td><td style = \"text-align: left;\">1898</td><td style = \"text-align: left;\">2.39965e8</td><td style = \"text-align: left;\">15610100</td><td style = \"text-align: left;\">HL001</td><td style = \"text-align: left;\">HD - LONG HẬU – KHO LONG HẬU SỈ</td><td style = \"text-align: left;\">0.022</td><td style = \"text-align: left;\">79.5</td><td style = \"text-align: left;\">M00035</td><td style = \"text-align: left;\">M00035 - SINENSIX</td><td style = \"text-align: left;\">Dược phẩm</td><td style = \"text-align: left;\">41.756</td><td style = \"text-align: left;\">150891</td><td style = \"text-align: left;\">Dược phân phối</td><td style = \"text-align: left;\">Normal</td></tr><tr><td class = \"rowNumber\" style = \"font-weight: bold; text-align: right;\">69571</td><td style = \"text-align: left;\">11</td><td style = \"text-align: left;\">2793</td><td style = \"text-align: left;\">AJ7300059</td><td style = \"text-align: left;\">FREZYDERM MILD WASH LIQUID 2ML</td><td style = \"text-align: left;\">Gói</td><td style = \"text-align: left;\">400</td><td style = \"text-align: left;\">9.48531e5</td><td style = \"text-align: left;\">15610700</td><td style = \"text-align: left;\">WL001</td><td style = \"text-align: left;\">LONG HẬU - KHO SỈ</td><td style = \"text-align: left;\">0.003</td><td style = \"text-align: left;\">4.95</td><td style = \"text-align: left;\">M00061</td><td style = \"text-align: left;\">M00061 - AJ RESEARCH &amp; PHARMA</td><td style = \"text-align: left;\">Mỹ phẩm</td><td style = \"text-align: left;\">1.2</td><td style = \"text-align: left;\">1980</td><td style = \"text-align: left;\">Dược phân phối</td><td style = \"text-align: left;\">Normal</td></tr><tr><td class = \"rowNumber\" style = \"font-weight: bold; text-align: right;\">69572</td><td style = \"text-align: left;\">11</td><td style = \"text-align: left;\">2794</td><td style = \"text-align: left;\">PD1100003</td><td style = \"text-align: left;\">FLEMING 625MG B/100</td><td style = \"text-align: left;\">Hộp</td><td style = \"text-align: left;\">344</td><td style = \"text-align: left;\">1.31529e8</td><td style = \"text-align: left;\">15610100</td><td style = \"text-align: left;\">WL001</td><td style = \"text-align: left;\">LONG HẬU - KHO SỈ</td><td style = \"text-align: left;\">0.254</td><td style = \"text-align: left;\">1872.32</td><td style = \"text-align: left;\">M00165</td><td style = \"text-align: left;\">M00165 - PARADIGM</td><td style = \"text-align: left;\">Dược phẩm</td><td style = \"text-align: left;\">87.376</td><td style = \"text-align: left;\">6.44076e5</td><td style = \"text-align: left;\">Dược phân phối</td><td style = \"text-align: left;\">Normal</td></tr><tr><td class = \"rowNumber\" style = \"font-weight: bold; text-align: right;\">69573</td><td style = \"text-align: left;\">11</td><td style = \"text-align: left;\">2795</td><td style = \"text-align: left;\">SK451009-5</td><td style = \"text-align: left;\">INZONE DETACHMENT SYSTEM</td><td style = \"text-align: left;\">Cái</td><td style = \"text-align: left;\">2</td><td style = \"text-align: left;\">4.49697e6</td><td style = \"text-align: left;\">15610200</td><td style = \"text-align: left;\">WS200</td><td style = \"text-align: left;\">HCM - KHO KÝ GỬI KHÁCH HÀNG</td><td style = \"text-align: left;\">0.2</td><td style = \"text-align: left;\">1213.6</td><td style = \"text-align: left;\">M00037</td><td style = \"text-align: left;\">M00037 - STRYKER</td><td style = \"text-align: left;\">Trang TBYT</td><td style = \"text-align: left;\">0.4</td><td style = \"text-align: left;\">2427.2</td><td style = \"text-align: left;\">Medical Device</td><td style = \"text-align: left;\">Normal</td></tr><tr><td class = \"rowNumber\" style = \"font-weight: bold; text-align: right;\">69574</td><td style = \"text-align: left;\">11</td><td style = \"text-align: left;\">2796</td><td style = \"text-align: left;\">RH1300189</td><td style = \"text-align: left;\">(2022) GEL SACH MUN KHANG KHUAN (ACNES SEALING JELL) 18 G</td><td style = \"text-align: left;\">Tuýp</td><td style = \"text-align: left;\">635</td><td style = \"text-align: left;\">29756100</td><td style = \"text-align: left;\">15610700</td><td style = \"text-align: left;\">WL001</td><td style = \"text-align: left;\">LONG HẬU - KHO SỈ</td><td style = \"text-align: left;\">0.034</td><td style = \"text-align: left;\">19.5</td><td style = \"text-align: left;\">M00031</td><td style = \"text-align: left;\">M00031 - ROHTO</td><td style = \"text-align: left;\">Mỹ phẩm</td><td style = \"text-align: left;\">21.59</td><td style = \"text-align: left;\">12382.5</td><td style = \"text-align: left;\">Dược phân phối</td><td style = \"text-align: left;\">Normal</td></tr><tr><td class = \"rowNumber\" style = \"font-weight: bold; text-align: right;\">69575</td><td style = \"text-align: left;\">11</td><td style = \"text-align: left;\">2797</td><td style = \"text-align: left;\">RH1300199</td><td style = \"text-align: left;\">GIAY THAM DAU (ACNES OIL REMOVER PAPER) 100 TO</td><td style = \"text-align: left;\">Hộp</td><td style = \"text-align: left;\">1180</td><td style = \"text-align: left;\">26330520</td><td style = \"text-align: left;\">15610100</td><td style = \"text-align: left;\">WL001</td><td style = \"text-align: left;\">LONG HẬU - KHO SỈ</td><td style = \"text-align: left;\">0.016</td><td style = \"text-align: left;\">17.1</td><td style = \"text-align: left;\">M00031</td><td style = \"text-align: left;\">M00031 - ROHTO</td><td style = \"text-align: left;\">Dược phẩm</td><td style = \"text-align: left;\">18.88</td><td style = \"text-align: left;\">20178</td><td style = \"text-align: left;\">Dược phân phối</td><td style = \"text-align: left;\">Normal</td></tr><tr><td class = \"rowNumber\" style = \"font-weight: bold; text-align: right;\">69576</td><td style = \"text-align: left;\">11</td><td style = \"text-align: left;\">2798</td><td style = \"text-align: left;\">AB1100004</td><td style = \"text-align: left;\">DUPHALAC SYR 200ML</td><td style = \"text-align: left;\">Hộp</td><td style = \"text-align: left;\">10</td><td style = \"text-align: left;\">7.71336e5</td><td style = \"text-align: left;\">15610100</td><td style = \"text-align: left;\">HL001</td><td style = \"text-align: left;\">HD - LONG HẬU – KHO LONG HẬU SỈ</td><td style = \"text-align: left;\">0.308</td><td style = \"text-align: left;\">423.5</td><td style = \"text-align: left;\">M00003</td><td style = \"text-align: left;\">M00003 - ABBOTT</td><td style = \"text-align: left;\">Dược phẩm</td><td style = \"text-align: left;\">3.08</td><td style = \"text-align: left;\">4235</td><td style = \"text-align: left;\">Phòng mạch BS</td><td style = \"text-align: left;\">Normal</td></tr><tr><td class = \"rowNumber\" style = \"font-weight: bold; text-align: right;\">69577</td><td style = \"text-align: left;\">11</td><td style = \"text-align: left;\">2799</td><td style = \"text-align: left;\">SK46-815</td><td style = \"text-align: left;\">TRANSEND 014 FLOPPY 300 CM</td><td style = \"text-align: left;\">Cái</td><td style = \"text-align: left;\">11</td><td style = \"text-align: left;\">4.22066e7</td><td style = \"text-align: left;\">15610200</td><td style = \"text-align: left;\">WL001</td><td style = \"text-align: left;\">LONG HẬU - KHO SỈ</td><td style = \"text-align: left;\">0.146</td><td style = \"text-align: left;\">1000.8</td><td style = \"text-align: left;\">M00037</td><td style = \"text-align: left;\">M00037 - STRYKER</td><td style = \"text-align: left;\">Trang TBYT</td><td style = \"text-align: left;\">1.606</td><td style = \"text-align: left;\">11008.8</td><td style = \"text-align: left;\">Medical Device</td><td style = \"text-align: left;\">Normal</td></tr><tr><td class = \"rowNumber\" style = \"font-weight: bold; text-align: right;\">69578</td><td style = \"text-align: left;\">11</td><td style = \"text-align: left;\">2800</td><td style = \"text-align: left;\">RH1300313</td><td style = \"text-align: left;\">SAN PHAM HO TRO DIEU TRI VIEM MUI XOANG (ROHTO NOSEWASH SPRAY) 35 ML</td><td style = \"text-align: left;\">Chai</td><td style = \"text-align: left;\">47</td><td style = \"text-align: left;\">1922723</td><td style = \"text-align: left;\">15610200</td><td style = \"text-align: left;\">WD002</td><td style = \"text-align: left;\">ĐN - KHO LẺ</td><td style = \"text-align: left;\">0.062</td><td style = \"text-align: left;\">165.375</td><td style = \"text-align: left;\">M00031</td><td style = \"text-align: left;\">M00031 - ROHTO</td><td style = \"text-align: left;\">Dược phẩm</td><td style = \"text-align: left;\">2.914</td><td style = \"text-align: left;\">7772.62</td><td style = \"text-align: left;\">Dược phân phối</td><td style = \"text-align: left;\">Normal</td></tr><tr><td class = \"rowNumber\" style = \"font-weight: bold; text-align: right;\">69579</td><td style = \"text-align: left;\">11</td><td style = \"text-align: left;\">2801</td><td style = \"text-align: left;\">BT39251-3835</td><td style = \"text-align: left;\">PROMUS PREMIER OUS MR 38 X 3.50</td><td style = \"text-align: left;\">Cái</td><td style = \"text-align: left;\">1</td><td style = \"text-align: left;\">2.25965e7</td><td style = \"text-align: left;\">15610200</td><td style = \"text-align: left;\">WS200</td><td style = \"text-align: left;\">HCM - KHO KÝ GỬI KHÁCH HÀNG</td><td style = \"text-align: left;\">0.225</td><td style = \"text-align: left;\">1680</td><td style = \"text-align: left;\">M00011</td><td style = \"text-align: left;\">M00011 - BOSTON</td><td style = \"text-align: left;\">Trang TBYT</td><td style = \"text-align: left;\">0.225</td><td style = \"text-align: left;\">1680</td><td style = \"text-align: left;\">Medical Device</td><td style = \"text-align: left;\">Normal</td></tr><tr><td class = \"rowNumber\" style = \"font-weight: bold; text-align: right;\">69580</td><td style = \"text-align: left;\">11</td><td style = \"text-align: left;\">2802</td><td style = \"text-align: left;\">DV1100068</td><td style = \"text-align: left;\">ZAPNEX-10 10MG</td><td style = \"text-align: left;\">Hộp</td><td style = \"text-align: left;\">739</td><td style = \"text-align: left;\">1.15143e7</td><td style = \"text-align: left;\">15610100</td><td style = \"text-align: left;\">WD002</td><td style = \"text-align: left;\">ĐN - KHO LẺ</td><td style = \"text-align: left;\">0.0229</td><td style = \"text-align: left;\">165.888</td><td style = \"text-align: left;\">M00152</td><td style = \"text-align: left;\">M00152 - DAVIPHARM</td><td style = \"text-align: left;\">Dược phẩm</td><td style = \"text-align: left;\">16.9231</td><td style = \"text-align: left;\">1.22591e5</td><td style = \"text-align: left;\">Dược phân phối</td><td style = \"text-align: left;\">Normal</td></tr><tr><td class = \"rowNumber\" style = \"font-weight: bold; text-align: right;\">69581</td><td style = \"text-align: left;\">11</td><td style = \"text-align: left;\">2803</td><td style = \"text-align: left;\">YH6100002</td><td style = \"text-align: left;\">THUC PHAM BAO VE SUC KHOE YES EVENING PRIMROSE OIL PLUS D3</td><td style = \"text-align: left;\">Hộp</td><td style = \"text-align: left;\">126</td><td style = \"text-align: left;\">51316398</td><td style = \"text-align: left;\">15610500</td><td style = \"text-align: left;\">WH001</td><td style = \"text-align: left;\">HÀ NỘI - KHO VẠN PHÚC</td><td style = \"text-align: left;\">0.112</td><td style = \"text-align: left;\">400.315</td><td style = \"text-align: left;\">M00163</td><td style = \"text-align: left;\">M00163 - YES HEALTH VIET NAM</td><td style = \"text-align: left;\">Thực phẩm chức năng</td><td style = \"text-align: left;\">14.112</td><td style = \"text-align: left;\">50439.7</td><td style = \"text-align: left;\">Dược phân phối</td><td style = \"text-align: left;\">Normal</td></tr></tbody></table></div>"
      ],
      "text/latex": [
       "\\begin{tabular}{r|ccccc}\n",
       "\t& Month & No. & ItemCode & ItemName & \\\\\n",
       "\t\\hline\n",
       "\t& Any & Any & Any & Any & \\\\\n",
       "\t\\hline\n",
       "\t1 & 1 & 1 & GZ1103025 & ALENTA 70MG TAB 4'S & $\\dots$ \\\\\n",
       "\t2 & 1 & 2 & SK542204 & TARGET 360 ULTRA 2MM X 4CM & $\\dots$ \\\\\n",
       "\t3 & 1 & 3 & HY1200011 & LOCTOSPAN 2ML & $\\dots$ \\\\\n",
       "\t4 & 1 & 4 & RH1300324 & SAN PHAM VE SINH MUI VA DUNG CU ROHTO NOSEWASH 400ML KM ROHTO NOSEWASH 150ML & $\\dots$ \\\\\n",
       "\t5 & 1 & 5 & HY1300022 & CETRAXAL (H/15 ONG) & $\\dots$ \\\\\n",
       "\t6 & 1 & 6 & BT39032-20221 & FG STERLING OTW, 2.0X220X150 (4F) & $\\dots$ \\\\\n",
       "\t7 & 1 & 7 & GM1200001 & PLURYAL® CLASSIC 1x1ML & $\\dots$ \\\\\n",
       "\t8 & 1 & 8 & JJ401.770 & VIT VO 2.4 TU TARO TITANIUM DAI 20 & $\\dots$ \\\\\n",
       "\t9 & 1 & 9 & BT39251-3225 & PROMUS PREMIER OUS MR 32 X 2.50 & $\\dots$ \\\\\n",
       "\t10 & 1 & 10 & BT39262-2827 & SYNERGY OUS MR 2.75 X 28MM & $\\dots$ \\\\\n",
       "\t11 & 1 & 11 & BT39262-3840 & SYNERGY OUS MR 4.00 X 38MM & $\\dots$ \\\\\n",
       "\t12 & 1 & 12 & JJ213.026 & VIT KHOA 3.5 TU TARO DAI 26 & $\\dots$ \\\\\n",
       "\t13 & 1 & 13 & JJ962132 & MIENG DEM MAM CHAY DI DONG PFC SIGMA & $\\dots$ \\\\\n",
       "\t14 & 1 & 14 & HO1300015 & HOEBEPROSALIC LOTION 30ML & $\\dots$ \\\\\n",
       "\t15 & 1 & 15 & HY1200008 & XENETIX 350MG 100ML  H/10 & $\\dots$ \\\\\n",
       "\t16 & 1 & 16 & SK90238 & TREVO PRO 18 MICROCATHETER & $\\dots$ \\\\\n",
       "\t17 & 1 & 17 & SK20722-1530 & GATEWAY™ PTA BALLOON CATHETER (OVER-THE-WIRE), US 15X3.0 & $\\dots$ \\\\\n",
       "\t18 & 1 & 18 & BT39251-2425 & PROMUS PREMIER OUS MR 24 X 2.50 & $\\dots$ \\\\\n",
       "\t19 & 1 & 19 & AV1100013 & LIZOLID-600 (H/5HOP NHO X 1VI X 4VIEN) & $\\dots$ \\\\\n",
       "\t20 & 1 & 20 & HY1300041 & PRE-SEED & $\\dots$ \\\\\n",
       "\t21 & 1 & 21 & GZ1104001 & MEBALOGET 500MCG F.C.TAB 30'S & $\\dots$ \\\\\n",
       "\t22 & 1 & 22 & DW1300025 & MEDICLORE CPCG300T 3ML (KEO SINH HOC CHONG DINH) & $\\dots$ \\\\\n",
       "\t23 & 1 & 23 & RH7300060 & KEM DUONG TRANG (ACNES PURE WHITE CREAM) 50 G & $\\dots$ \\\\\n",
       "\t24 & 1 & 24 & JJ103542000 & CHOM XUONG DUI BAN PHAN SELF-CENTERING & $\\dots$ \\\\\n",
       "\t$\\dots$ & $\\dots$ & $\\dots$ & $\\dots$ & $\\dots$ &  \\\\\n",
       "\\end{tabular}\n"
      ],
      "text/plain": [
       "\u001b[1m69581×19 DataFrame\u001b[0m\n",
       "\u001b[1m   Row \u001b[0m│\u001b[1m Month \u001b[0m\u001b[1m No.  \u001b[0m\u001b[1m ItemCode      \u001b[0m\u001b[1m ItemName                          \u001b[0m\u001b[1m UnitMs\u001b[0m ⋯\n",
       "       │\u001b[90m Any   \u001b[0m\u001b[90m Any  \u001b[0m\u001b[90m Any           \u001b[0m\u001b[90m Any                               \u001b[0m\u001b[90m Any   \u001b[0m ⋯\n",
       "───────┼────────────────────────────────────────────────────────────────────────\n",
       "     1 │ 1      1     GZ1103025      ALENTA 70MG TAB 4'S                Hộp    ⋯\n",
       "     2 │ 1      2     SK542204       TARGET 360 ULTRA 2MM X 4CM         Cái\n",
       "     3 │ 1      3     HY1200011      LOCTOSPAN 2ML                      Hộp\n",
       "     4 │ 1      4     RH1300324      SAN PHAM VE SINH MUI VA DUNG CU …  Hộp\n",
       "     5 │ 1      5     HY1300022      CETRAXAL (H/15 ONG)                Hộp    ⋯\n",
       "     6 │ 1      6     BT39032-20221  FG STERLING OTW, 2.0X220X150 (4F)  Cái\n",
       "     7 │ 1      7     GM1200001      PLURYAL® CLASSIC 1x1ML             Hộp\n",
       "     8 │ 1      8     JJ401.770      VIT VO 2.4 TU TARO TITANIUM DAI …  Cái\n",
       "   ⋮   │   ⋮     ⋮          ⋮                        ⋮                     ⋮   ⋱\n",
       " 69575 │ 11     2797  RH1300199      GIAY THAM DAU (ACNES OIL REMOVER…  Hộp    ⋯\n",
       " 69576 │ 11     2798  AB1100004      DUPHALAC SYR 200ML                 Hộp\n",
       " 69577 │ 11     2799  SK46-815       TRANSEND 014 FLOPPY 300 CM         Cái\n",
       " 69578 │ 11     2800  RH1300313      SAN PHAM HO TRO DIEU TRI VIEM MU…  Chai\n",
       " 69579 │ 11     2801  BT39251-3835   PROMUS PREMIER OUS MR 38 X 3.50    Cái    ⋯\n",
       " 69580 │ 11     2802  DV1100068      ZAPNEX-10 10MG                     Hộp\n",
       " 69581 │ 11     2803  YH6100002      THUC PHAM BAO VE SUC KHOE YES EV…  Hộp\n",
       "\u001b[36m                                               15 columns and 69566 rows omitted\u001b[0m"
      ]
     },
     "metadata": {},
     "output_type": "display_data"
    }
   ],
   "source": [
    "using DataFrames, XLSX\n",
    "df = DataFrame(XLSX.readtable(\"C:/Users/vuongns/Downloads/inventory.xlsx\",\"Detail\"))"
   ]
  }
 ],
 "metadata": {
  "kernelspec": {
   "display_name": "Julia 1.8.1",
   "language": "julia",
   "name": "julia-1.8"
  },
  "language_info": {
   "file_extension": ".jl",
   "mimetype": "application/julia",
   "name": "julia",
   "version": "1.8.1"
  },
  "orig_nbformat": 4
 },
 "nbformat": 4,
 "nbformat_minor": 2
}
