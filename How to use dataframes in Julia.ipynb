{
 "cells": [
  {
   "attachments": {},
   "cell_type": "markdown",
   "metadata": {},
   "source": [
    "# How to create a Julia dataframe in the terminal"
   ]
  },
  {
   "cell_type": "code",
   "execution_count": 1,
   "metadata": {},
   "outputs": [
    {
     "data": {
      "text/html": [
       "<div><div style = \"float: left;\"><span>4×3 DataFrame</span></div><div style = \"clear: both;\"></div></div><div class = \"data-frame\" style = \"overflow-x: scroll;\"><table class = \"data-frame\" style = \"margin-bottom: 6px;\"><thead><tr class = \"header\"><th class = \"rowNumber\" style = \"font-weight: bold; text-align: right;\">Row</th><th style = \"text-align: left;\">item</th><th style = \"text-align: left;\">id</th><th style = \"text-align: left;\">kind</th></tr><tr class = \"subheader headerLastRow\"><th class = \"rowNumber\" style = \"font-weight: bold; text-align: right;\"></th><th title = \"String\" style = \"text-align: left;\">String</th><th title = \"Int64\" style = \"text-align: left;\">Int64</th><th title = \"String\" style = \"text-align: left;\">String</th></tr></thead><tbody><tr><td class = \"rowNumber\" style = \"font-weight: bold; text-align: right;\">1</td><td style = \"text-align: left;\">Mars Rover</td><td style = \"text-align: right;\">100</td><td style = \"text-align: left;\">rover</td></tr><tr><td class = \"rowNumber\" style = \"font-weight: bold; text-align: right;\">2</td><td style = \"text-align: left;\">Venus Explorer</td><td style = \"text-align: right;\">101</td><td style = \"text-align: left;\">spaceship</td></tr><tr><td class = \"rowNumber\" style = \"font-weight: bold; text-align: right;\">3</td><td style = \"text-align: left;\">%Lunar Rover</td><td style = \"text-align: right;\">102</td><td style = \"text-align: left;\">rover</td></tr><tr><td class = \"rowNumber\" style = \"font-weight: bold; text-align: right;\">4</td><td style = \"text-align: left;\">30% Sun Filter</td><td style = \"text-align: right;\">103</td><td style = \"text-align: left;\">Sun Filter</td></tr></tbody></table></div>"
      ],
      "text/latex": [
       "\\begin{tabular}{r|ccc}\n",
       "\t& item & id & kind\\\\\n",
       "\t\\hline\n",
       "\t& String & Int64 & String\\\\\n",
       "\t\\hline\n",
       "\t1 & Mars Rover & 100 & rover \\\\\n",
       "\t2 & Venus Explorer & 101 & spaceship \\\\\n",
       "\t3 & \\%Lunar Rover & 102 & rover \\\\\n",
       "\t4 & 30\\% Sun Filter & 103 & Sun Filter \\\\\n",
       "\\end{tabular}\n"
      ],
      "text/plain": [
       "\u001b[1m4×3 DataFrame\u001b[0m\n",
       "\u001b[1m Row \u001b[0m│\u001b[1m item           \u001b[0m\u001b[1m id    \u001b[0m\u001b[1m kind       \u001b[0m\n",
       "     │\u001b[90m String         \u001b[0m\u001b[90m Int64 \u001b[0m\u001b[90m String     \u001b[0m\n",
       "─────┼───────────────────────────────────\n",
       "   1 │ Mars Rover        100  rover\n",
       "   2 │ Venus Explorer    101  spaceship\n",
       "   3 │ %Lunar Rover      102  rover\n",
       "   4 │ 30% Sun Filter    103  Sun Filter"
      ]
     },
     "metadata": {},
     "output_type": "display_data"
    }
   ],
   "source": [
    "using DataFrames\n",
    "inventory = DataFrame(\n",
    "\titem = [\n",
    "\t\t\"Mars Rover\",\n",
    "\t\t\"Venus Explorer\",\n",
    "\t\t\"%Lunar Rover\",\n",
    "\t\t\"30% Sun Filter\"\n",
    "\t],\n",
    "\tid = [\n",
    "\t\t100,\n",
    "\t\t101,\n",
    "\t\t102,\n",
    "\t\t103\n",
    "\t],\n",
    "\tkind = [\n",
    "\t\t\"rover\",\n",
    "\t\t\"spaceship\",\n",
    "\t\t\"rover\",\n",
    "\t\t\"Sun Filter\"\n",
    "\t]\n",
    ")"
   ]
  },
  {
   "attachments": {},
   "cell_type": "markdown",
   "metadata": {},
   "source": [
    "# How to “find and replace” in a Julia dataframe"
   ]
  },
  {
   "cell_type": "code",
   "execution_count": 3,
   "metadata": {},
   "outputs": [
    {
     "data": {
      "text/html": [
       "<div><div style = \"float: left;\"><span>4×3 DataFrame</span></div><div style = \"clear: both;\"></div></div><div class = \"data-frame\" style = \"overflow-x: scroll;\"><table class = \"data-frame\" style = \"margin-bottom: 6px;\"><thead><tr class = \"header\"><th class = \"rowNumber\" style = \"font-weight: bold; text-align: right;\">Row</th><th style = \"text-align: left;\">item</th><th style = \"text-align: left;\">id</th><th style = \"text-align: left;\">kind</th></tr><tr class = \"subheader headerLastRow\"><th class = \"rowNumber\" style = \"font-weight: bold; text-align: right;\"></th><th title = \"String\" style = \"text-align: left;\">String</th><th title = \"Int64\" style = \"text-align: left;\">Int64</th><th title = \"String\" style = \"text-align: left;\">String</th></tr></thead><tbody><tr><td class = \"rowNumber\" style = \"font-weight: bold; text-align: right;\">1</td><td style = \"text-align: left;\">Mars Rover</td><td style = \"text-align: right;\">100</td><td style = \"text-align: left;\">Rover</td></tr><tr><td class = \"rowNumber\" style = \"font-weight: bold; text-align: right;\">2</td><td style = \"text-align: left;\">Venus Explorer</td><td style = \"text-align: right;\">101</td><td style = \"text-align: left;\">Spaceship</td></tr><tr><td class = \"rowNumber\" style = \"font-weight: bold; text-align: right;\">3</td><td style = \"text-align: left;\">%Lunar Rover</td><td style = \"text-align: right;\">102</td><td style = \"text-align: left;\">Rover</td></tr><tr><td class = \"rowNumber\" style = \"font-weight: bold; text-align: right;\">4</td><td style = \"text-align: left;\">30% Sun Filter</td><td style = \"text-align: right;\">103</td><td style = \"text-align: left;\">Sun Filter</td></tr></tbody></table></div>"
      ],
      "text/latex": [
       "\\begin{tabular}{r|ccc}\n",
       "\t& item & id & kind\\\\\n",
       "\t\\hline\n",
       "\t& String & Int64 & String\\\\\n",
       "\t\\hline\n",
       "\t1 & Mars Rover & 100 & Rover \\\\\n",
       "\t2 & Venus Explorer & 101 & Spaceship \\\\\n",
       "\t3 & \\%Lunar Rover & 102 & Rover \\\\\n",
       "\t4 & 30\\% Sun Filter & 103 & Sun Filter \\\\\n",
       "\\end{tabular}\n"
      ],
      "text/plain": [
       "\u001b[1m4×3 DataFrame\u001b[0m\n",
       "\u001b[1m Row \u001b[0m│\u001b[1m item           \u001b[0m\u001b[1m id    \u001b[0m\u001b[1m kind       \u001b[0m\n",
       "     │\u001b[90m String         \u001b[0m\u001b[90m Int64 \u001b[0m\u001b[90m String     \u001b[0m\n",
       "─────┼───────────────────────────────────\n",
       "   1 │ Mars Rover        100  Rover\n",
       "   2 │ Venus Explorer    101  Spaceship\n",
       "   3 │ %Lunar Rover      102  Rover\n",
       "   4 │ 30% Sun Filter    103  Sun Filter"
      ]
     },
     "metadata": {},
     "output_type": "display_data"
    }
   ],
   "source": [
    "for i in eachrow(inventory)\n",
    "\ti[:kind] = replace(i[:kind], \"rover\"=>\"Rover\")\n",
    "\ti[:kind] = replace(i[:kind], \"spaceship\"=>\"Spaceship\")\n",
    "end\n",
    "inventory"
   ]
  },
  {
   "attachments": {},
   "cell_type": "markdown",
   "metadata": {},
   "source": [
    "# How to “find and replace” with regex in a Julia dataframe"
   ]
  },
  {
   "cell_type": "code",
   "execution_count": 4,
   "metadata": {},
   "outputs": [
    {
     "data": {
      "text/html": [
       "<div><div style = \"float: left;\"><span>4×3 DataFrame</span></div><div style = \"clear: both;\"></div></div><div class = \"data-frame\" style = \"overflow-x: scroll;\"><table class = \"data-frame\" style = \"margin-bottom: 6px;\"><thead><tr class = \"header\"><th class = \"rowNumber\" style = \"font-weight: bold; text-align: right;\">Row</th><th style = \"text-align: left;\">item</th><th style = \"text-align: left;\">id</th><th style = \"text-align: left;\">kind</th></tr><tr class = \"subheader headerLastRow\"><th class = \"rowNumber\" style = \"font-weight: bold; text-align: right;\"></th><th title = \"String\" style = \"text-align: left;\">String</th><th title = \"Int64\" style = \"text-align: left;\">Int64</th><th title = \"String\" style = \"text-align: left;\">String</th></tr></thead><tbody><tr><td class = \"rowNumber\" style = \"font-weight: bold; text-align: right;\">1</td><td style = \"text-align: left;\">Mars Rover</td><td style = \"text-align: right;\">100</td><td style = \"text-align: left;\">Rover</td></tr><tr><td class = \"rowNumber\" style = \"font-weight: bold; text-align: right;\">2</td><td style = \"text-align: left;\">Venus Explorer</td><td style = \"text-align: right;\">101</td><td style = \"text-align: left;\">Spaceship</td></tr><tr><td class = \"rowNumber\" style = \"font-weight: bold; text-align: right;\">3</td><td style = \"text-align: left;\">Lunar Rover</td><td style = \"text-align: right;\">102</td><td style = \"text-align: left;\">Rover</td></tr><tr><td class = \"rowNumber\" style = \"font-weight: bold; text-align: right;\">4</td><td style = \"text-align: left;\">30% Sun Filter</td><td style = \"text-align: right;\">103</td><td style = \"text-align: left;\">Sun Filter</td></tr></tbody></table></div>"
      ],
      "text/latex": [
       "\\begin{tabular}{r|ccc}\n",
       "\t& item & id & kind\\\\\n",
       "\t\\hline\n",
       "\t& String & Int64 & String\\\\\n",
       "\t\\hline\n",
       "\t1 & Mars Rover & 100 & Rover \\\\\n",
       "\t2 & Venus Explorer & 101 & Spaceship \\\\\n",
       "\t3 & Lunar Rover & 102 & Rover \\\\\n",
       "\t4 & 30\\% Sun Filter & 103 & Sun Filter \\\\\n",
       "\\end{tabular}\n"
      ],
      "text/plain": [
       "\u001b[1m4×3 DataFrame\u001b[0m\n",
       "\u001b[1m Row \u001b[0m│\u001b[1m item           \u001b[0m\u001b[1m id    \u001b[0m\u001b[1m kind       \u001b[0m\n",
       "     │\u001b[90m String         \u001b[0m\u001b[90m Int64 \u001b[0m\u001b[90m String     \u001b[0m\n",
       "─────┼───────────────────────────────────\n",
       "   1 │ Mars Rover        100  Rover\n",
       "   2 │ Venus Explorer    101  Spaceship\n",
       "   3 │ Lunar Rover       102  Rover\n",
       "   4 │ 30% Sun Filter    103  Sun Filter"
      ]
     },
     "metadata": {},
     "output_type": "display_data"
    }
   ],
   "source": [
    "for i in eachrow(inventory)\n",
    "\ti[:item] = replace(i[:item], r\"^%\"=>\"\")\n",
    "end\n",
    "inventory\n",
    "\n",
    "# r\"^%\"=>\"\". It starts with the letter r, to signify that we are using regex. Next, we have double quotes surrounding our regex: \"^%\". The caret, ^ is a regex character which means “match the beginning of the string”. The percentage sign, %, is a literal match for a percentage sign"
   ]
  },
  {
   "attachments": {},
   "cell_type": "markdown",
   "metadata": {},
   "source": [
    "# How to filter a dataframe in Julia"
   ]
  },
  {
   "cell_type": "code",
   "execution_count": 6,
   "metadata": {},
   "outputs": [
    {
     "data": {
      "text/html": [
       "<div><div style = \"float: left;\"><span>2×3 DataFrame</span></div><div style = \"clear: both;\"></div></div><div class = \"data-frame\" style = \"overflow-x: scroll;\"><table class = \"data-frame\" style = \"margin-bottom: 6px;\"><thead><tr class = \"header\"><th class = \"rowNumber\" style = \"font-weight: bold; text-align: right;\">Row</th><th style = \"text-align: left;\">item</th><th style = \"text-align: left;\">id</th><th style = \"text-align: left;\">kind</th></tr><tr class = \"subheader headerLastRow\"><th class = \"rowNumber\" style = \"font-weight: bold; text-align: right;\"></th><th title = \"String\" style = \"text-align: left;\">String</th><th title = \"Int64\" style = \"text-align: left;\">Int64</th><th title = \"String\" style = \"text-align: left;\">String</th></tr></thead><tbody><tr><td class = \"rowNumber\" style = \"font-weight: bold; text-align: right;\">1</td><td style = \"text-align: left;\">Mars Rover</td><td style = \"text-align: right;\">100</td><td style = \"text-align: left;\">Rover</td></tr><tr><td class = \"rowNumber\" style = \"font-weight: bold; text-align: right;\">2</td><td style = \"text-align: left;\">Lunar Rover</td><td style = \"text-align: right;\">102</td><td style = \"text-align: left;\">Rover</td></tr></tbody></table></div>"
      ],
      "text/latex": [
       "\\begin{tabular}{r|ccc}\n",
       "\t& item & id & kind\\\\\n",
       "\t\\hline\n",
       "\t& String & Int64 & String\\\\\n",
       "\t\\hline\n",
       "\t1 & Mars Rover & 100 & Rover \\\\\n",
       "\t2 & Lunar Rover & 102 & Rover \\\\\n",
       "\\end{tabular}\n"
      ],
      "text/plain": [
       "\u001b[1m2×3 DataFrame\u001b[0m\n",
       "\u001b[1m Row \u001b[0m│\u001b[1m item        \u001b[0m\u001b[1m id    \u001b[0m\u001b[1m kind   \u001b[0m\n",
       "     │\u001b[90m String      \u001b[0m\u001b[90m Int64 \u001b[0m\u001b[90m String \u001b[0m\n",
       "─────┼────────────────────────────\n",
       "   1 │ Mars Rover     100  Rover\n",
       "   2 │ Lunar Rover    102  Rover"
      ]
     },
     "metadata": {},
     "output_type": "display_data"
    }
   ],
   "source": [
    "inventory = DataFrame(\n",
    "\titem = [\n",
    "\t\t\"Mars Rover\",\n",
    "\t\t\"Venus Explorer\",\n",
    "\t\t\"Lunar Rover\",\n",
    "\t\t\"30% Sun Filter\"\n",
    "\t],\n",
    "\tid = [\n",
    "\t\t100,\n",
    "\t\t101,\n",
    "\t\t102,\n",
    "\t\t103\n",
    "\t],\n",
    "\tkind = [\n",
    "\t\t\"Rover\",\n",
    "\t\t\"Spaceship\",\n",
    "\t\t\"Rover\",\n",
    "\t\t\"Sun Filter\"\n",
    "\t]\n",
    ")\n",
    "\n",
    "rovers = filter(\n",
    "\tx -> any(occursin.([\"Rover\"], x.item)),\n",
    "\tinventory\n",
    ")\n",
    "rovers"
   ]
  },
  {
   "attachments": {},
   "cell_type": "markdown",
   "metadata": {},
   "source": [
    "# How to join two dataframes in Julia"
   ]
  },
  {
   "cell_type": "code",
   "execution_count": 7,
   "metadata": {},
   "outputs": [
    {
     "data": {
      "text/html": [
       "<div><div style = \"float: left;\"><span>4×2 DataFrame</span></div><div style = \"clear: both;\"></div></div><div class = \"data-frame\" style = \"overflow-x: scroll;\"><table class = \"data-frame\" style = \"margin-bottom: 6px;\"><thead><tr class = \"header\"><th class = \"rowNumber\" style = \"font-weight: bold; text-align: right;\">Row</th><th style = \"text-align: left;\">item</th><th style = \"text-align: left;\">sku</th></tr><tr class = \"subheader headerLastRow\"><th class = \"rowNumber\" style = \"font-weight: bold; text-align: right;\"></th><th title = \"String\" style = \"text-align: left;\">String</th><th title = \"Int64\" style = \"text-align: left;\">Int64</th></tr></thead><tbody><tr><td class = \"rowNumber\" style = \"font-weight: bold; text-align: right;\">1</td><td style = \"text-align: left;\">Mars Rover</td><td style = \"text-align: right;\">34566</td></tr><tr><td class = \"rowNumber\" style = \"font-weight: bold; text-align: right;\">2</td><td style = \"text-align: left;\">Venus Explorer</td><td style = \"text-align: right;\">78945</td></tr><tr><td class = \"rowNumber\" style = \"font-weight: bold; text-align: right;\">3</td><td style = \"text-align: left;\">Lunar Rover</td><td style = \"text-align: right;\">15179</td></tr><tr><td class = \"rowNumber\" style = \"font-weight: bold; text-align: right;\">4</td><td style = \"text-align: left;\">30% Sun Filter</td><td style = \"text-align: right;\">77254</td></tr></tbody></table></div>"
      ],
      "text/latex": [
       "\\begin{tabular}{r|cc}\n",
       "\t& item & sku\\\\\n",
       "\t\\hline\n",
       "\t& String & Int64\\\\\n",
       "\t\\hline\n",
       "\t1 & Mars Rover & 34566 \\\\\n",
       "\t2 & Venus Explorer & 78945 \\\\\n",
       "\t3 & Lunar Rover & 15179 \\\\\n",
       "\t4 & 30\\% Sun Filter & 77254 \\\\\n",
       "\\end{tabular}\n"
      ],
      "text/plain": [
       "\u001b[1m4×2 DataFrame\u001b[0m\n",
       "\u001b[1m Row \u001b[0m│\u001b[1m item           \u001b[0m\u001b[1m sku   \u001b[0m\n",
       "     │\u001b[90m String         \u001b[0m\u001b[90m Int64 \u001b[0m\n",
       "─────┼───────────────────────\n",
       "   1 │ Mars Rover      34566\n",
       "   2 │ Venus Explorer  78945\n",
       "   3 │ Lunar Rover     15179\n",
       "   4 │ 30% Sun Filter  77254"
      ]
     },
     "metadata": {},
     "output_type": "display_data"
    }
   ],
   "source": [
    "sku = DataFrame(\n",
    "\titem = [\n",
    "\t\t\"Mars Rover\",\n",
    "\t\t\"Venus Explorer\",\n",
    "\t\t\"Lunar Rover\",\n",
    "\t\t\"30% Sun Filter\"\n",
    "\t],\n",
    "\tsku = [\n",
    "\t\t34566,\n",
    "\t\t78945,\n",
    "\t\t15179,\n",
    "\t\t77254\n",
    "\t\t]\n",
    ")"
   ]
  },
  {
   "cell_type": "code",
   "execution_count": 8,
   "metadata": {},
   "outputs": [
    {
     "data": {
      "text/html": [
       "<div><div style = \"float: left;\"><span>4×4 DataFrame</span></div><div style = \"clear: both;\"></div></div><div class = \"data-frame\" style = \"overflow-x: scroll;\"><table class = \"data-frame\" style = \"margin-bottom: 6px;\"><thead><tr class = \"header\"><th class = \"rowNumber\" style = \"font-weight: bold; text-align: right;\">Row</th><th style = \"text-align: left;\">item</th><th style = \"text-align: left;\">id</th><th style = \"text-align: left;\">kind</th><th style = \"text-align: left;\">sku</th></tr><tr class = \"subheader headerLastRow\"><th class = \"rowNumber\" style = \"font-weight: bold; text-align: right;\"></th><th title = \"String\" style = \"text-align: left;\">String</th><th title = \"Union{Missing, Int64}\" style = \"text-align: left;\">Int64?</th><th title = \"Union{Missing, String}\" style = \"text-align: left;\">String?</th><th title = \"Union{Missing, Int64}\" style = \"text-align: left;\">Int64?</th></tr></thead><tbody><tr><td class = \"rowNumber\" style = \"font-weight: bold; text-align: right;\">1</td><td style = \"text-align: left;\">Mars Rover</td><td style = \"text-align: right;\">100</td><td style = \"text-align: left;\">Rover</td><td style = \"text-align: right;\">34566</td></tr><tr><td class = \"rowNumber\" style = \"font-weight: bold; text-align: right;\">2</td><td style = \"text-align: left;\">Venus Explorer</td><td style = \"text-align: right;\">101</td><td style = \"text-align: left;\">Spaceship</td><td style = \"text-align: right;\">78945</td></tr><tr><td class = \"rowNumber\" style = \"font-weight: bold; text-align: right;\">3</td><td style = \"text-align: left;\">Lunar Rover</td><td style = \"text-align: right;\">102</td><td style = \"text-align: left;\">Rover</td><td style = \"text-align: right;\">15179</td></tr><tr><td class = \"rowNumber\" style = \"font-weight: bold; text-align: right;\">4</td><td style = \"text-align: left;\">30% Sun Filter</td><td style = \"text-align: right;\">103</td><td style = \"text-align: left;\">Sun Filter</td><td style = \"text-align: right;\">77254</td></tr></tbody></table></div>"
      ],
      "text/latex": [
       "\\begin{tabular}{r|cccc}\n",
       "\t& item & id & kind & sku\\\\\n",
       "\t\\hline\n",
       "\t& String & Int64? & String? & Int64?\\\\\n",
       "\t\\hline\n",
       "\t1 & Mars Rover & 100 & Rover & 34566 \\\\\n",
       "\t2 & Venus Explorer & 101 & Spaceship & 78945 \\\\\n",
       "\t3 & Lunar Rover & 102 & Rover & 15179 \\\\\n",
       "\t4 & 30\\% Sun Filter & 103 & Sun Filter & 77254 \\\\\n",
       "\\end{tabular}\n"
      ],
      "text/plain": [
       "\u001b[1m4×4 DataFrame\u001b[0m\n",
       "\u001b[1m Row \u001b[0m│\u001b[1m item           \u001b[0m\u001b[1m id     \u001b[0m\u001b[1m kind       \u001b[0m\u001b[1m sku    \u001b[0m\n",
       "     │\u001b[90m String         \u001b[0m\u001b[90m Int64? \u001b[0m\u001b[90m String?    \u001b[0m\u001b[90m Int64? \u001b[0m\n",
       "─────┼────────────────────────────────────────────\n",
       "   1 │ Mars Rover         100  Rover        34566\n",
       "   2 │ Venus Explorer     101  Spaceship    78945\n",
       "   3 │ Lunar Rover        102  Rover        15179\n",
       "   4 │ 30% Sun Filter     103  Sun Filter   77254"
      ]
     },
     "metadata": {},
     "output_type": "display_data"
    }
   ],
   "source": [
    "inventory_sku = outerjoin(inventory, sku, on = :item)"
   ]
  },
  {
   "attachments": {},
   "cell_type": "markdown",
   "metadata": {},
   "source": [
    "# How to use pivot tables in Julia dataframes"
   ]
  },
  {
   "cell_type": "code",
   "execution_count": 10,
   "metadata": {},
   "outputs": [
    {
     "data": {
      "text/html": [
       "<div><div style = \"float: left;\"><span>14×3 DataFrame</span></div><div style = \"clear: both;\"></div></div><div class = \"data-frame\" style = \"overflow-x: scroll;\"><table class = \"data-frame\" style = \"margin-bottom: 6px;\"><thead><tr class = \"header\"><th class = \"rowNumber\" style = \"font-weight: bold; text-align: right;\">Row</th><th style = \"text-align: left;\">date</th><th style = \"text-align: left;\">iso_week</th><th style = \"text-align: left;\">pings</th></tr><tr class = \"subheader headerLastRow\"><th class = \"rowNumber\" style = \"font-weight: bold; text-align: right;\"></th><th title = \"Date\" style = \"text-align: left;\">Date</th><th title = \"Int64\" style = \"text-align: left;\">Int64</th><th title = \"Int64\" style = \"text-align: left;\">Int64</th></tr></thead><tbody><tr><td class = \"rowNumber\" style = \"font-weight: bold; text-align: right;\">1</td><td style = \"text-align: left;\">2020-03-16</td><td style = \"text-align: right;\">12</td><td style = \"text-align: right;\">774</td></tr><tr><td class = \"rowNumber\" style = \"font-weight: bold; text-align: right;\">2</td><td style = \"text-align: left;\">2020-03-17</td><td style = \"text-align: right;\">12</td><td style = \"text-align: right;\">565</td></tr><tr><td class = \"rowNumber\" style = \"font-weight: bold; text-align: right;\">3</td><td style = \"text-align: left;\">2020-03-18</td><td style = \"text-align: right;\">12</td><td style = \"text-align: right;\">801</td></tr><tr><td class = \"rowNumber\" style = \"font-weight: bold; text-align: right;\">4</td><td style = \"text-align: left;\">2020-03-19</td><td style = \"text-align: right;\">12</td><td style = \"text-align: right;\">739</td></tr><tr><td class = \"rowNumber\" style = \"font-weight: bold; text-align: right;\">5</td><td style = \"text-align: left;\">2020-03-20</td><td style = \"text-align: right;\">12</td><td style = \"text-align: right;\">671</td></tr><tr><td class = \"rowNumber\" style = \"font-weight: bold; text-align: right;\">6</td><td style = \"text-align: left;\">2020-03-21</td><td style = \"text-align: right;\">12</td><td style = \"text-align: right;\">702</td></tr><tr><td class = \"rowNumber\" style = \"font-weight: bold; text-align: right;\">7</td><td style = \"text-align: left;\">2020-03-22</td><td style = \"text-align: right;\">12</td><td style = \"text-align: right;\">598</td></tr><tr><td class = \"rowNumber\" style = \"font-weight: bold; text-align: right;\">8</td><td style = \"text-align: left;\">2020-03-23</td><td style = \"text-align: right;\">13</td><td style = \"text-align: right;\">740</td></tr><tr><td class = \"rowNumber\" style = \"font-weight: bold; text-align: right;\">9</td><td style = \"text-align: left;\">2020-03-24</td><td style = \"text-align: right;\">13</td><td style = \"text-align: right;\">598</td></tr><tr><td class = \"rowNumber\" style = \"font-weight: bold; text-align: right;\">10</td><td style = \"text-align: left;\">2020-03-25</td><td style = \"text-align: right;\">13</td><td style = \"text-align: right;\">761</td></tr><tr><td class = \"rowNumber\" style = \"font-weight: bold; text-align: right;\">11</td><td style = \"text-align: left;\">2020-03-26</td><td style = \"text-align: right;\">13</td><td style = \"text-align: right;\">758</td></tr><tr><td class = \"rowNumber\" style = \"font-weight: bold; text-align: right;\">12</td><td style = \"text-align: left;\">2020-03-27</td><td style = \"text-align: right;\">13</td><td style = \"text-align: right;\">733</td></tr><tr><td class = \"rowNumber\" style = \"font-weight: bold; text-align: right;\">13</td><td style = \"text-align: left;\">2020-03-28</td><td style = \"text-align: right;\">13</td><td style = \"text-align: right;\">803</td></tr><tr><td class = \"rowNumber\" style = \"font-weight: bold; text-align: right;\">14</td><td style = \"text-align: left;\">2020-03-29</td><td style = \"text-align: right;\">13</td><td style = \"text-align: right;\">806</td></tr></tbody></table></div>"
      ],
      "text/latex": [
       "\\begin{tabular}{r|ccc}\n",
       "\t& date & iso\\_week & pings\\\\\n",
       "\t\\hline\n",
       "\t& Date & Int64 & Int64\\\\\n",
       "\t\\hline\n",
       "\t1 & 2020-03-16 & 12 & 774 \\\\\n",
       "\t2 & 2020-03-17 & 12 & 565 \\\\\n",
       "\t3 & 2020-03-18 & 12 & 801 \\\\\n",
       "\t4 & 2020-03-19 & 12 & 739 \\\\\n",
       "\t5 & 2020-03-20 & 12 & 671 \\\\\n",
       "\t6 & 2020-03-21 & 12 & 702 \\\\\n",
       "\t7 & 2020-03-22 & 12 & 598 \\\\\n",
       "\t8 & 2020-03-23 & 13 & 740 \\\\\n",
       "\t9 & 2020-03-24 & 13 & 598 \\\\\n",
       "\t10 & 2020-03-25 & 13 & 761 \\\\\n",
       "\t11 & 2020-03-26 & 13 & 758 \\\\\n",
       "\t12 & 2020-03-27 & 13 & 733 \\\\\n",
       "\t13 & 2020-03-28 & 13 & 803 \\\\\n",
       "\t14 & 2020-03-29 & 13 & 806 \\\\\n",
       "\\end{tabular}\n"
      ],
      "text/plain": [
       "\u001b[1m14×3 DataFrame\u001b[0m\n",
       "\u001b[1m Row \u001b[0m│\u001b[1m date       \u001b[0m\u001b[1m iso_week \u001b[0m\u001b[1m pings \u001b[0m\n",
       "     │\u001b[90m Date       \u001b[0m\u001b[90m Int64    \u001b[0m\u001b[90m Int64 \u001b[0m\n",
       "─────┼─────────────────────────────\n",
       "   1 │ 2020-03-16        12    774\n",
       "   2 │ 2020-03-17        12    565\n",
       "   3 │ 2020-03-18        12    801\n",
       "   4 │ 2020-03-19        12    739\n",
       "   5 │ 2020-03-20        12    671\n",
       "   6 │ 2020-03-21        12    702\n",
       "   7 │ 2020-03-22        12    598\n",
       "   8 │ 2020-03-23        13    740\n",
       "   9 │ 2020-03-24        13    598\n",
       "  10 │ 2020-03-25        13    761\n",
       "  11 │ 2020-03-26        13    758\n",
       "  12 │ 2020-03-27        13    733\n",
       "  13 │ 2020-03-28        13    803\n",
       "  14 │ 2020-03-29        13    806"
      ]
     },
     "metadata": {},
     "output_type": "display_data"
    }
   ],
   "source": [
    "using Dates\n",
    "hubble_pings = DataFrame(\n",
    "\tdate = [\n",
    "\t\tDate(2020,03,16),\n",
    "\t\tDate(2020,03,17),\n",
    "\t\tDate(2020,03,18),\n",
    "\t\tDate(2020,03,19),\n",
    "\t\tDate(2020,03,20),\n",
    "\t\tDate(2020,03,21),\n",
    "\t\tDate(2020,03,22),\n",
    "\t\tDate(2020,03,23),\n",
    "\t\tDate(2020,03,24),\n",
    "\t\tDate(2020,03,25),\n",
    "\t\tDate(2020,03,26),\n",
    "\t\tDate(2020,03,27),\n",
    "\t\tDate(2020,03,28),\n",
    "\t\tDate(2020,03,29)\n",
    "\t],\n",
    "\tiso_week = [\n",
    "\t\t12,\n",
    "\t\t12,\n",
    "\t\t12,\n",
    "\t\t12,\n",
    "\t\t12,\n",
    "\t\t12,\n",
    "\t\t12,\n",
    "\t\t13,\n",
    "\t\t13,\n",
    "\t\t13,\n",
    "\t\t13,\n",
    "\t\t13,\n",
    "\t\t13,\n",
    "\t\t13\n",
    "\t],\n",
    "\tpings = [\n",
    "\t\t774,\n",
    "\t\t565,\n",
    "\t\t801,\n",
    "\t\t739,\n",
    "\t\t671,\n",
    "\t\t702,\n",
    "\t\t598,\n",
    "\t\t740,\n",
    "\t\t598,\n",
    "\t\t761,\n",
    "\t\t758,\n",
    "\t\t733,\n",
    "\t\t803,\n",
    "\t\t806\n",
    "\t]\n",
    ")"
   ]
  },
  {
   "cell_type": "code",
   "execution_count": 11,
   "metadata": {},
   "outputs": [
    {
     "data": {
      "text/html": [
       "<div><div style = \"float: left;\"><span>2×2 DataFrame</span></div><div style = \"clear: both;\"></div></div><div class = \"data-frame\" style = \"overflow-x: scroll;\"><table class = \"data-frame\" style = \"margin-bottom: 6px;\"><thead><tr class = \"header\"><th class = \"rowNumber\" style = \"font-weight: bold; text-align: right;\">Row</th><th style = \"text-align: left;\">iso_week</th><th style = \"text-align: left;\">pings_sum</th></tr><tr class = \"subheader headerLastRow\"><th class = \"rowNumber\" style = \"font-weight: bold; text-align: right;\"></th><th title = \"Int64\" style = \"text-align: left;\">Int64</th><th title = \"Int64\" style = \"text-align: left;\">Int64</th></tr></thead><tbody><tr><td class = \"rowNumber\" style = \"font-weight: bold; text-align: right;\">1</td><td style = \"text-align: right;\">12</td><td style = \"text-align: right;\">4850</td></tr><tr><td class = \"rowNumber\" style = \"font-weight: bold; text-align: right;\">2</td><td style = \"text-align: right;\">13</td><td style = \"text-align: right;\">5199</td></tr></tbody></table></div>"
      ],
      "text/latex": [
       "\\begin{tabular}{r|cc}\n",
       "\t& iso\\_week & pings\\_sum\\\\\n",
       "\t\\hline\n",
       "\t& Int64 & Int64\\\\\n",
       "\t\\hline\n",
       "\t1 & 12 & 4850 \\\\\n",
       "\t2 & 13 & 5199 \\\\\n",
       "\\end{tabular}\n"
      ],
      "text/plain": [
       "\u001b[1m2×2 DataFrame\u001b[0m\n",
       "\u001b[1m Row \u001b[0m│\u001b[1m iso_week \u001b[0m\u001b[1m pings_sum \u001b[0m\n",
       "     │\u001b[90m Int64    \u001b[0m\u001b[90m Int64     \u001b[0m\n",
       "─────┼─────────────────────\n",
       "   1 │       12       4850\n",
       "   2 │       13       5199"
      ]
     },
     "metadata": {},
     "output_type": "display_data"
    }
   ],
   "source": [
    "hubble_pings_weekly = combine(\n",
    "\tgroupby(hubble_pings, :iso_week),\n",
    "\t:pings => sum\n",
    "\t)"
   ]
  }
 ],
 "metadata": {
  "kernelspec": {
   "display_name": "Julia 1.8.1",
   "language": "julia",
   "name": "julia-1.8"
  },
  "language_info": {
   "file_extension": ".jl",
   "mimetype": "application/julia",
   "name": "julia",
   "version": "1.8.1"
  },
  "orig_nbformat": 4
 },
 "nbformat": 4,
 "nbformat_minor": 2
}
